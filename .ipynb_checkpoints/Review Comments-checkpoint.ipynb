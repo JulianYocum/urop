{
 "cells": [
  {
   "cell_type": "code",
   "execution_count": 1,
   "id": "large-alert",
   "metadata": {},
   "outputs": [],
   "source": [
    "import time\n",
    "import matplotlib.pyplot as plt\n",
    "plt.rcParams[\"font.family\"] = 'serif'\n",
    "plt.rcParams[\"font.serif\"] = 'Times'\n",
    "plt.rcParams[\"axes.titlesize\"] = 16\n",
    "plt.rcParams[\"axes.labelsize\"] = 16\n",
    "plt.rcParams[\"xtick.labelsize\"] = 14\n",
    "plt.rcParams[\"ytick.labelsize\"] = 14\n",
    "plt.rcParams[\"legend.fontsize\"] = 12\n",
    "plt.rcParams[\"mathtext.rm\"] = \"serif\"\n",
    "plt.rcParams[\"mathtext.it\"] = \"serif:italic\"\n",
    "plt.rcParams[\"mathtext.bf\"] = \"serif:bold\"\n",
    "plt.rcParams[\"mathtext.fontset\"] = \"custom\"\n",
    "#plt.rcParams['text.usetex'] = True\n",
    "import numpy as np\n",
    "\n",
    "from DataAnalysis import DataAnalysis\n",
    "#%run new_DataAnalysis.ipynb|\n",
    "from MonteCarlo import MonteCarlo\n",
    "from Helper import *"
   ]
  },
  {
   "cell_type": "code",
   "execution_count": 2,
   "id": "elementary-intro",
   "metadata": {},
   "outputs": [
    {
     "ename": "NameError",
     "evalue": "name 'sigma_unsat' is not defined",
     "output_type": "error",
     "traceback": [
      "\u001b[0;31m---------------------------------------------------------------------------\u001b[0m",
      "\u001b[0;31mNameError\u001b[0m                                 Traceback (most recent call last)",
      "\u001b[0;32m<ipython-input-2-b1e16f7551b2>\u001b[0m in \u001b[0;36m<module>\u001b[0;34m\u001b[0m\n\u001b[0;32m----> 1\u001b[0;31m \u001b[0mmc\u001b[0m \u001b[0;34m=\u001b[0m \u001b[0mMonteCarlo\u001b[0m\u001b[0;34m(\u001b[0m\u001b[0mnum_tracks\u001b[0m\u001b[0;34m=\u001b[0m\u001b[0;36m1\u001b[0m\u001b[0;34m,\u001b[0m \u001b[0mtrack_type\u001b[0m\u001b[0;34m=\u001b[0m\u001b[0;34m\"sasso\"\u001b[0m\u001b[0;34m,\u001b[0m \u001b[0mparticle_type\u001b[0m\u001b[0;34m=\u001b[0m\u001b[0;34m\"muon\"\u001b[0m\u001b[0;34m,\u001b[0m \u001b[0msaturation_cap\u001b[0m\u001b[0;34m=\u001b[0m\u001b[0;36m20000\u001b[0m\u001b[0;34m)\u001b[0m\u001b[0;34m\u001b[0m\u001b[0;34m\u001b[0m\u001b[0m\n\u001b[0m\u001b[1;32m      2\u001b[0m \u001b[0mmc\u001b[0m\u001b[0;34m.\u001b[0m\u001b[0mfilter_fit\u001b[0m\u001b[0;34m(\u001b[0m\u001b[0;36m100\u001b[0m\u001b[0;34m,\u001b[0m \u001b[0;36m3\u001b[0m\u001b[0;34m)\u001b[0m\u001b[0;34m\u001b[0m\u001b[0;34m\u001b[0m\u001b[0m\n",
      "\u001b[0;32m~/UROP/Winslow/MonteCarlo.py\u001b[0m in \u001b[0;36m__init__\u001b[0;34m(self, num_tracks, track_type, particle_type, allow_empty_tracks, flux_square_size, saturation_cap, noise)\u001b[0m\n\u001b[1;32m     22\u001b[0m         \u001b[0mself\u001b[0m\u001b[0;34m.\u001b[0m\u001b[0mflux_square_size\u001b[0m \u001b[0;34m=\u001b[0m \u001b[0mflux_square_size\u001b[0m\u001b[0;34m\u001b[0m\u001b[0;34m\u001b[0m\u001b[0m\n\u001b[1;32m     23\u001b[0m         \u001b[0mself\u001b[0m\u001b[0;34m.\u001b[0m\u001b[0msaturation_cap\u001b[0m \u001b[0;34m=\u001b[0m \u001b[0msaturation_cap\u001b[0m\u001b[0;34m\u001b[0m\u001b[0;34m\u001b[0m\u001b[0m\n\u001b[0;32m---> 24\u001b[0;31m         \u001b[0mself\u001b[0m\u001b[0;34m.\u001b[0m\u001b[0msigma_unsat\u001b[0m \u001b[0;34m=\u001b[0m \u001b[0msigma_unsat\u001b[0m\u001b[0;34m\u001b[0m\u001b[0;34m\u001b[0m\u001b[0m\n\u001b[0m\u001b[1;32m     25\u001b[0m         \u001b[0mself\u001b[0m\u001b[0;34m.\u001b[0m\u001b[0msigma_sat\u001b[0m \u001b[0;34m=\u001b[0m \u001b[0msigma_sat\u001b[0m\u001b[0;34m\u001b[0m\u001b[0;34m\u001b[0m\u001b[0m\n\u001b[1;32m     26\u001b[0m \u001b[0;34m\u001b[0m\u001b[0m\n",
      "\u001b[0;31mNameError\u001b[0m: name 'sigma_unsat' is not defined"
     ]
    }
   ],
   "source": [
    "mc = MonteCarlo(num_tracks=1, track_type=\"sasso\", particle_type=\"muon\", saturation_cap=20000, noise=True)\n",
    "mc.filter_fit(100, 3)"
   ]
  },
  {
   "cell_type": "code",
   "execution_count": null,
   "id": "pregnant-serum",
   "metadata": {},
   "outputs": [],
   "source": [
    "mc.get_eventdf()"
   ]
  },
  {
   "cell_type": "code",
   "execution_count": null,
   "id": "distinguished-hearing",
   "metadata": {},
   "outputs": [],
   "source": [
    "test = DataAnalysis()\n",
    "start = time.time()\n",
    "#test.set_eventdf(mc.get_cluster(range(1)))\n",
    "test.set_eventdf(mc.get_eventdf())\n",
    "\n",
    "#test.arrange_clusters(3, 1.0) # >= 5 events, <= 1.0 seconds\n",
    "test.make_clusterdf(pop_num=200, gen_num=200, verbose=True, save_pareto=False)"
   ]
  },
  {
   "cell_type": "code",
   "execution_count": null,
   "id": "fifth-climate",
   "metadata": {},
   "outputs": [],
   "source": [
    "test2 = DataAnalysis()\n",
    "start = time.time()\n",
    "#test.set_eventdf(mc.get_cluster(range(1)))\n",
    "df = mc.get_eventdf().copy()\n",
    "df['IsSaturated'] = False\n",
    "test2.set_eventdf(df)\n",
    "\n",
    "#test.arrange_clusters(3, 1.0) # >= 5 events, <= 1.0 seconds\n",
    "test2.make_clusterdf(pop_num=200, gen_num=200, verbose=True, save_pareto=False)"
   ]
  },
  {
   "cell_type": "code",
   "execution_count": null,
   "id": "electronic-squad",
   "metadata": {},
   "outputs": [],
   "source": [
    "mc.get_clusterdf()"
   ]
  },
  {
   "cell_type": "code",
   "execution_count": null,
   "id": "alleged-intensity",
   "metadata": {},
   "outputs": [],
   "source": [
    "test.get_clusterdf()"
   ]
  },
  {
   "cell_type": "code",
   "execution_count": null,
   "id": "tropical-count",
   "metadata": {},
   "outputs": [],
   "source": [
    "test2.get_clusterdf()"
   ]
  },
  {
   "cell_type": "code",
   "execution_count": null,
   "id": "written-japan",
   "metadata": {},
   "outputs": [],
   "source": [
    "plt.figure(figsize=(5,5))\n",
    "plt.title(\"Pathlengths\")\n",
    "plt.scatter( np.array(mc.get_eventdf()['PathLength']), np.array(test.get_eventdf()['PathLength']), s=5)\n",
    "plt.ylabel(\"mm (reconstructed)\")\n",
    "plt.xlabel(\"mm (generated)\")\n",
    "plt.xlim(0,80)\n",
    "plt.ylim(0,80)\n",
    "\n",
    "plt.figure(figsize=(5,5))\n",
    "plt.title(\"Pathlengths\")\n",
    "plt.scatter( np.array(mc.get_eventdf()['PathLength']), np.array(test2.get_eventdf()['PathLength']), s=5)\n",
    "plt.ylabel(\"mm (reconstructed)\")\n",
    "plt.xlabel(\"mm (generated)\")\n",
    "plt.xlim(0,80)\n",
    "plt.ylim(0,80)"
   ]
  },
  {
   "cell_type": "code",
   "execution_count": null,
   "id": "processed-battle",
   "metadata": {},
   "outputs": [],
   "source": [
    "test.get_eventdf()"
   ]
  },
  {
   "cell_type": "code",
   "execution_count": null,
   "id": "worse-interim",
   "metadata": {},
   "outputs": [],
   "source": [
    "np.random.normal(0,1)"
   ]
  },
  {
   "cell_type": "code",
   "execution_count": null,
   "id": "accomplished-plenty",
   "metadata": {},
   "outputs": [],
   "source": [
    "dist = np.random.normal(10,2.5,100)\n",
    "plt.hist(dist, np.linspace(-20,20,40))\n",
    "\n",
    "x = dist + (dist <= 10) * np.random.normal(-2,0,100) + (dist > 10) * np.random.normal(2,0,100)\n",
    "plt.figure()\n",
    "plt.hist(x, np.linspace(-20,20,40))"
   ]
  },
  {
   "cell_type": "code",
   "execution_count": null,
   "id": "sixth-louisville",
   "metadata": {},
   "outputs": [],
   "source": []
  }
 ],
 "metadata": {
  "kernelspec": {
   "display_name": "Python 3",
   "language": "python",
   "name": "python3"
  },
  "language_info": {
   "codemirror_mode": {
    "name": "ipython",
    "version": 3
   },
   "file_extension": ".py",
   "mimetype": "text/x-python",
   "name": "python",
   "nbconvert_exporter": "python",
   "pygments_lexer": "ipython3",
   "version": "3.9.1"
  }
 },
 "nbformat": 4,
 "nbformat_minor": 5
}
