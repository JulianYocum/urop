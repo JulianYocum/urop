{
 "cells": [
  {
   "cell_type": "code",
   "execution_count": 1,
   "metadata": {},
   "outputs": [],
   "source": [
    "import copy\n",
    "#packages we'll need\n",
    "\n",
    "%matplotlib inline \n",
    "#this is a ``magic command'' specific to display plots in-line in a jupyter notebook\n",
    "#normally you would plot by calling a plt.show()\n",
    "\n",
    "\n",
    "from matplotlib.colors import LogNorm\n",
    "#need this for the colourbar of the 2D histogram\n",
    "\n",
    "\n",
    "%run DataAnalysis.ipynb\n",
    "%run MonteCarlo.ipynb"
   ]
  },
  {
   "cell_type": "code",
   "execution_count": 2,
   "metadata": {},
   "outputs": [],
   "source": [
    "data = DataAnalysis()\n",
    "mc = MonteCarlo(1000, \"isotropic\")\n",
    "\n",
    "data.set_eventdf(mc.get_data())"
   ]
  },
  {
   "cell_type": "code",
   "execution_count": 3,
   "metadata": {},
   "outputs": [
    {
     "data": {
      "text/html": [
       "<div>\n",
       "<style scoped>\n",
       "    .dataframe tbody tr th:only-of-type {\n",
       "        vertical-align: middle;\n",
       "    }\n",
       "\n",
       "    .dataframe tbody tr th {\n",
       "        vertical-align: top;\n",
       "    }\n",
       "\n",
       "    .dataframe thead th {\n",
       "        text-align: right;\n",
       "    }\n",
       "</style>\n",
       "<table border=\"1\" class=\"dataframe\">\n",
       "  <thead>\n",
       "    <tr style=\"text-align: right;\">\n",
       "      <th></th>\n",
       "      <th>Run</th>\n",
       "      <th>Channel</th>\n",
       "      <th>Time</th>\n",
       "      <th>NumPulses</th>\n",
       "      <th>OFdelay</th>\n",
       "      <th>MaxPosInWindow</th>\n",
       "      <th>SelectedEnergy</th>\n",
       "      <th>Baseline</th>\n",
       "      <th>MaxToBaseline</th>\n",
       "      <th>StabAmp</th>\n",
       "    </tr>\n",
       "  </thead>\n",
       "  <tbody>\n",
       "    <tr>\n",
       "      <th>0</th>\n",
       "      <td>0</td>\n",
       "      <td>402</td>\n",
       "      <td>2.221567e+03</td>\n",
       "      <td>1</td>\n",
       "      <td>3.2</td>\n",
       "      <td>3.2</td>\n",
       "      <td>0.0</td>\n",
       "      <td>-2000.0</td>\n",
       "      <td>12000.0</td>\n",
       "      <td>0.0</td>\n",
       "    </tr>\n",
       "    <tr>\n",
       "      <th>1</th>\n",
       "      <td>0</td>\n",
       "      <td>440</td>\n",
       "      <td>2.221567e+03</td>\n",
       "      <td>1</td>\n",
       "      <td>3.2</td>\n",
       "      <td>3.2</td>\n",
       "      <td>0.0</td>\n",
       "      <td>-2000.0</td>\n",
       "      <td>12000.0</td>\n",
       "      <td>0.0</td>\n",
       "    </tr>\n",
       "    <tr>\n",
       "      <th>2</th>\n",
       "      <td>0</td>\n",
       "      <td>452</td>\n",
       "      <td>2.221567e+03</td>\n",
       "      <td>1</td>\n",
       "      <td>3.2</td>\n",
       "      <td>3.2</td>\n",
       "      <td>0.0</td>\n",
       "      <td>-2000.0</td>\n",
       "      <td>12000.0</td>\n",
       "      <td>0.0</td>\n",
       "    </tr>\n",
       "    <tr>\n",
       "      <th>3</th>\n",
       "      <td>0</td>\n",
       "      <td>45</td>\n",
       "      <td>2.406563e+03</td>\n",
       "      <td>1</td>\n",
       "      <td>3.2</td>\n",
       "      <td>3.2</td>\n",
       "      <td>0.0</td>\n",
       "      <td>-2000.0</td>\n",
       "      <td>12000.0</td>\n",
       "      <td>0.0</td>\n",
       "    </tr>\n",
       "    <tr>\n",
       "      <th>4</th>\n",
       "      <td>0</td>\n",
       "      <td>46</td>\n",
       "      <td>2.406563e+03</td>\n",
       "      <td>1</td>\n",
       "      <td>3.2</td>\n",
       "      <td>3.2</td>\n",
       "      <td>0.0</td>\n",
       "      <td>-2000.0</td>\n",
       "      <td>12000.0</td>\n",
       "      <td>0.0</td>\n",
       "    </tr>\n",
       "    <tr>\n",
       "      <th>...</th>\n",
       "      <td>...</td>\n",
       "      <td>...</td>\n",
       "      <td>...</td>\n",
       "      <td>...</td>\n",
       "      <td>...</td>\n",
       "      <td>...</td>\n",
       "      <td>...</td>\n",
       "      <td>...</td>\n",
       "      <td>...</td>\n",
       "      <td>...</td>\n",
       "    </tr>\n",
       "    <tr>\n",
       "      <th>7329</th>\n",
       "      <td>0</td>\n",
       "      <td>282</td>\n",
       "      <td>2.759909e+06</td>\n",
       "      <td>1</td>\n",
       "      <td>3.2</td>\n",
       "      <td>3.2</td>\n",
       "      <td>0.0</td>\n",
       "      <td>-2000.0</td>\n",
       "      <td>12000.0</td>\n",
       "      <td>0.0</td>\n",
       "    </tr>\n",
       "    <tr>\n",
       "      <th>7330</th>\n",
       "      <td>0</td>\n",
       "      <td>294</td>\n",
       "      <td>2.759909e+06</td>\n",
       "      <td>1</td>\n",
       "      <td>3.2</td>\n",
       "      <td>3.2</td>\n",
       "      <td>0.0</td>\n",
       "      <td>-2000.0</td>\n",
       "      <td>12000.0</td>\n",
       "      <td>0.0</td>\n",
       "    </tr>\n",
       "    <tr>\n",
       "      <th>7331</th>\n",
       "      <td>0</td>\n",
       "      <td>423</td>\n",
       "      <td>2.759909e+06</td>\n",
       "      <td>1</td>\n",
       "      <td>3.2</td>\n",
       "      <td>3.2</td>\n",
       "      <td>0.0</td>\n",
       "      <td>-2000.0</td>\n",
       "      <td>12000.0</td>\n",
       "      <td>0.0</td>\n",
       "    </tr>\n",
       "    <tr>\n",
       "      <th>7332</th>\n",
       "      <td>0</td>\n",
       "      <td>424</td>\n",
       "      <td>2.759909e+06</td>\n",
       "      <td>1</td>\n",
       "      <td>3.2</td>\n",
       "      <td>3.2</td>\n",
       "      <td>0.0</td>\n",
       "      <td>-2000.0</td>\n",
       "      <td>12000.0</td>\n",
       "      <td>0.0</td>\n",
       "    </tr>\n",
       "    <tr>\n",
       "      <th>7333</th>\n",
       "      <td>0</td>\n",
       "      <td>436</td>\n",
       "      <td>2.759909e+06</td>\n",
       "      <td>1</td>\n",
       "      <td>3.2</td>\n",
       "      <td>3.2</td>\n",
       "      <td>0.0</td>\n",
       "      <td>-2000.0</td>\n",
       "      <td>12000.0</td>\n",
       "      <td>0.0</td>\n",
       "    </tr>\n",
       "  </tbody>\n",
       "</table>\n",
       "<p>7334 rows × 10 columns</p>\n",
       "</div>"
      ],
      "text/plain": [
       "      Run  Channel          Time  NumPulses  OFdelay  MaxPosInWindow  \\\n",
       "0       0      402  2.221567e+03          1      3.2             3.2   \n",
       "1       0      440  2.221567e+03          1      3.2             3.2   \n",
       "2       0      452  2.221567e+03          1      3.2             3.2   \n",
       "3       0       45  2.406563e+03          1      3.2             3.2   \n",
       "4       0       46  2.406563e+03          1      3.2             3.2   \n",
       "...   ...      ...           ...        ...      ...             ...   \n",
       "7329    0      282  2.759909e+06          1      3.2             3.2   \n",
       "7330    0      294  2.759909e+06          1      3.2             3.2   \n",
       "7331    0      423  2.759909e+06          1      3.2             3.2   \n",
       "7332    0      424  2.759909e+06          1      3.2             3.2   \n",
       "7333    0      436  2.759909e+06          1      3.2             3.2   \n",
       "\n",
       "      SelectedEnergy  Baseline  MaxToBaseline  StabAmp  \n",
       "0                0.0   -2000.0        12000.0      0.0  \n",
       "1                0.0   -2000.0        12000.0      0.0  \n",
       "2                0.0   -2000.0        12000.0      0.0  \n",
       "3                0.0   -2000.0        12000.0      0.0  \n",
       "4                0.0   -2000.0        12000.0      0.0  \n",
       "...              ...       ...            ...      ...  \n",
       "7329             0.0   -2000.0        12000.0      0.0  \n",
       "7330             0.0   -2000.0        12000.0      0.0  \n",
       "7331             0.0   -2000.0        12000.0      0.0  \n",
       "7332             0.0   -2000.0        12000.0      0.0  \n",
       "7333             0.0   -2000.0        12000.0      0.0  \n",
       "\n",
       "[7334 rows x 10 columns]"
      ]
     },
     "execution_count": 3,
     "metadata": {},
     "output_type": "execute_result"
    }
   ],
   "source": [
    "data.get_eventdf()"
   ]
  },
  {
   "cell_type": "code",
   "execution_count": 4,
   "metadata": {},
   "outputs": [],
   "source": [
    "noisydata = copy.deepcopy(data)"
   ]
  },
  {
   "cell_type": "code",
   "execution_count": 5,
   "metadata": {},
   "outputs": [
    {
     "data": {
      "text/plain": [
       "<__main__.DataAnalysis at 0x11aa8ae90>"
      ]
     },
     "execution_count": 5,
     "metadata": {},
     "output_type": "execute_result"
    }
   ],
   "source": [
    "data.filter_noisy()"
   ]
  },
  {
   "cell_type": "code",
   "execution_count": null,
   "metadata": {},
   "outputs": [],
   "source": []
  },
  {
   "cell_type": "code",
   "execution_count": 6,
   "metadata": {},
   "outputs": [
    {
     "data": {
      "text/plain": [
       "Text(0, 0.5, 'Number of Channels')"
      ]
     },
     "execution_count": 6,
     "metadata": {},
     "output_type": "execute_result"
    },
    {
     "data": {
      "image/png": "[encoded data removed]",
      "text/plain": [
       "<Figure size 720x360 with 1 Axes>"
      ]
     },
     "metadata": {
      "needs_background": "light"
     },
     "output_type": "display_data"
    },
    {
     "data": {
      "image/png": "[encoded data removed]",
      "text/plain": [
       "<Figure size 504x360 with 1 Axes>"
      ]
     },
     "metadata": {
      "needs_background": "light"
     },
     "output_type": "display_data"
    }
   ],
   "source": [
    "plt.figure(figsize=(10,5)) # lets you make a custom size for your plot\n",
    "array1=plt.hist(noisydata.get_eventdf()['Channel'].values, np.linspace(0,989,990) , histtype='step', color='r')#np.linspace function is hlepful for generating bins\n",
    "array2=plt.hist(data.get_eventdf()['Channel'].values, np.linspace(0,989,990), histtype='step')#np.linspace function is hlepful for generating bins\n",
    "plt.title(\"Events Per Channel (filtered)\", fontsize=16)\n",
    "plt.xlabel('Channel #',fontsize=14)\n",
    "plt.ylabel('Channel Events',fontsize=14)\n",
    "#plt.gca().set_yscale(\"log\")\n",
    "\n",
    "\n",
    "#plt.savefig('plots/pdf/EventsPerChannel.pdf',bbox_inches = \"tight\")\n",
    "#plt.savefig('plots/png/EventsPerChannel.png',dpi=300,bbox_inches = \"tight\")\n",
    "\n",
    "\n",
    "plt.figure(figsize=(7,5))\n",
    "plt.hist(array1[0], np.linspace(1,6,100), histtype='step', color='r')\n",
    "plt.hist(array2[0], np.linspace(1,6,100),color='b', histtype='step')\n",
    "plt.title(\"Event Frequencies (filtered)\",fontsize=16)\n",
    "plt.xlabel('Events Per Channel',fontsize=14)\n",
    "plt.ylabel('Number of Channels',fontsize=14)\n",
    "#plt.gca().set_yscale(\"log\")\n",
    "#plt.gca().set_xscale(\"log\")\n",
    "\n",
    "\n",
    "#plt.savefig('plots/pdf/EventFrequency.pdf',bbox_inches = \"tight\")\n",
    "#plt.savefig('plots/png/EventFrequency.png',dpi=300,bbox_inches = \"tight\")"
   ]
  },
  {
   "cell_type": "code",
   "execution_count": 7,
   "metadata": {},
   "outputs": [],
   "source": [
    "quietdata = copy.deepcopy(data)"
   ]
  },
  {
   "cell_type": "code",
   "execution_count": 8,
   "metadata": {},
   "outputs": [
    {
     "data": {
      "text/plain": [
       "<__main__.DataAnalysis at 0x11aa8ae90>"
      ]
     },
     "execution_count": 8,
     "metadata": {},
     "output_type": "execute_result"
    }
   ],
   "source": [
    "data.filter_baseline()"
   ]
  },
  {
   "cell_type": "code",
   "execution_count": 9,
   "metadata": {},
   "outputs": [
    {
     "data": {
      "image/png": "[encoded data removed]",
      "text/plain": [
       "<Figure size 720x360 with 1 Axes>"
      ]
     },
     "metadata": {
      "needs_background": "light"
     },
     "output_type": "display_data"
    }
   ],
   "source": [
    "plt.figure(figsize=(10,5)) # lets you make a custom size for your plot\n",
    "#plt.tick_params(labelsize=16) #adjust fontsize of axis ticks\n",
    "plt.title(\"Events vs Baseline+MaxToBaseline\", fontsize=16)\n",
    "\n",
    "plt.ylabel('Number of Events',fontsize=14)\n",
    "plt.xlabel('MaxToBaseline+Baseline',fontsize=14)\n",
    "plt.hist(quietdata.get_eventdf()['MaxToBaseline'].values+quietdata.get_eventdf()['Baseline'].values, np.linspace(0,9000,9001), histtype='step', color='r')\n",
    "array=plt.hist(data.get_eventdf()['MaxToBaseline'].values+data.get_eventdf()['Baseline'].values, np.linspace(0,9800,9801), histtype='step')\n",
    "#plt.gca().set_yscale(\"log\")\n",
    "\n",
    "#plt.savefig('plots/pdf/Baseline_MaxToBaseline.pdf',bbox_inches = \"tight\")\n",
    "#plt.savefig('plots/png/Baseline_MaxToBaseline.png',dpi=300,bbox_inches = \"tight\")"
   ]
  },
  {
   "cell_type": "code",
   "execution_count": 10,
   "metadata": {},
   "outputs": [
    {
     "data": {
      "image/png": "[encoded data removed]",
      "text/plain": [
       "<Figure size 720x360 with 1 Axes>"
      ]
     },
     "metadata": {
      "needs_background": "light"
     },
     "output_type": "display_data"
    }
   ],
   "source": [
    "plt.figure(figsize=(10,5)) # lets you make a custom size for your plot\n",
    "#plt.tick_params(labelsize=16) #adjust fontsize of axis ticks\n",
    "plt.title(\"Selected Energy\", fontsize=16)\n",
    "\n",
    "plt.ylabel('Number of Events',fontsize=14)\n",
    "plt.xlabel('MaxToBaseline+Baseline',fontsize=14)\n",
    "#plt.hist(quietdata.get_eventdf()['MaxToBaseline'].values+quietdata.get_eventdf()['Baseline'].values, np.linspace(0,9000,9001), histtype='step', color='r')\n",
    "array=plt.hist(data.get_eventdf()['SelectedEnergy'].values, np.linspace(0,40000,200), histtype='step')\n",
    "plt.gca().set_yscale(\"log\")\n",
    "\n"
   ]
  },
  {
   "cell_type": "code",
   "execution_count": null,
   "metadata": {},
   "outputs": [],
   "source": [
    "event_threshold = 3\n",
    "time_threshold = 1\n",
    "\n",
    "data.arrange_clusters(event_threshold, time_threshold)\n",
    "data.make_clusterdf()"
   ]
  },
  {
   "cell_type": "code",
   "execution_count": null,
   "metadata": {},
   "outputs": [],
   "source": [
    "messydata = copy.deepcopy(data)"
   ]
  },
  {
   "cell_type": "code",
   "execution_count": null,
   "metadata": {},
   "outputs": [],
   "source": [
    "messydata.get_clusterdf()"
   ]
  },
  {
   "cell_type": "code",
   "execution_count": null,
   "metadata": {},
   "outputs": [],
   "source": [
    "print(\"Messy cluster rate: \" + str(messydata.get_clusterrate()))\n",
    "data.filter_clusterdf(2.5, 3) #(NRMSE, channels)\n",
    "print(\"Filtered cluster rate: \" + str(data.get_clusterrate()))"
   ]
  },
  {
   "cell_type": "code",
   "execution_count": null,
   "metadata": {},
   "outputs": [],
   "source": [
    "data.get_clusterdf()"
   ]
  },
  {
   "cell_type": "code",
   "execution_count": null,
   "metadata": {},
   "outputs": [],
   "source": [
    "fig, (ax1, ax2) = plt.subplots(1, 2, figsize=(10,5))\n",
    "#fig.suptitle('Horizontally stacked subplots')\n",
    "plt.subplots_adjust(wspace=.4)\n",
    "\n",
    "ax1.set_title(\"Events Distribution\", fontsize=16)\n",
    "ax1.set_xlabel(\"Events in Cluster\", fontsize=14)\n",
    "ax1.set_ylabel(\"Num of Clusters\", fontsize=14)\n",
    "ax1.hist(messydata.get_clusterdf()[\"Events\"], np.linspace(0,30,31), histtype='step', color='r')\n",
    "ax1.hist(data.get_clusterdf()[\"Events\"], np.linspace(0,30,31), histtype='step')\n",
    "\n",
    "\n",
    "\n",
    "ax2.set_title(\"Channel Distribution\", fontsize=16)\n",
    "ax2.set_xlabel(\"Channels in Cluster\", fontsize=14)\n",
    "ax2.set_ylabel(\"Num of Clusters\", fontsize=14)\n",
    "ax2.hist(messydata.get_clusterdf()[\"Channels\"], np.linspace(0,30,31), histtype='step', color='r')\n",
    "array = ax2.hist(data.get_clusterdf()[\"Channels\"], np.linspace(0,30,31), histtype='step')\n",
    "\n",
    "\n",
    "plt.savefig('plots/pdf/Event+Channel_Dist.pdf',bbox_inches = \"tight\")\n",
    "plt.savefig('plots/png/Event+Channel_Dist.png',dpi=300,bbox_inches = \"tight\")"
   ]
  },
  {
   "cell_type": "code",
   "execution_count": null,
   "metadata": {},
   "outputs": [],
   "source": [
    "plt.figure(figsize=(8,5))\n",
    "array = plt.hist(messydata.get_clusterdf()[\"TimeSpread\"],np.linspace(0,10,100), histtype='step', color='r')\n",
    "array = plt.hist(data.get_clusterdf()[\"TimeSpread\"],np.linspace(0,10,100), histtype='step')\n",
    "plt.title(\"Time Spread Frequency\", fontsize=16)\n",
    "plt.xlabel(\"Time Spread (s)\", fontsize=14)\n",
    "plt.ylabel(\"Occurance\", fontsize=14)\n",
    "plt.tick_params(labelsize=12) #adjust fontsize of axis ticks\n",
    "\n",
    "#plt.ylim(0,50)\n",
    "\n",
    "#plt.savefig('plots/pdf/Pre_TimeSpread.pdf',bbox_inches = \"tight\")\n",
    "#plt.savefig('plots/png/Pre_TimeSpread.png',dpi=300,bbox_inches = \"tight\")\n",
    "\n",
    "\n",
    "#plt.figure()\n",
    "#plt.title(\"Time Spread Frequency (filtered)\", fontsize=16)\n",
    "#plt.xlabel(\"Time Spread (s)\", fontsize=14)\n",
    "#plt.ylabel(\"Occurance\", fontsize=14)\n",
    "\n",
    "#plt.ylim(0,50)\n",
    "\n",
    "plt.savefig('plots/pdf/TimeSpread.pdf',bbox_inches = \"tight\")\n",
    "plt.savefig('plots/png/TimeSpread.png',dpi=300,bbox_inches = \"tight\")"
   ]
  },
  {
   "cell_type": "code",
   "execution_count": null,
   "metadata": {},
   "outputs": [],
   "source": [
    "plt.figure(figsize=(8,5)) # lets you make a custom size for your plot\n",
    "plt.tick_params(labelsize=12) #adjust fontsize of axis ticks\n",
    "plt.title(\"NRMSE Distribution\", fontsize=16)\n",
    "plt.ylabel('# of Clusters',fontsize=14)\n",
    "plt.xlabel('Normalized Root Mean Square Deviation',fontsize=14)\n",
    "\n",
    "array=plt.hist(messydata.get_clusterdf()['NRMSE'], np.linspace(0,2,20), histtype='step', color='r')\n",
    "array=plt.hist(data.get_clusterdf()['NRMSE'], np.linspace(0,2,20), histtype='step')\n",
    "\n",
    "#line = plt.axvline(1)\n",
    "\n",
    "#plt.savefig('plots/pdf/NRMSE.pdf',bbox_inches = \"tight\")\n",
    "#plt.savefig('plots/png/NRMSE.png',dpi=300,bbox_inches = \"tight\")\n",
    "\n",
    "\n",
    "#############################################################################################################\n",
    "#\n",
    "#plt.figure(figsize=(20,5)) # lets you make a custom size for your plot\n",
    "#plt.tick_params(labelsize=16) #adjust fontsize of axis ticks\n",
    "#plt.title(\"Filtered NRMSE Distribution\", fontsize=18)\n",
    "#plt.ylabel('# of Clusters',fontsize=16)\n",
    "#plt.xlabel('Normalized Root Mean Square Deviation',fontsize=16)\n",
    "\n",
    "#array=plt.hist(get_channelspercluster(timeclusterdata), np.linspace(0,40,41), histtype='step')\n",
    "\n",
    "#array=plt.hist(clusterdata['Zenith(deg)'], np.linspace(0,180,181), histtype='step')\n",
    "\n",
    "\n",
    "#line=plt.axvline(1)\n",
    "#plt.gca().set_yscale(\"log\")\n",
    "\n",
    "#plt.savefig('plots/pdf/NRMSE.pdf',bbox_inches = \"tight\")\n",
    "#plt.savefig('plots/png/NRMSE.png',dpi=300,bbox_inches = \"tight\")"
   ]
  },
  {
   "cell_type": "code",
   "execution_count": null,
   "metadata": {},
   "outputs": [],
   "source": [
    "plt.figure()\n",
    "plt.title(\"Extra Channels (unfiltered)\", fontsize=16)\n",
    "plt.xlabel(\"Extra Channels in Cluster\", fontsize=14)\n",
    "plt.ylabel(\"Occurance\", fontsize=14)\n",
    "\n",
    "array = plt.hist(messydata.get_clusterdf()['ExtraCh'], np.linspace(0,20,21), color='r', histtype='step')\n",
    "plt.gca().set_yscale(\"log\")\n",
    "\n",
    "#plt.savefig('plots/pdf/Pre_ExtraChannels.pdf',bbox_inches = \"tight\")\n",
    "#plt.savefig('plots/png/Pre_ExtraChannels.png',dpi=300,bbox_inches = \"tight\")\n",
    "\n",
    "\n",
    "#plt.figure()\n",
    "#plt.title(\"Extra Channels (filtered)\", fontsize=16)\n",
    "#plt.xlabel(\"Extra Channels in Cluster\", fontsize=14)\n",
    "#plt.ylabel(\"Occurance\", fontsize=14)\n",
    "\n",
    "array = plt.hist(data.get_clusterdf()['ExtraCh'], np.linspace(0,20,21), histtype='step')\n",
    "#plt.gca().set_yscale(\"log\")\n",
    "\n",
    "#plt.savefig('plots/pdf/ExtraChannels.pdf',bbox_inches = \"tight\")\n",
    "#plt.savefig('plots/png/ExtraChannels.png',dpi=300,bbox_inches = \"tight\")"
   ]
  },
  {
   "cell_type": "code",
   "execution_count": null,
   "metadata": {},
   "outputs": [],
   "source": [
    "plt.figure()\n",
    "plt.title(\"Missing Channels\", fontsize=16)\n",
    "plt.xlabel(\"Missing Channels in Cluster\", fontsize=14)\n",
    "plt.ylabel(\"Occurance\", fontsize=14)\n",
    "array = plt.hist(messydata.get_clusterdf()['MissingCh'], np.linspace(0,12,13), color='r')\n",
    "\n",
    "#plt.savefig('plots/pdf/Pre_MissingChannels.pdf',bbox_inches = \"tight\")\n",
    "#plt.savefig('plots/png/Pre_MissingChannels.png',dpi=300,bbox_inches = \"tight\")\n",
    "\n",
    "\n",
    "#plt.figure()\n",
    "#plt.title(\"Missing Channels (filtered)\", fontsize=16)\n",
    "#plt.xlabel(\"Missing Channels in Cluster\", fontsize=14)\n",
    "#plt.ylabel(\"Occurance\", fontsize=14)\n",
    "array = plt.hist(data.get_clusterdf()['MissingCh'], np.linspace(0,12,13))\n",
    "\n",
    "#plt.savefig('plots/pdf/MissingChannels.pdf',bbox_inches = \"tight\")\n",
    "#plt.savefig('plots/png/MissingChannels.png',dpi=300,bbox_inches = \"tight\")\n"
   ]
  },
  {
   "cell_type": "code",
   "execution_count": null,
   "metadata": {},
   "outputs": [],
   "source": []
  },
  {
   "cell_type": "code",
   "execution_count": null,
   "metadata": {},
   "outputs": [],
   "source": [
    "plt.figure(figsize=(20,5)) # lets you make a custom size for your plot\n",
    "plt.tick_params(labelsize=16) #adjust fontsize of axis ticks\n",
    "plt.title(\"Projected Zenith Angle Distrubtion\", fontsize=18)\n",
    "plt.ylabel('# of Clusters',fontsize=16)\n",
    "plt.xlabel('Zenith Angle (rad)',fontsize=16)\n",
    "\n",
    "#array=plt.hist(get_channelspercluster(timeclusterdata), np.linspace(0,40,41), histtype='step')\n",
    "\n",
    "#array=plt.hist(clusterdata['Zenith(deg)'], np.linspace(0,100,40), histtype='step')\n",
    "array=plt.hist(data.get_clusterdf()['Zenith'], np.linspace(0,math.pi/2,20), histtype='step')\n",
    "\n",
    "#plt.savefig('plots/pdf/Zenith.pdf',bbox_inches = \"tight\")\n",
    "#plt.savefig('plots/png/Zenith.png',dpi=300,bbox_inches = \"tight\")"
   ]
  },
  {
   "cell_type": "code",
   "execution_count": null,
   "metadata": {},
   "outputs": [],
   "source": [
    "plt.figure(figsize=(20,5)) # lets you make a custom size for your plot\n",
    "plt.tick_params(labelsize=16) #adjust fontsize of axis ticks\n",
    "plt.title(\"Real Zenith Angle Distrubtion\", fontsize=18)\n",
    "plt.ylabel('# of Clusters',fontsize=16)\n",
    "plt.xlabel('Zenith Angle (rad)',fontsize=16)\n",
    "\n",
    "#array=plt.hist(get_channelspercluster(timeclusterdata), np.linspace(0,40,41), histtype='step')\n",
    "\n",
    "#array=plt.hist(clusterdata['Zenith(deg)'], np.linspace(0,100,40), histtype='step')\n",
    "array=plt.hist([data.zenith(mc.get_tracks()[i]) for i in range(len(mc.get_tracks()))], np.linspace(0,math.pi/2,20), histtype='step')\n",
    "\n",
    "#plt.savefig('plots/pdf/Zenith.pdf',bbox_inches = \"tight\")\n",
    "#plt.savefig('plots/png/Zenith.png',dpi=300,bbox_inches = \"tight\")"
   ]
  },
  {
   "cell_type": "code",
   "execution_count": null,
   "metadata": {},
   "outputs": [],
   "source": [
    "plt.figure(figsize=(20,5)) # lets you make a custom size for your plot\n",
    "plt.tick_params(labelsize=16) #adjust fontsize of axis ticks\n",
    "plt.title(\"Projected Zenith Angle Distrubtion\", fontsize=18)\n",
    "plt.ylabel('# of Clusters',fontsize=16)\n",
    "plt.xlabel('Cos(Zenith)',fontsize=16)\n",
    "array = plt.hist([math.cos(x) for x in data.get_clusterdf()['Zenith']], np.linspace(0,1.01,40), histtype='step')\n",
    "\n",
    "#plt.savefig('plots/pdf/CosZenith.pdf',bbox_inches = \"tight\")\n",
    "#plt.savefig('plots/png/CosZenith.png',dpi=300,bbox_inches = \"tight\")"
   ]
  },
  {
   "cell_type": "code",
   "execution_count": null,
   "metadata": {},
   "outputs": [],
   "source": [
    "plt.figure(figsize=(20,5)) # lets you make a custom size for your plot\n",
    "plt.tick_params(labelsize=16) #adjust fontsize of axis ticks\n",
    "plt.title(\"Real Zenith Angle Distrubtion\", fontsize=18)\n",
    "plt.ylabel('# of Clusters',fontsize=16)\n",
    "plt.xlabel('Cos(Zenith)',fontsize=16)\n",
    "array = plt.hist([math.cos(data.zenith(mc.get_tracks()[i])) for i in range(len(mc.get_tracks()))], np.linspace(0,1.01,40), histtype='step')\n",
    "\n",
    "#plt.ylim(0,55)\n",
    "#plt.savefig('plots/pdf/CosZenith.pdf',bbox_inches = \"tight\")\n",
    "#plt.savefig('plots/png/CosZenith.png',dpi=300,bbox_inches = \"tight\")"
   ]
  },
  {
   "cell_type": "code",
   "execution_count": null,
   "metadata": {},
   "outputs": [],
   "source": [
    "plt.figure(figsize=(20,5)) # lets you make a custom size for your plot\n",
    "plt.tick_params(labelsize=16) #adjust fontsize of axis ticks\n",
    "plt.title(\"Azimuthal Angle Distribution\", fontsize=18)\n",
    "plt.ylabel('# of Clusters',fontsize=16)\n",
    "plt.xlabel('Azimuthal Angle (rad)',fontsize=16)\n",
    "\n",
    "#array=plt.hist(get_channelspercluster(timeclusterdata), np.linspace(0,40,41), histtype='step')\n",
    "\n",
    "#array=plt.hist(clusterdata['Zenith(deg)'], np.linspace(0,100,40), histtype='step')\n",
    "array=plt.hist(data.get_clusterdf()['Azimuth'], np.linspace(-math.pi/2,math.pi/2,90), histtype='step')\n",
    "\n",
    "#plt.savefig('plots/pdf/Azimuth.pdf',bbox_inches = \"tight\")\n",
    "#plt.savefig('plots/png/Azimuth.png',dpi=300,bbox_inches = \"tight\")"
   ]
  },
  {
   "cell_type": "code",
   "execution_count": null,
   "metadata": {},
   "outputs": [],
   "source": [
    "plt.figure(figsize=(5,5)) # lets you make a custom size for your plot\n",
    "plt.tick_params(labelsize=16) #adjust fontsize of axis ticks\n",
    "plt.title(\"Azimuth vs Zenith Angles\", fontsize=18)\n",
    "plt.ylabel('Azimuth (rad)',fontsize=16)\n",
    "plt.xlabel('Zenith (rad)',fontsize=16)\n",
    "\n",
    "array = plt.scatter(data.get_clusterdf()['Zenith'], data.get_clusterdf()['Azimuth'])\n",
    "\n",
    "#plt.savefig('plots/pdf/Azimuth_vs_Zenith.pdf',bbox_inches = \"tight\")\n",
    "#plt.savefig('plots/png/Azimuth_vs_Zenith.png',dpi=300,bbox_inches = \"tight\")"
   ]
  },
  {
   "cell_type": "code",
   "execution_count": null,
   "metadata": {},
   "outputs": [],
   "source": [
    "plt.figure(figsize=(20,5)) # lets you make a custom size for your plot\n",
    "plt.tick_params(labelsize=16) #adjust fontsize of axis ticks\n",
    "plt.title(\"Clusters Over Time\", fontsize=18)\n",
    "plt.ylabel('Clusters',fontsize=16)\n",
    "plt.xlabel('Start Time',fontsize=16)\n",
    "array=plt.hist(data.get_clusterdf()['StartTime'], np.linspace(0,2760000,30), histtype='step')\n",
    "#plt.gca().set_yscale(\"log\")\n",
    "\n",
    "plt.savefig('plots/pdf/ClusterTimes.pdf',bbox_inches = \"tight\")\n",
    "plt.savefig('plots/png/ClusterTimes.png',dpi=300,bbox_inches = \"tight\")"
   ]
  },
  {
   "cell_type": "code",
   "execution_count": null,
   "metadata": {},
   "outputs": [],
   "source": [
    "data.get_clusterdf().loc[(data.get_clusterdf()['Channels'] >= 10) & (data.get_clusterdf()['MissingCh'] <= 3)]"
   ]
  },
  {
   "cell_type": "code",
   "execution_count": null,
   "metadata": {},
   "outputs": [],
   "source": [
    "data.get_clusterdf().loc[(data.get_clusterdf()['MissingCh'] >= 10)]"
   ]
  },
  {
   "cell_type": "code",
   "execution_count": null,
   "metadata": {},
   "outputs": [],
   "source": []
  },
  {
   "cell_type": "code",
   "execution_count": null,
   "metadata": {},
   "outputs": [],
   "source": [
    "data.show_cluster(17)"
   ]
  },
  {
   "cell_type": "code",
   "execution_count": null,
   "metadata": {},
   "outputs": [],
   "source": [
    "data.show_simulation(17)"
   ]
  },
  {
   "cell_type": "markdown",
   "metadata": {},
   "source": [
    "# data.show_cluster([2,6,9])"
   ]
  },
  {
   "cell_type": "code",
   "execution_count": null,
   "metadata": {},
   "outputs": [],
   "source": [
    "data.show_cluster(0)"
   ]
  },
  {
   "cell_type": "code",
   "execution_count": null,
   "metadata": {},
   "outputs": [],
   "source": []
  },
  {
   "cell_type": "code",
   "execution_count": null,
   "metadata": {},
   "outputs": [],
   "source": []
  },
  {
   "cell_type": "code",
   "execution_count": null,
   "metadata": {},
   "outputs": [],
   "source": []
  },
  {
   "cell_type": "code",
   "execution_count": null,
   "metadata": {},
   "outputs": [],
   "source": []
  },
  {
   "cell_type": "code",
   "execution_count": null,
   "metadata": {},
   "outputs": [],
   "source": []
  }
 ],
 "metadata": {
  "kernelspec": {
   "display_name": "Python 3",
   "language": "python",
   "name": "python3"
  },
  "language_info": {
   "codemirror_mode": {
    "name": "ipython",
    "version": 3
   },
   "file_extension": ".py",
   "mimetype": "text/x-python",
   "name": "python",
   "nbconvert_exporter": "python",
   "pygments_lexer": "ipython3",
   "version": "3.7.6"
  }
 },
 "nbformat": 4,
 "nbformat_minor": 4
}
