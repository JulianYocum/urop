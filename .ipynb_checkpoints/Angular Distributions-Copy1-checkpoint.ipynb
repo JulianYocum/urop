{
 "cells": [
  {
   "cell_type": "code",
   "execution_count": 122,
   "metadata": {},
   "outputs": [
    {
     "name": "stdout",
     "output_type": "stream",
     "text": [
      "0.8145277073226161\n",
      "1.1026213746172724\n",
      "\n",
      "0.8145277073226161\n",
      "1.7351286955400171\n",
      "\n",
      "-0.1189983393127294 0.7176018838891142 0.6862120164202946\n"
     ]
    }
   ],
   "source": [
    "%run MonteCarlo.ipynb\n",
    "da = testDataAnalysis()"
   ]
  },
  {
   "cell_type": "code",
   "execution_count": 123,
   "metadata": {},
   "outputs": [
    {
     "data": {
      "text/plain": [
       "7305"
      ]
     },
     "execution_count": 123,
     "metadata": {},
     "output_type": "execute_result"
    }
   ],
   "source": [
    "#mc = MonteCarlo(10000, \"sasso\")\n",
    "mc = testDataAnalysis()\n",
    "#mc.load_eventdf('data/path/MC_events.csv')\n",
    "mc.load_clusterdf('data/mc_clusters.csv')\n",
    "#mc.filter_fit(3.5, 5) #(NRMSE, channels)\n",
    "#mc.clusterdf = mc.clusterdf[mc.clusterdf['Channels'] >= 5]\n",
    "len(mc.get_clusterdf())"
   ]
  },
  {
   "cell_type": "code",
   "execution_count": 126,
   "metadata": {},
   "outputs": [
    {
     "data": {
      "text/html": [
       "<div>\n",
       "<style scoped>\n",
       "    .dataframe tbody tr th:only-of-type {\n",
       "        vertical-align: middle;\n",
       "    }\n",
       "\n",
       "    .dataframe tbody tr th {\n",
       "        vertical-align: top;\n",
       "    }\n",
       "\n",
       "    .dataframe thead th {\n",
       "        text-align: right;\n",
       "    }\n",
       "</style>\n",
       "<table border=\"1\" class=\"dataframe\">\n",
       "  <thead>\n",
       "    <tr style=\"text-align: right;\">\n",
       "      <th></th>\n",
       "      <th>Cluster</th>\n",
       "      <th>Events</th>\n",
       "      <th>Channels</th>\n",
       "      <th>StartTime</th>\n",
       "      <th>TimeSpread</th>\n",
       "      <th>NRMSE</th>\n",
       "      <th>Zenith</th>\n",
       "      <th>Azimuth</th>\n",
       "      <th>ExtraCh</th>\n",
       "      <th>MissingCh</th>\n",
       "      <th>Fitline</th>\n",
       "    </tr>\n",
       "  </thead>\n",
       "  <tbody>\n",
       "    <tr>\n",
       "      <th>0</th>\n",
       "      <td>0</td>\n",
       "      <td>7</td>\n",
       "      <td>7</td>\n",
       "      <td>5116.891</td>\n",
       "      <td>0.490</td>\n",
       "      <td>0.863855</td>\n",
       "      <td>0.439735</td>\n",
       "      <td>0.709775</td>\n",
       "      <td>2</td>\n",
       "      <td>0</td>\n",
       "      <td>[-172.242857, -142.8, -16.571429, 0.414633, -0...</td>\n",
       "    </tr>\n",
       "    <tr>\n",
       "      <th>1</th>\n",
       "      <td>1</td>\n",
       "      <td>6</td>\n",
       "      <td>6</td>\n",
       "      <td>7194.337</td>\n",
       "      <td>0.502</td>\n",
       "      <td>0.669948</td>\n",
       "      <td>0.411524</td>\n",
       "      <td>0.712750</td>\n",
       "      <td>1</td>\n",
       "      <td>0</td>\n",
       "      <td>[49.0, 63.7, 67.666667, -0.389876, 0.089454, -...</td>\n",
       "    </tr>\n",
       "    <tr>\n",
       "      <th>8</th>\n",
       "      <td>8</td>\n",
       "      <td>6</td>\n",
       "      <td>5</td>\n",
       "      <td>26158.403</td>\n",
       "      <td>0.232</td>\n",
       "      <td>0.909552</td>\n",
       "      <td>0.367959</td>\n",
       "      <td>1.523701</td>\n",
       "      <td>0</td>\n",
       "      <td>0</td>\n",
       "      <td>[303.9, -127.4, 232.0, 0.299814, 0.198756, -0....</td>\n",
       "    </tr>\n",
       "    <tr>\n",
       "      <th>9</th>\n",
       "      <td>9</td>\n",
       "      <td>6</td>\n",
       "      <td>6</td>\n",
       "      <td>27250.906</td>\n",
       "      <td>1.288</td>\n",
       "      <td>0.965081</td>\n",
       "      <td>0.940728</td>\n",
       "      <td>0.514621</td>\n",
       "      <td>0</td>\n",
       "      <td>0</td>\n",
       "      <td>[230.4, 213.15, -270.666667, -0.736551, 0.3321...</td>\n",
       "    </tr>\n",
       "    <tr>\n",
       "      <th>10</th>\n",
       "      <td>10</td>\n",
       "      <td>6</td>\n",
       "      <td>6</td>\n",
       "      <td>29660.033</td>\n",
       "      <td>0.226</td>\n",
       "      <td>1.108767</td>\n",
       "      <td>0.630169</td>\n",
       "      <td>-1.085072</td>\n",
       "      <td>0</td>\n",
       "      <td>1</td>\n",
       "      <td>[205.9, -181.3, 154.666667, 0.257677, 0.529958...</td>\n",
       "    </tr>\n",
       "    <tr>\n",
       "      <th>...</th>\n",
       "      <td>...</td>\n",
       "      <td>...</td>\n",
       "      <td>...</td>\n",
       "      <td>...</td>\n",
       "      <td>...</td>\n",
       "      <td>...</td>\n",
       "      <td>...</td>\n",
       "      <td>...</td>\n",
       "      <td>...</td>\n",
       "      <td>...</td>\n",
       "      <td>...</td>\n",
       "    </tr>\n",
       "    <tr>\n",
       "      <th>780</th>\n",
       "      <td>780</td>\n",
       "      <td>11</td>\n",
       "      <td>8</td>\n",
       "      <td>2710760.519</td>\n",
       "      <td>0.903</td>\n",
       "      <td>1.621933</td>\n",
       "      <td>0.649071</td>\n",
       "      <td>0.845823</td>\n",
       "      <td>13</td>\n",
       "      <td>5</td>\n",
       "      <td>[-29.427273, 192.436364, 131.818182, -0.601865...</td>\n",
       "    </tr>\n",
       "    <tr>\n",
       "      <th>785</th>\n",
       "      <td>785</td>\n",
       "      <td>11</td>\n",
       "      <td>11</td>\n",
       "      <td>2728511.764</td>\n",
       "      <td>0.730</td>\n",
       "      <td>0.937628</td>\n",
       "      <td>0.560170</td>\n",
       "      <td>0.194438</td>\n",
       "      <td>2</td>\n",
       "      <td>1</td>\n",
       "      <td>[-189.790909, -117.6, -63.272727, -0.390988, 0...</td>\n",
       "    </tr>\n",
       "    <tr>\n",
       "      <th>787</th>\n",
       "      <td>787</td>\n",
       "      <td>8</td>\n",
       "      <td>8</td>\n",
       "      <td>2747006.328</td>\n",
       "      <td>0.537</td>\n",
       "      <td>0.913063</td>\n",
       "      <td>1.170785</td>\n",
       "      <td>-0.458192</td>\n",
       "      <td>1</td>\n",
       "      <td>0</td>\n",
       "      <td>[7.425, 91.875, -268.25, 0.159742, -0.907098, ...</td>\n",
       "    </tr>\n",
       "    <tr>\n",
       "      <th>788</th>\n",
       "      <td>788</td>\n",
       "      <td>5</td>\n",
       "      <td>5</td>\n",
       "      <td>2747961.339</td>\n",
       "      <td>0.108</td>\n",
       "      <td>1.404850</td>\n",
       "      <td>0.953917</td>\n",
       "      <td>-1.518449</td>\n",
       "      <td>0</td>\n",
       "      <td>2</td>\n",
       "      <td>[-288.06, -164.64, -324.8, -0.631759, -0.51597...</td>\n",
       "    </tr>\n",
       "    <tr>\n",
       "      <th>791</th>\n",
       "      <td>791</td>\n",
       "      <td>8</td>\n",
       "      <td>8</td>\n",
       "      <td>2752773.395</td>\n",
       "      <td>0.908</td>\n",
       "      <td>1.475887</td>\n",
       "      <td>0.964406</td>\n",
       "      <td>-0.278596</td>\n",
       "      <td>4</td>\n",
       "      <td>1</td>\n",
       "      <td>[-238.875, 16.5375, -166.75, 0.28478, -0.77078...</td>\n",
       "    </tr>\n",
       "  </tbody>\n",
       "</table>\n",
       "<p>369 rows × 11 columns</p>\n",
       "</div>"
      ],
      "text/plain": [
       "     Cluster  Events  Channels    StartTime  TimeSpread     NRMSE    Zenith  \\\n",
       "0          0       7         7     5116.891       0.490  0.863855  0.439735   \n",
       "1          1       6         6     7194.337       0.502  0.669948  0.411524   \n",
       "8          8       6         5    26158.403       0.232  0.909552  0.367959   \n",
       "9          9       6         6    27250.906       1.288  0.965081  0.940728   \n",
       "10        10       6         6    29660.033       0.226  1.108767  0.630169   \n",
       "..       ...     ...       ...          ...         ...       ...       ...   \n",
       "780      780      11         8  2710760.519       0.903  1.621933  0.649071   \n",
       "785      785      11        11  2728511.764       0.730  0.937628  0.560170   \n",
       "787      787       8         8  2747006.328       0.537  0.913063  1.170785   \n",
       "788      788       5         5  2747961.339       0.108  1.404850  0.953917   \n",
       "791      791       8         8  2752773.395       0.908  1.475887  0.964406   \n",
       "\n",
       "      Azimuth  ExtraCh  MissingCh  \\\n",
       "0    0.709775        2          0   \n",
       "1    0.712750        1          0   \n",
       "8    1.523701        0          0   \n",
       "9    0.514621        0          0   \n",
       "10  -1.085072        0          1   \n",
       "..        ...      ...        ...   \n",
       "780  0.845823       13          5   \n",
       "785  0.194438        2          1   \n",
       "787 -0.458192        1          0   \n",
       "788 -1.518449        0          2   \n",
       "791 -0.278596        4          1   \n",
       "\n",
       "                                               Fitline  \n",
       "0    [-172.242857, -142.8, -16.571429, 0.414633, -0...  \n",
       "1    [49.0, 63.7, 67.666667, -0.389876, 0.089454, -...  \n",
       "8    [303.9, -127.4, 232.0, 0.299814, 0.198756, -0....  \n",
       "9    [230.4, 213.15, -270.666667, -0.736551, 0.3321...  \n",
       "10   [205.9, -181.3, 154.666667, 0.257677, 0.529958...  \n",
       "..                                                 ...  \n",
       "780  [-29.427273, 192.436364, 131.818182, -0.601865...  \n",
       "785  [-189.790909, -117.6, -63.272727, -0.390988, 0...  \n",
       "787  [7.425, 91.875, -268.25, 0.159742, -0.907098, ...  \n",
       "788  [-288.06, -164.64, -324.8, -0.631759, -0.51597...  \n",
       "791  [-238.875, 16.5375, -166.75, 0.28478, -0.77078...  \n",
       "\n",
       "[369 rows x 11 columns]"
      ]
     },
     "execution_count": 126,
     "metadata": {},
     "output_type": "execute_result"
    }
   ],
   "source": [
    "data = testDataAnalysis()\n",
    "data.load_eventdf('data/tmp/raw_events.csv')\n",
    "data.load_clusterdf('data/tmp/basic_clusters.csv')\n",
    "data.filter_fit(3.5, 5) #(NRMSE, channels)\n",
    "len(data.get_clusterdf())\n",
    "\n",
    "#df = data.get_clusterdf()['Azimuth'].values * 180 / np.pi - 90\n",
    "#df += (df < -90 ) * 180\n",
    "#data.clusterdf['Azimuth'] = df * np.pi/180\n",
    "\n",
    "data.get_clusterdf()"
   ]
  },
  {
   "cell_type": "code",
   "execution_count": 128,
   "metadata": {},
   "outputs": [
    {
     "data": {
      "text/plain": [
       "(-100.0, 100.0)"
      ]
     },
     "execution_count": 128,
     "metadata": {},
     "output_type": "execute_result"
    },
    {
     "data": {
      "image/png": "[encoded data removed]",
      "text/plain": [
       "<Figure size 432x288 with 1 Axes>"
      ]
     },
     "metadata": {
      "needs_background": "light"
     },
     "output_type": "display_data"
    },
    {
     "data": {
      "image/png": "[encoded data removed]",
      "text/plain": [
       "<Figure size 1440x360 with 1 Axes>"
      ]
     },
     "metadata": {
      "needs_background": "light"
     },
     "output_type": "display_data"
    }
   ],
   "source": [
    "#### plt.figure()\n",
    "#array=plt.hist([phi*180/np.pi for phi in mc.get_clusterdf()['Azimuth']], np.linspace(-90, 90,20), histtype='step')\n",
    "array=plt.hist([da.azimuth(line)*180/np.pi for line in mc.get_clusterdf()['Fitline']], np.linspace(-90, 90,40), histtype='step')\n",
    "\n",
    "\n",
    "plt.figure(figsize=(20,5)) # lets you make a custom size for your plot\n",
    "plt.tick_params(labelsize=16) #adjust fontsize of axis ticks\n",
    "plt.title(\"Azimuthal Angle Distribution\", fontsize=18)\n",
    "plt.ylabel('# of Clusters',fontsize=16)\n",
    "plt.xlabel('Azimuthal Angle (deg)',fontsize=16)\n",
    "\n",
    "#plt.ylim(0,15)\n",
    "\n",
    "#array=plt.hist(get_channelspercluster(timeclusterdata), np.linspace(0,40,41), histtype='step')\n",
    "\n",
    "#plt.hist([phi*180/np.pi for phi in data.get_clusterdf()['Azimuth']], np.linspace(-90,90,40), histtype='step')\n",
    "plt.hist([da.azimuth(line)*180/np.pi for line in data.get_clusterdf()['Fitline']], np.linspace(-90,90,40), histtype='step')\n",
    "\n",
    "\n",
    "\n",
    "bounds = np.array([(array[1][i] + array[1][i+1])/2  for i in range(len(array[1]) - 1)])\n",
    "plt.scatter(bounds, array[0] * 369 / len(mc.get_clusterdf()))\n",
    "\n",
    "plt.xlim(-100,100)"
   ]
  },
  {
   "cell_type": "code",
   "execution_count": 82,
   "metadata": {},
   "outputs": [
    {
     "data": {
      "text/plain": [
       "<matplotlib.collections.PathCollection at 0x12731b190>"
      ]
     },
     "execution_count": 82,
     "metadata": {},
     "output_type": "execute_result"
    },
    {
     "data": {
      "image/png": "[encoded data removed]",
      "text/plain": [
       "<Figure size 432x288 with 1 Axes>"
      ]
     },
     "metadata": {
      "needs_background": "light"
     },
     "output_type": "display_data"
    },
    {
     "data": {
      "image/png": "[encoded data removed]",
      "text/plain": [
       "<Figure size 1440x360 with 1 Axes>"
      ]
     },
     "metadata": {
      "needs_background": "light"
     },
     "output_type": "display_data"
    }
   ],
   "source": [
    "array = plt.hist([math.cos(x) for x in mc.get_clusterdf()['Zenith']], np.linspace(0,1,40), histtype='step')\n",
    "\n",
    "plt.figure(figsize=(20,5)) # lets you make a custom size for your plot\n",
    "plt.tick_params(labelsize=16) #adjust fontsize of axis ticks\n",
    "plt.title(\"Zenith Angle Distrubtion\", fontsize=18)\n",
    "plt.ylabel('# of Clusters',fontsize=16)\n",
    "plt.xlabel('Cos(Zenith)',fontsize=16)\n",
    "plt.hist([math.cos(x) for x in data.get_clusterdf()['Zenith']], np.linspace(0,1,40), histtype='step')\n",
    "\n",
    "bounds = [(array[1][i] + array[1][i+1])/2  for i in range(len(array[1]) - 1)]\n",
    "plt.scatter(bounds, array[0] * 369 / len(mc.get_clusterdf()))"
   ]
  },
  {
   "cell_type": "code",
   "execution_count": null,
   "metadata": {},
   "outputs": [],
   "source": []
  }
 ],
 "metadata": {
  "kernelspec": {
   "display_name": "Python 3",
   "language": "python",
   "name": "python3"
  },
  "language_info": {
   "codemirror_mode": {
    "name": "ipython",
    "version": 3
   },
   "file_extension": ".py",
   "mimetype": "text/x-python",
   "name": "python",
   "nbconvert_exporter": "python",
   "pygments_lexer": "ipython3",
   "version": "3.7.6"
  }
 },
 "nbformat": 4,
 "nbformat_minor": 4
}
