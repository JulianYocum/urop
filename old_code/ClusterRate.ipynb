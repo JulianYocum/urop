{
 "cells": [
  {
   "cell_type": "code",
   "execution_count": 22,
   "metadata": {},
   "outputs": [
    {
     "name": "stdout",
     "output_type": "stream",
     "text": [
      "['3564', '350259', 'Background', 'Mar 31, 2019 08:01:14+0000', 'Mar 31, 2019 21:14:10+0000', '13:12:56', 'OK (0)']\n",
      "['3564', '350260', 'Background', 'Mar 31, 2019 23:08:27+0000', 'Apr 01, 2019 16:52:02+0000', '17:43:35', 'OK (0)']\n",
      "['3564', '350261', 'Background', 'Apr 01, 2019 17:55:33+0000', 'Apr 02, 2019 15:05:07+0000', '21:09:34', 'OK (0)']\n",
      "['3564', '350262', 'Background', 'Apr 02, 2019 15:43:42+0000', 'Apr 03, 2019 12:24:29+0000', '20:40:47', 'OK (0)']\n",
      "['3564', '350263', 'Background', 'Apr 03, 2019 13:04:17+0000', 'Apr 04, 2019 10:02:54+0000', '20:58:37', 'OK (0)']\n",
      "['3564', '350264', 'Background', 'Apr 04, 2019 14:23:49+0000', 'Apr 05, 2019 14:13:16+0000', '23:49:27', 'OK (0)']\n",
      "['3564', '350265', 'Background', 'Apr 05, 2019 14:52:19+0000', 'Apr 06, 2019 13:11:20+0000', '22:19:01', 'OK (0)']\n",
      "['3564', '350266', 'Background', 'Apr 06, 2019 13:14:39+0000', 'Apr 07, 2019 12:33:56+0000', '23:19:17', 'OK (0)']\n",
      "['3564', '350267', 'Background', 'Apr 07, 2019 12:36:25+0000', 'Apr 08, 2019 13:25:32+0000', '24:49:07', 'OK (0)']\n",
      "['3564', '350268', 'Background', 'Apr 08, 2019 14:24:36+0000', 'Apr 09, 2019 13:27:01+0000', '23:02:25', 'OK (0)']\n",
      "['3564', '350269', 'Background', 'Apr 09, 2019 13:32:21+0000', 'Apr 10, 2019 13:48:28+0000', '24:16:07', 'OK (0)']\n",
      "['3564', '350270', 'Background', 'Apr 10, 2019 13:51:21+0000', 'Apr 11, 2019 10:11:31+0000', '20:20:10', 'OK (0)']\n",
      "['3564', '350271', 'Background', 'Apr 11, 2019 16:24:50+0000', 'Apr 12, 2019 15:00:21+0000', '22:35:31', 'OK (0)']\n",
      "['3564', '350272', 'Background', 'Apr 12, 2019 15:03:30+0000', 'Apr 13, 2019 14:37:32+0000', '23:34:02', 'OK (0)']\n",
      "['3564', '350273', 'Background', 'Apr 13, 2019 14:40:38+0000', 'Apr 14, 2019 13:54:35+0000', '23:13:57', 'OK (0)']\n",
      "['3564', '350274', 'Background', 'Apr 14, 2019 14:00:21+0000', 'Apr 15, 2019 13:05:17+0000', '23:04:56', 'OK (0)']\n",
      "['3564', '350275', 'Background', 'Apr 15, 2019 14:01:56+0000', 'Apr 16, 2019 13:56:40+0000', '23:54:44', 'OK (0)']\n",
      "['3564', '350276', 'Background', 'Apr 16, 2019 14:01:13+0000', 'Apr 17, 2019 13:24:50+0000', '23:23:37', 'OK (0)']\n",
      "['3564', '350277', 'Background', 'Apr 17, 2019 13:28:19+0000', 'Apr 18, 2019 10:00:52+0000', '20:32:33', 'OK (0)']\n",
      "['3564', '350278', 'Background', 'Apr 18, 2019 15:04:56+0000', 'Apr 19, 2019 14:07:46+0000', '23:02:50', 'OK (0)']\n",
      "['3564', '350279', 'Background', 'Apr 19, 2019 14:10:24+0000', 'Apr 20, 2019 13:24:56+0000', '23:14:32', 'OK (0)']\n",
      "['3564', '350280', 'Background', 'Apr 20, 2019 13:28:01+0000', 'Apr 21, 2019 13:58:13+0000', '24:30:12', 'OK (0)']\n",
      "['3564', '350281', 'Background', 'Apr 21, 2019 14:58:35+0000', 'Apr 22, 2019 13:33:24+0000', '22:34:49', 'OK (0)']\n",
      "['3564', '350282', 'Background', 'Apr 22, 2019 13:36:27+0000', 'Apr 23, 2019 13:40:49+0000', '24:04:22', 'OK (0)']\n",
      "['3564', '350283', 'Background', 'Apr 23, 2019 13:43:42+0000', 'Apr 24, 2019 10:06:35+0000', '20:22:53', 'OK (0)']\n",
      "['3564', '350284', 'Background', 'Apr 24, 2019 15:38:33+0000', 'Apr 25, 2019 13:46:13+0000', '22:07:40', 'OK (0)']\n",
      "['3564', '350285', 'Background', 'Apr 25, 2019 13:50:11+0000', 'Apr 26, 2019 13:49:40+0000', '23:59:29', 'OK (0)']\n",
      "['3564', '350286', 'Background', 'Apr 26, 2019 13:51:54+0000', 'Apr 27, 2019 13:49:34+0000', '23:57:40', 'OK (0)']\n",
      "['3564', '350287', 'Background', 'Apr 27, 2019 13:52:19+0000', 'Apr 28, 2019 13:49:29+0000', '23:57:10', 'OK (0)']\n",
      "['3564', '350288', 'Background', 'Apr 28, 2019 13:52:17+0000', 'Apr 29, 2019 12:24:01+0000', '22:31:44', 'OK (0)']\n",
      "['3564', '350289', 'Background', 'Apr 29, 2019 14:15:15+0000', 'Apr 30, 2019 14:01:19+0000', '23:46:04', 'OK (0)']\n",
      "['3564', '350290', 'Background', 'Apr 30, 2019 14:04:02+0000', 'Apr 30, 2019 16:02:13+0000', '1:58:11', 'OK (0)']\n",
      "['3564', '350291', 'Background', 'Apr 30, 2019 17:57:54+0000', 'May 01, 2019 14:11:30+0000', '20:13:36', 'OK (0)']\n",
      "['3564', '350292', 'Background', 'May 01, 2019 14:14:15+0000', 'May 02, 2019 06:21:43+0000', '16:07:28', 'OK (0)']\n"
     ]
    },
    {
     "data": {
      "text/plain": [
       "2636943.0"
      ]
     },
     "execution_count": 22,
     "metadata": {},
     "output_type": "execute_result"
    }
   ],
   "source": [
    "#from datetime import datetime, timezone\n",
    "import datetime\n",
    "def get_runtime():\n",
    "\n",
    "    #times = {}\n",
    "\n",
    "    # fix times\n",
    "    with open(\"./data/ds3564_start_stop_times.txt\") as f:\n",
    "        f.readline()\n",
    "        f.readline()\n",
    "\n",
    "        first = True\n",
    "        \n",
    "        sum = datetime.timedelta()\n",
    "\n",
    "        for line in f:\n",
    "            linedata = line.split('|')\n",
    "            linedata = [i.lstrip().rstrip() for i in linedata]\n",
    "\n",
    "            if linedata[2] == \"Background\" and linedata[6] == \"OK (0)\":\n",
    "                #print(linedata[5])\n",
    "                #linedate = datetime.strptime(linedata[5], \"%H:%M:%S\")\n",
    "                #timestamp = linedate.replace(tzinfo=timezone.utc).timestamp()\n",
    "                \n",
    "                print(linedata)\n",
    "\n",
    "                (h, m, s) = linedata[5].split(':')\n",
    "                d = datetime.timedelta(hours=int(h), minutes=int(m), seconds=int(s))\n",
    "                sum += d\n",
    "\n",
    "                # save first run timestamp\n",
    "                #if first:\n",
    "                #    first_timestamp = timestamp\n",
    "                #    first = False\n",
    "\n",
    "                #times[int(linedata[1])] = timestamp - first_timestamp\n",
    "                \n",
    "    total_seconds = sum.total_seconds()\n",
    "    \n",
    "    return total_seconds\n",
    "\n",
    "get_runtime()"
   ]
  },
  {
   "cell_type": "code",
   "execution_count": null,
   "metadata": {},
   "outputs": [],
   "source": []
  }
 ],
 "metadata": {
  "kernelspec": {
   "display_name": "Python 3",
   "language": "python",
   "name": "python3"
  },
  "language_info": {
   "codemirror_mode": {
    "name": "ipython",
    "version": 3
   },
   "file_extension": ".py",
   "mimetype": "text/x-python",
   "name": "python",
   "nbconvert_exporter": "python",
   "pygments_lexer": "ipython3",
   "version": "3.7.6"
  }
 },
 "nbformat": 4,
 "nbformat_minor": 4
}
