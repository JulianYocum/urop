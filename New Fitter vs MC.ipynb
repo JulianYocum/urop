{
 "cells": [
  {
   "cell_type": "code",
   "execution_count": 1,
   "metadata": {},
   "outputs": [],
   "source": [
    "import time\n",
    "import matplotlib.pyplot as plt\n",
    "import numpy as np\n",
    "\n",
    "from DataAnalysis import DataAnalysis\n",
    "#%run new_DataAnalysis.ipynb|\n",
    "from MonteCarlo import MonteCarlo"
   ]
  },
  {
   "cell_type": "code",
   "execution_count": 2,
   "metadata": {},
   "outputs": [],
   "source": [
    "# data = DataAnalysis()\n",
    "# data.load_eventdf('data/new_moo/8-5/events.csv')\n",
    "# data.load_clusterdf('data/new_moo/8-5/clusters.csv')\n",
    "# data.filter_fit(3.5, 5) #(NRMSE, channels)\n",
    "# data.get_cluster(0)"
   ]
  },
  {
   "cell_type": "code",
   "execution_count": 3,
   "metadata": {},
   "outputs": [],
   "source": [
    "# rand_times = np.sort(np.random.choice(np.arange(1000),10,replace=False, dtype=np.float64))\n",
    "# rand_times[0]"
   ]
  },
  {
   "cell_type": "code",
   "execution_count": 4,
   "metadata": {},
   "outputs": [
    {
     "name": "stdout",
     "output_type": "stream",
     "text": [
      "[15949. 17184. 25665. 26502. 42715.]\n"
     ]
    }
   ],
   "source": [
    "mc = MonteCarlo(num_tracks=5, track_type=\"sasso\", particle_type=\"muon\")\n",
    "#mc.filter_fit(100, 3)\n",
    "#mc.get_eventdf()\n",
    "\n",
    "# mc = DataAnalysis()\n",
    "# mc.load_eventdf('data/new_moo/3-30/MC_events.csv')\n",
    "# mc.load_clusterdf('data/new_moo/3-30/MC_clusters.csv')"
   ]
  },
  {
   "cell_type": "code",
   "execution_count": 8,
   "metadata": {},
   "outputs": [
    {
     "data": {
      "text/html": [
       "<div>\n",
       "<style scoped>\n",
       "    .dataframe tbody tr th:only-of-type {\n",
       "        vertical-align: middle;\n",
       "    }\n",
       "\n",
       "    .dataframe tbody tr th {\n",
       "        vertical-align: top;\n",
       "    }\n",
       "\n",
       "    .dataframe thead th {\n",
       "        text-align: right;\n",
       "    }\n",
       "</style>\n",
       "<table border=\"1\" class=\"dataframe\">\n",
       "  <thead>\n",
       "    <tr style=\"text-align: right;\">\n",
       "      <th></th>\n",
       "      <th>Cluster</th>\n",
       "      <th>Events</th>\n",
       "      <th>Channels</th>\n",
       "      <th>StartTime</th>\n",
       "      <th>TimeSpread</th>\n",
       "      <th>NRMSE</th>\n",
       "      <th>Zenith</th>\n",
       "      <th>Azimuth</th>\n",
       "      <th>ExtraCh</th>\n",
       "      <th>MissingCh</th>\n",
       "      <th>Likelihood</th>\n",
       "      <th>Fitline</th>\n",
       "    </tr>\n",
       "  </thead>\n",
       "  <tbody>\n",
       "    <tr>\n",
       "      <th>0</th>\n",
       "      <td>0</td>\n",
       "      <td>7</td>\n",
       "      <td>7</td>\n",
       "      <td>15952.2</td>\n",
       "      <td>0.06</td>\n",
       "      <td>0.910884</td>\n",
       "      <td>0.911280</td>\n",
       "      <td>0.641559</td>\n",
       "      <td>0</td>\n",
       "      <td>0</td>\n",
       "      <td>-19.007828</td>\n",
       "      <td>[89.032118, -261.838038, -2.371231, -0.231076,...</td>\n",
       "    </tr>\n",
       "    <tr>\n",
       "      <th>1</th>\n",
       "      <td>1</td>\n",
       "      <td>6</td>\n",
       "      <td>6</td>\n",
       "      <td>17187.2</td>\n",
       "      <td>0.05</td>\n",
       "      <td>1.018935</td>\n",
       "      <td>0.336453</td>\n",
       "      <td>-0.365137</td>\n",
       "      <td>0</td>\n",
       "      <td>0</td>\n",
       "      <td>-15.315252</td>\n",
       "      <td>[-139.924858, 7.695506, -198.897636, 0.318411,...</td>\n",
       "    </tr>\n",
       "    <tr>\n",
       "      <th>2</th>\n",
       "      <td>2</td>\n",
       "      <td>3</td>\n",
       "      <td>3</td>\n",
       "      <td>25668.2</td>\n",
       "      <td>0.02</td>\n",
       "      <td>1.374818</td>\n",
       "      <td>0.102074</td>\n",
       "      <td>1.403117</td>\n",
       "      <td>0</td>\n",
       "      <td>0</td>\n",
       "      <td>-9.129201</td>\n",
       "      <td>[-186.886024, 128.776252, 240.32089, 0.045677,...</td>\n",
       "    </tr>\n",
       "    <tr>\n",
       "      <th>3</th>\n",
       "      <td>3</td>\n",
       "      <td>4</td>\n",
       "      <td>4</td>\n",
       "      <td>26505.2</td>\n",
       "      <td>0.03</td>\n",
       "      <td>1.427791</td>\n",
       "      <td>0.954891</td>\n",
       "      <td>-0.581643</td>\n",
       "      <td>0</td>\n",
       "      <td>0</td>\n",
       "      <td>-13.973394</td>\n",
       "      <td>[-17.196762, 338.452059, -107.788938, -0.81519...</td>\n",
       "    </tr>\n",
       "    <tr>\n",
       "      <th>4</th>\n",
       "      <td>4</td>\n",
       "      <td>9</td>\n",
       "      <td>9</td>\n",
       "      <td>42718.2</td>\n",
       "      <td>0.08</td>\n",
       "      <td>0.960109</td>\n",
       "      <td>0.951575</td>\n",
       "      <td>0.640503</td>\n",
       "      <td>0</td>\n",
       "      <td>0</td>\n",
       "      <td>-23.105973</td>\n",
       "      <td>[211.157086, 222.116282, -118.809238, -0.23892...</td>\n",
       "    </tr>\n",
       "  </tbody>\n",
       "</table>\n",
       "</div>"
      ],
      "text/plain": [
       "   Cluster  Events  Channels  StartTime  TimeSpread     NRMSE    Zenith  \\\n",
       "0        0       7         7    15952.2        0.06  0.910884  0.911280   \n",
       "1        1       6         6    17187.2        0.05  1.018935  0.336453   \n",
       "2        2       3         3    25668.2        0.02  1.374818  0.102074   \n",
       "3        3       4         4    26505.2        0.03  1.427791  0.954891   \n",
       "4        4       9         9    42718.2        0.08  0.960109  0.951575   \n",
       "\n",
       "    Azimuth  ExtraCh  MissingCh  Likelihood  \\\n",
       "0  0.641559        0          0  -19.007828   \n",
       "1 -0.365137        0          0  -15.315252   \n",
       "2  1.403117        0          0   -9.129201   \n",
       "3 -0.581643        0          0  -13.973394   \n",
       "4  0.640503        0          0  -23.105973   \n",
       "\n",
       "                                             Fitline  \n",
       "0  [89.032118, -261.838038, -2.371231, -0.231076,...  \n",
       "1  [-139.924858, 7.695506, -198.897636, 0.318411,...  \n",
       "2  [-186.886024, 128.776252, 240.32089, 0.045677,...  \n",
       "3  [-17.196762, 338.452059, -107.788938, -0.81519...  \n",
       "4  [211.157086, 222.116282, -118.809238, -0.23892...  "
      ]
     },
     "execution_count": 8,
     "metadata": {},
     "output_type": "execute_result"
    }
   ],
   "source": [
    "mc.get_clusterdf()"
   ]
  },
  {
   "cell_type": "code",
   "execution_count": 6,
   "metadata": {},
   "outputs": [],
   "source": [
    "# from pymoo.visualization.scatter import Scatter\n",
    "# test = DataAnalysis()\n",
    "# line, pre_result, fin_result = test.fitline(mc.get_cluster(0), pop_num=50, gen_num=50)"
   ]
  },
  {
   "cell_type": "code",
   "execution_count": 7,
   "metadata": {},
   "outputs": [],
   "source": [
    "# plot = Scatter(title = \"Objective Space\", angle=(0,45))\n",
    "# plot.add(pre_result.F)\n",
    "# plot.show()"
   ]
  },
  {
   "cell_type": "code",
   "execution_count": null,
   "metadata": {},
   "outputs": [],
   "source": [
    "# plot = Scatter(title = \"Objective Space\", angle=(0,45))\n",
    "# plot.add(fin_result.F[:,:2])\n",
    "# plot.show()"
   ]
  },
  {
   "cell_type": "code",
   "execution_count": null,
   "metadata": {
    "scrolled": true
   },
   "outputs": [],
   "source": [
    "start = time.time()\n",
    "\n",
    "test = DataAnalysis()\n",
    "\n",
    "test.set_eventdf(mc.get_cluster(range(5)))\n",
    "#test.set_eventdf(mc.get_cluster(1))\n",
    "\n",
    "#test.arrange_clusters(3, 1.0) # >= 5 events, <= 1.0 seconds\n",
    "test.make_clusterdf(pop_num=100, gen_num=100, verbose=True)\n",
    "\n",
    "#test.save_eventdf(\"./data/test_eventdf.csv\")\n",
    "#test.save_clusterdf(\"./data/test_clusterdf.csv\")\n",
    "\n",
    "time.time() - start"
   ]
  },
  {
   "cell_type": "code",
   "execution_count": null,
   "metadata": {},
   "outputs": [],
   "source": [
    "plt.figure(figsize=(5,5))\n",
    "plt.title(\"Pathlengths\")\n",
    "plt.scatter( np.array(mc.get_cluster(range(5))['PathLength']), np.array(test.get_eventdf()['PathLength']), s=5)\n",
    "plt.ylabel(\"mm (reconstructed)\")\n",
    "plt.xlabel(\"mm (generated)\")\n",
    "plt.xlim(0,80)\n",
    "plt.ylim(0,80)"
   ]
  },
  {
   "cell_type": "code",
   "execution_count": null,
   "metadata": {},
   "outputs": [],
   "source": [
    "from Helper import *\n",
    "\n",
    "dEdx_pdf = make_pdf('./data/pdf/dEdx/bins_dEdx_muon.csv', './data/pdf/dEdx/values_dEdx_muon.csv', domain_range=[0,190])\n",
    "clusters = np.array(mc.get_clusterdf()['Cluster'])\n",
    "\n",
    "log_likelihoods_mc = [np.log(dEdx_pdf(np.array(mc.get_cluster(c)['dEdx'])/100)).sum() for c in clusters]\n",
    "log_likelihoods_test = [np.log(dEdx_pdf(np.array(test.get_cluster(c)['dEdx'])/100)).sum() for c in clusters]\n",
    "\n",
    "\n",
    "# min_path_test = test.get_eventdf()[test.get_eventdf()['PathLength'] > 30]\n",
    "# min_path_mc = mc.get_eventdf()[test.get_eventdf()['PathLength'] > 30]\n",
    "\n",
    "plt.figure(figsize=(12,8))\n",
    "\n",
    "plt.subplot(2,3,1)\n",
    "plt.title(\"dEdx\")\n",
    "#plt.scatter(np.array(mc.get_eventdf()['dEdx'])/100, np.array(test.get_eventdf()['dEdx'])/100, s=5)\n",
    "plt.scatter(test.get_eventdf()['dEdx']/100, mc.get_eventdf()['dEdx']/100, s=5)\n",
    "plt.xlabel(\"MeV/cm (reconstructed)\")\n",
    "plt.ylabel(\"MeV/cm (generated)\")\n",
    "plt.xlim(4,30)\n",
    "plt.ylim(4,30)\n",
    "plt.xscale('log')\n",
    "plt.yscale('log')\n",
    "\n",
    "plt.subplot(2,3,2)\n",
    "plt.title(\"dEdx log-likelihoods\")\n",
    "plt.scatter(log_likelihoods_mc, log_likelihoods_test, s=5)\n",
    "plt.xlim(-100,0)\n",
    "plt.ylim(-100,0)\n",
    "plt.xlabel(\"log(likelihood) (generated)\")\n",
    "plt.ylabel(\"log(likelihood) (reconstructed)\")\n",
    "\n",
    "plt.subplot(2,3,3)\n",
    "plt.title(\"Pathlengths\")\n",
    "plt.scatter( np.array(mc.get_eventdf()['PathLength']), np.array(test.get_eventdf()['PathLength']), s=5)\n",
    "plt.ylabel(\"mm (reconstructed)\")\n",
    "plt.xlabel(\"mm (generated)\")\n",
    "plt.xlim(0,80)\n",
    "plt.ylim(0,80)\n",
    "\n",
    "plt.subplot(2,3,4)\n",
    "plt.title(\"Zenith\")\n",
    "plt.scatter(np.array(mc.get_clusterdf()['Zenith']) * 180 / np.pi, np.array(test.get_clusterdf()['Zenith']) * 180 / np.pi, s=5)\n",
    "plt.xlabel(\"degrees (reconstructed)\")\n",
    "plt.ylabel(\"degrees (generated)\")\n",
    "\n",
    "\n",
    "plt.subplot(2,3,5)\n",
    "plt.title(\"Azimuth\")\n",
    "plt.scatter(np.array(mc.get_clusterdf()['Azimuth']) * 180 / np.pi, np.array(test.get_clusterdf()['Azimuth']) * 180 / np.pi, s=5)\n",
    "plt.xlabel(\"degrees (reconstructed)\")\n",
    "plt.ylabel(\"degrees (generated)\")\n",
    "\n",
    "plt.tight_layout()"
   ]
  },
  {
   "cell_type": "code",
   "execution_count": null,
   "metadata": {},
   "outputs": [],
   "source": [
    "test.get_clusterdf(fitline=False)"
   ]
  },
  {
   "cell_type": "code",
   "execution_count": null,
   "metadata": {},
   "outputs": [],
   "source": [
    "mc.get_clusterdf(fitline=False)"
   ]
  },
  {
   "cell_type": "code",
   "execution_count": null,
   "metadata": {},
   "outputs": [],
   "source": []
  },
  {
   "cell_type": "code",
   "execution_count": null,
   "metadata": {},
   "outputs": [],
   "source": []
  },
  {
   "cell_type": "code",
   "execution_count": null,
   "metadata": {},
   "outputs": [],
   "source": []
  }
 ],
 "metadata": {
  "kernelspec": {
   "display_name": "Python 3",
   "language": "python",
   "name": "python3"
  },
  "language_info": {
   "codemirror_mode": {
    "name": "ipython",
    "version": 3
   },
   "file_extension": ".py",
   "mimetype": "text/x-python",
   "name": "python",
   "nbconvert_exporter": "python",
   "pygments_lexer": "ipython3",
   "version": "3.9.1"
  }
 },
 "nbformat": 4,
 "nbformat_minor": 4
}
