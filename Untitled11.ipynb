{
 "cells": [
  {
   "cell_type": "code",
   "execution_count": 6,
   "id": "romance-armstrong",
   "metadata": {},
   "outputs": [],
   "source": [
    "import numpy as np\n",
    "import matplotlib.pyplot as plt"
   ]
  },
  {
   "cell_type": "code",
   "execution_count": 51,
   "id": "concerned-position",
   "metadata": {},
   "outputs": [
    {
     "data": {
      "text/plain": [
       "(array([ 283.,    0.,  357.,    0.,  415.,    0.,  525.,    0.,  586.,\n",
       "           0.,  747.,    0.,  854.,    0.,  952.,    0., 1115.,    0.,\n",
       "        1299.,    0., 1491.,    0., 1546.,    0., 1809.,    0., 1918.,\n",
       "           0., 2117.,    0., 2398.,    0., 2540.,    0., 2761.,    0.,\n",
       "        2953.,    0., 3024.,    0., 3318.,    0., 3295.,    0., 3439.,\n",
       "           0., 3510.,    0., 3489.,    0., 3638.,    0., 3543.,    0.,\n",
       "        3467.,    0., 3465.,    0., 3350.,    0., 3370.,    0., 3062.,\n",
       "           0., 2910.,    0., 2744.,    0., 2535.,    0., 2385.,    0.,\n",
       "        2249.,    0., 2056.,    0., 1854.,    0., 1645.,    0., 1470.,\n",
       "           0., 1248.,    0., 1147.,    0., 1027.,    0.,  864.,    0.,\n",
       "         739.,    0.,  616.,    0.,  554.,    0.,  444.,    0.,  354.,\n",
       "         298.]),\n",
       " array([-50., -49., -48., -47., -46., -45., -44., -43., -42., -41., -40.,\n",
       "        -39., -38., -37., -36., -35., -34., -33., -32., -31., -30., -29.,\n",
       "        -28., -27., -26., -25., -24., -23., -22., -21., -20., -19., -18.,\n",
       "        -17., -16., -15., -14., -13., -12., -11., -10.,  -9.,  -8.,  -7.,\n",
       "         -6.,  -5.,  -4.,  -3.,  -2.,  -1.,   0.,   1.,   2.,   3.,   4.,\n",
       "          5.,   6.,   7.,   8.,   9.,  10.,  11.,  12.,  13.,  14.,  15.,\n",
       "         16.,  17.,  18.,  19.,  20.,  21.,  22.,  23.,  24.,  25.,  26.,\n",
       "         27.,  28.,  29.,  30.,  31.,  32.,  33.,  34.,  35.,  36.,  37.,\n",
       "         38.,  39.,  40.,  41.,  42.,  43.,  44.,  45.,  46.,  47.,  48.,\n",
       "         49.,  50.]),\n",
       " <BarContainer object of 100 artists>)"
      ]
     },
     "execution_count": 51,
     "metadata": {},
     "output_type": "execute_result"
    },
    {
     "data": {
      "image/png": "[encoded data removed]",
      "text/plain": [
       "<Figure size 432x288 with 1 Axes>"
      ]
     },
     "metadata": {
      "needs_background": "light"
     },
     "output_type": "display_data"
    }
   ],
   "source": [
    "\n",
    "STEPS = 500\n",
    "SAMPLE = 100000\n",
    "\n",
    "start = np.zeros(SAMPLE)\n",
    "for i in range(STEPS):\n",
    "    start += np.random.randint(2, size=SAMPLE) * 2 - 1\n",
    "    \n",
    "plt.hist(start, np.linspace(-50,50,101), width=1.5)"
   ]
  },
  {
   "cell_type": "code",
   "execution_count": 34,
   "id": "infrared-stake",
   "metadata": {},
   "outputs": [
    {
     "data": {
      "text/plain": [
       "1000000"
      ]
     },
     "execution_count": 34,
     "metadata": {},
     "output_type": "execute_result"
    }
   ],
   "source": [
    "len(start)"
   ]
  },
  {
   "cell_type": "code",
   "execution_count": null,
   "id": "liable-bernard",
   "metadata": {},
   "outputs": [],
   "source": []
  }
 ],
 "metadata": {
  "kernelspec": {
   "display_name": "Python 3",
   "language": "python",
   "name": "python3"
  },
  "language_info": {
   "codemirror_mode": {
    "name": "ipython",
    "version": 3
   },
   "file_extension": ".py",
   "mimetype": "text/x-python",
   "name": "python",
   "nbconvert_exporter": "python",
   "pygments_lexer": "ipython3",
   "version": "3.9.1"
  }
 },
 "nbformat": 4,
 "nbformat_minor": 5
}
