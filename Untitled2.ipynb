{
 "cells": [
  {
   "cell_type": "code",
   "execution_count": 1,
   "metadata": {},
   "outputs": [
    {
     "name": "stdout",
     "output_type": "stream",
     "text": [
      "funcA averaged 1560348.67 us/call\n",
      "funcB averaged 253102.60 us/call\n",
      "funcC averaged 51354.25 us/call\n"
     ]
    }
   ],
   "source": [
    "import numpy as np\n",
    "import timeit\n",
    "def funcA():\n",
    "    x = []\n",
    "    for i in range(1000):\n",
    "        x.append(i**3.)\n",
    "    return x\n",
    "def funcB():\n",
    "    return np.arange(1000)**3.\n",
    "def funcC():\n",
    "    return np.arange(1000)**3\n",
    "N = 10000\n",
    "timeA = timeit.timeit(funcA,number=N)\n",
    "timeB = timeit.timeit(funcB,number=N)\n",
    "timeC = timeit.timeit(funcC,number=N)\n",
    "print('funcA averaged %.2f us/call'%(1e6*timeA))\n",
    "print('funcB averaged %.2f us/call'%(1e6*timeB))\n",
    "print('funcC averaged %.2f us/call'%(1e6*timeC))"
   ]
  },
  {
   "cell_type": "code",
   "execution_count": 2,
   "metadata": {},
   "outputs": [
    {
     "name": "stdout",
     "output_type": "stream",
     "text": [
      "funcA averaged 225.68 us/call\n",
      "funcB averaged 28.98 us/call\n",
      "funcC averaged 4.97 us/call\n"
     ]
    }
   ],
   "source": [
    "import numpy as np\n",
    "import timeit\n",
    "def funcA():\n",
    "    x = []\n",
    "    for i in range(1000):\n",
    "        x.append(i**3.)\n",
    "    return x\n",
    "def funcB():\n",
    "    return np.arange(1000)**3.\n",
    "def funcC():\n",
    "    return np.arange(1000)**3\n",
    "N = 10000\n",
    "timeA = timeit.timeit(funcA,number=N)\n",
    "timeB = timeit.timeit(funcB,number=N)\n",
    "timeC = timeit.timeit(funcC,number=N)\n",
    "print('funcA averaged %.2f us/call'%(1e6*timeA/N))\n",
    "print('funcB averaged %.2f us/call'%(1e6*timeB/N))\n",
    "print('funcC averaged %.2f us/call'%(1e6*timeC/N))"
   ]
  },
  {
   "cell_type": "code",
   "execution_count": null,
   "metadata": {},
   "outputs": [],
   "source": []
  }
 ],
 "metadata": {
  "kernelspec": {
   "display_name": "Python 3",
   "language": "python",
   "name": "python3"
  },
  "language_info": {
   "codemirror_mode": {
    "name": "ipython",
    "version": 3
   },
   "file_extension": ".py",
   "mimetype": "text/x-python",
   "name": "python",
   "nbconvert_exporter": "python",
   "pygments_lexer": "ipython3",
   "version": "3.7.6"
  }
 },
 "nbformat": 4,
 "nbformat_minor": 4
}
