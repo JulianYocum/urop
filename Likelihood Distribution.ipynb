{
 "cells": [
  {
   "cell_type": "code",
   "execution_count": 2,
   "id": "sticky-values",
   "metadata": {},
   "outputs": [],
   "source": [
    "from Helper import *\n",
    "import matplotlib.pyplot as plt"
   ]
  },
  {
   "cell_type": "code",
   "execution_count": 3,
   "id": "handed-tackle",
   "metadata": {},
   "outputs": [],
   "source": [
    "dEdx_pdf = make_pdf('./data/pdf/dEdx/bins_dEdx_muon.csv','./data/pdf/dEdx/values_dEdx_muon.csv')"
   ]
  },
  {
   "cell_type": "code",
   "execution_count": 6,
   "id": "eligible-disney",
   "metadata": {},
   "outputs": [
    {
     "name": "stdout",
     "output_type": "stream",
     "text": [
      "bins_dEdx_muon.csv    values_dEdx_muon.csv\r\n"
     ]
    }
   ],
   "source": [
    "ls data/pdf/dEdx"
   ]
  },
  {
   "cell_type": "code",
   "execution_count": 8,
   "id": "interracial-plaza",
   "metadata": {},
   "outputs": [
    {
     "data": {
      "text/plain": [
       "'/Users/julianyocum/UROP'"
      ]
     },
     "execution_count": 8,
     "metadata": {},
     "output_type": "execute_result"
    }
   ],
   "source": [
    "pwd"
   ]
  },
  {
   "cell_type": "code",
   "execution_count": 50,
   "id": "unauthorized-recommendation",
   "metadata": {},
   "outputs": [],
   "source": [
    "\n",
    "\n",
    "#     def cdf(x):\n",
    "\n",
    "#         result = spline(x)\n",
    "#         result[(x<0) | (x>190)] = 1e-6\n",
    "        \n",
    "#         return result\n",
    "\n",
    "#     return pdf"
   ]
  },
  {
   "cell_type": "code",
   "execution_count": 5,
   "id": "assumed-suicide",
   "metadata": {},
   "outputs": [],
   "source": [
    "bins_file = './data/pdf/dEdx/bins_dEdx_muon.csv'\n",
    "values_file = './data/pdf/dEdx/values_dEdx_muon.csv'\n",
    "generator = make_inverse_cdf(bins_file, values_file)"
   ]
  },
  {
   "cell_type": "code",
   "execution_count": 86,
   "id": "rational-manufacturer",
   "metadata": {},
   "outputs": [
    {
     "data": {
      "image/png": "[encoded data removed]",
      "text/plain": [
       "<Figure size 432x288 with 1 Axes>"
      ]
     },
     "metadata": {
      "needs_background": "light"
     },
     "output_type": "display_data"
    }
   ],
   "source": [
    "array = plt.hist(generator(np.random.random(1000000)), np.linspace(0,200, 200))\n",
    "plt.yscale(\"log\")"
   ]
  },
  {
   "cell_type": "code",
   "execution_count": 12,
   "id": "supported-theorem",
   "metadata": {},
   "outputs": [
    {
     "data": {
      "text/plain": [
       "<matplotlib.legend.Legend at 0x136a22be0>"
      ]
     },
     "execution_count": 12,
     "metadata": {},
     "output_type": "execute_result"
    },
    {
     "data": {
      "image/png": "[encoded data removed]",
      "text/plain": [
       "<Figure size 432x288 with 1 Axes>"
      ]
     },
     "metadata": {
      "needs_background": "light"
     },
     "output_type": "display_data"
    }
   ],
   "source": [
    "plt.title(\"Muon Log-Likelihood Multiplicities\")\n",
    "for M in [3,5,8,10]:\n",
    "    array = plt.hist([np.log(dEdx_pdf(generator(np.random.random(M)))).sum() for j in range(500)], np.linspace(-100,1,50),histtype='step', label='M'+str(M))\n",
    "plt.legend()\n"
   ]
  },
  {
   "cell_type": "code",
   "execution_count": 131,
   "id": "gentle-selection",
   "metadata": {},
   "outputs": [
    {
     "data": {
      "text/plain": [
       "array([0.14793431, 0.05961042, 0.18450641, 0.12557342, 0.14262583])"
      ]
     },
     "execution_count": 131,
     "metadata": {},
     "output_type": "execute_result"
    }
   ],
   "source": [
    "pdf(generator(np.random.random(5)))"
   ]
  },
  {
   "cell_type": "code",
   "execution_count": 203,
   "id": "stuck-equivalent",
   "metadata": {},
   "outputs": [
    {
     "data": {
      "image/png": "[encoded data removed]",
      "text/plain": [
       "<Figure size 432x288 with 1 Axes>"
      ]
     },
     "metadata": {
      "needs_background": "light"
     },
     "output_type": "display_data"
    }
   ],
   "source": [
    "values, bins, _ = plt.hist([np.log(dEdx_pdf(generator(np.random.random(7)))).sum() for j in range(5000)], np.linspace(-50,0,200), density=True, histtype='step')"
   ]
  },
  {
   "cell_type": "code",
   "execution_count": 161,
   "id": "miniature-species",
   "metadata": {},
   "outputs": [],
   "source": []
  },
  {
   "cell_type": "code",
   "execution_count": 246,
   "id": "subtle-customs",
   "metadata": {},
   "outputs": [
    {
     "data": {
      "image/png": "[encoded data removed]",
      "text/plain": [
       "<Figure size 432x288 with 1 Axes>"
      ]
     },
     "metadata": {
      "needs_background": "light"
     },
     "output_type": "display_data"
    }
   ],
   "source": [
    "for i in range(1,3):\n",
    "    values, bins, _ = plt.hist([np.log(dEdx_pdf(generator(np.random.random(i)))).sum() for j in range(500000)], np.linspace(-100,0,400), histtype='step')\n",
    "    with open(\"./data/pdf/bins_likelihood_M=\" + str(i) + \".csv\", \"w\") as f:\n",
    "        np.savetxt(f, bins, delimiter=\",\")\n",
    "    with open(\"./data/pdf/values_likelihood_M=\" + str(i) + \".csv\", \"w\") as f:\n",
    "        np.savetxt(f, values, delimiter=\",\")"
   ]
  },
  {
   "cell_type": "code",
   "execution_count": 240,
   "id": "white-contents",
   "metadata": {},
   "outputs": [],
   "source": []
  },
  {
   "cell_type": "code",
   "execution_count": 250,
   "id": "beautiful-marijuana",
   "metadata": {},
   "outputs": [
    {
     "data": {
      "text/plain": [
       "(array([0.000e+00, 0.000e+00, 0.000e+00, 0.000e+00, 0.000e+00, 0.000e+00,\n",
       "        0.000e+00, 0.000e+00, 0.000e+00, 0.000e+00, 0.000e+00, 0.000e+00,\n",
       "        0.000e+00, 0.000e+00, 0.000e+00, 0.000e+00, 0.000e+00, 0.000e+00,\n",
       "        0.000e+00, 0.000e+00, 0.000e+00, 0.000e+00, 0.000e+00, 0.000e+00,\n",
       "        0.000e+00, 0.000e+00, 0.000e+00, 0.000e+00, 0.000e+00, 0.000e+00,\n",
       "        0.000e+00, 0.000e+00, 0.000e+00, 0.000e+00, 0.000e+00, 0.000e+00,\n",
       "        0.000e+00, 0.000e+00, 0.000e+00, 0.000e+00, 0.000e+00, 0.000e+00,\n",
       "        0.000e+00, 0.000e+00, 0.000e+00, 0.000e+00, 0.000e+00, 0.000e+00,\n",
       "        0.000e+00, 0.000e+00, 0.000e+00, 0.000e+00, 0.000e+00, 0.000e+00,\n",
       "        0.000e+00, 0.000e+00, 0.000e+00, 0.000e+00, 0.000e+00, 0.000e+00,\n",
       "        0.000e+00, 0.000e+00, 0.000e+00, 0.000e+00, 0.000e+00, 0.000e+00,\n",
       "        0.000e+00, 0.000e+00, 0.000e+00, 0.000e+00, 0.000e+00, 0.000e+00,\n",
       "        0.000e+00, 0.000e+00, 0.000e+00, 0.000e+00, 0.000e+00, 0.000e+00,\n",
       "        0.000e+00, 0.000e+00, 0.000e+00, 0.000e+00, 0.000e+00, 0.000e+00,\n",
       "        0.000e+00, 0.000e+00, 0.000e+00, 0.000e+00, 0.000e+00, 0.000e+00,\n",
       "        0.000e+00, 0.000e+00, 0.000e+00, 0.000e+00, 0.000e+00, 0.000e+00,\n",
       "        0.000e+00, 0.000e+00, 0.000e+00, 0.000e+00, 0.000e+00, 0.000e+00,\n",
       "        0.000e+00, 0.000e+00, 0.000e+00, 0.000e+00, 0.000e+00, 0.000e+00,\n",
       "        0.000e+00, 0.000e+00, 0.000e+00, 0.000e+00, 0.000e+00, 0.000e+00,\n",
       "        0.000e+00, 0.000e+00, 0.000e+00, 0.000e+00, 0.000e+00, 0.000e+00,\n",
       "        0.000e+00, 0.000e+00, 0.000e+00, 0.000e+00, 0.000e+00, 0.000e+00,\n",
       "        0.000e+00, 0.000e+00, 0.000e+00, 0.000e+00, 0.000e+00, 0.000e+00,\n",
       "        0.000e+00, 0.000e+00, 0.000e+00, 0.000e+00, 0.000e+00, 0.000e+00,\n",
       "        0.000e+00, 0.000e+00, 0.000e+00, 0.000e+00, 0.000e+00, 0.000e+00,\n",
       "        0.000e+00, 0.000e+00, 0.000e+00, 0.000e+00, 0.000e+00, 0.000e+00,\n",
       "        0.000e+00, 0.000e+00, 0.000e+00, 0.000e+00, 0.000e+00, 0.000e+00,\n",
       "        0.000e+00, 0.000e+00, 0.000e+00, 0.000e+00, 0.000e+00, 0.000e+00,\n",
       "        1.000e+00, 0.000e+00, 0.000e+00, 0.000e+00, 0.000e+00, 0.000e+00,\n",
       "        0.000e+00, 0.000e+00, 0.000e+00, 1.000e+00, 0.000e+00, 0.000e+00,\n",
       "        0.000e+00, 0.000e+00, 1.000e+00, 1.000e+00, 0.000e+00, 1.000e+00,\n",
       "        2.000e+00, 0.000e+00, 2.000e+00, 2.000e+00, 1.000e+00, 0.000e+00,\n",
       "        0.000e+00, 1.000e+00, 2.000e+00, 2.000e+00, 0.000e+00, 3.000e+00,\n",
       "        5.000e+00, 3.000e+00, 1.000e+00, 5.000e+00, 7.000e+00, 3.000e+00,\n",
       "        5.000e+00, 4.000e+00, 4.000e+00, 6.000e+00, 6.000e+00, 1.400e+01,\n",
       "        1.400e+01, 8.000e+00, 1.400e+01, 6.000e+00, 1.400e+01, 1.100e+01,\n",
       "        1.000e+01, 1.100e+01, 1.800e+01, 1.300e+01, 2.700e+01, 1.500e+01,\n",
       "        2.600e+01, 2.300e+01, 2.800e+01, 4.300e+01, 3.200e+01, 4.700e+01,\n",
       "        4.200e+01, 4.600e+01, 5.000e+01, 7.000e+01, 5.700e+01, 7.800e+01,\n",
       "        7.700e+01, 7.100e+01, 1.010e+02, 8.200e+01, 1.160e+02, 1.240e+02,\n",
       "        1.220e+02, 1.270e+02, 1.740e+02, 1.490e+02, 1.710e+02, 1.690e+02,\n",
       "        2.210e+02, 2.050e+02, 2.410e+02, 2.660e+02, 2.400e+02, 2.820e+02,\n",
       "        2.820e+02, 3.020e+02, 3.440e+02, 3.270e+02, 3.470e+02, 3.740e+02,\n",
       "        4.090e+02, 4.490e+02, 4.960e+02, 5.040e+02, 5.110e+02, 5.390e+02,\n",
       "        5.060e+02, 5.590e+02, 6.620e+02, 6.370e+02, 7.030e+02, 7.300e+02,\n",
       "        7.430e+02, 8.040e+02, 7.570e+02, 7.960e+02, 8.130e+02, 8.650e+02,\n",
       "        8.400e+02, 9.460e+02, 9.460e+02, 9.940e+02, 9.890e+02, 1.039e+03,\n",
       "        1.032e+03, 9.960e+02, 1.091e+03, 1.037e+03, 1.039e+03, 1.058e+03,\n",
       "        1.086e+03, 1.084e+03, 1.114e+03, 1.072e+03, 1.079e+03, 1.006e+03,\n",
       "        1.020e+03, 1.008e+03, 9.950e+02, 9.250e+02, 9.280e+02, 9.290e+02,\n",
       "        8.630e+02, 7.780e+02, 7.600e+02, 6.770e+02, 6.740e+02, 6.030e+02,\n",
       "        5.520e+02, 4.900e+02, 4.760e+02, 4.490e+02, 3.990e+02, 3.370e+02,\n",
       "        2.630e+02, 2.710e+02, 2.270e+02, 1.800e+02, 1.470e+02, 1.190e+02,\n",
       "        7.900e+01, 7.200e+01, 5.600e+01, 3.300e+01, 2.300e+01, 1.700e+01,\n",
       "        1.000e+01, 4.000e+00, 3.000e+00, 1.000e+00, 1.000e+00, 0.000e+00,\n",
       "        0.000e+00, 0.000e+00, 0.000e+00, 0.000e+00, 0.000e+00, 0.000e+00,\n",
       "        0.000e+00, 0.000e+00, 0.000e+00, 0.000e+00, 0.000e+00, 0.000e+00,\n",
       "        0.000e+00, 0.000e+00, 0.000e+00, 0.000e+00, 0.000e+00, 0.000e+00,\n",
       "        0.000e+00, 0.000e+00, 0.000e+00, 0.000e+00, 0.000e+00, 0.000e+00,\n",
       "        0.000e+00, 0.000e+00, 0.000e+00, 0.000e+00, 0.000e+00, 0.000e+00,\n",
       "        0.000e+00, 0.000e+00, 0.000e+00, 0.000e+00, 0.000e+00, 0.000e+00,\n",
       "        0.000e+00, 0.000e+00, 0.000e+00, 0.000e+00, 0.000e+00, 0.000e+00,\n",
       "        0.000e+00, 0.000e+00, 0.000e+00, 0.000e+00, 0.000e+00, 0.000e+00,\n",
       "        0.000e+00, 0.000e+00, 0.000e+00, 0.000e+00, 0.000e+00, 0.000e+00,\n",
       "        0.000e+00, 0.000e+00, 0.000e+00, 0.000e+00, 0.000e+00, 0.000e+00,\n",
       "        0.000e+00, 0.000e+00, 0.000e+00, 0.000e+00, 0.000e+00, 0.000e+00,\n",
       "        0.000e+00, 0.000e+00, 0.000e+00, 0.000e+00, 0.000e+00, 0.000e+00,\n",
       "        0.000e+00, 0.000e+00, 0.000e+00]),\n",
       " array([-100.        ,  -99.74937343,  -99.49874687,  -99.2481203 ,\n",
       "         -98.99749373,  -98.74686717,  -98.4962406 ,  -98.24561404,\n",
       "         -97.99498747,  -97.7443609 ,  -97.49373434,  -97.24310777,\n",
       "         -96.9924812 ,  -96.74185464,  -96.49122807,  -96.2406015 ,\n",
       "         -95.98997494,  -95.73934837,  -95.4887218 ,  -95.23809524,\n",
       "         -94.98746867,  -94.73684211,  -94.48621554,  -94.23558897,\n",
       "         -93.98496241,  -93.73433584,  -93.48370927,  -93.23308271,\n",
       "         -92.98245614,  -92.73182957,  -92.48120301,  -92.23057644,\n",
       "         -91.97994987,  -91.72932331,  -91.47869674,  -91.22807018,\n",
       "         -90.97744361,  -90.72681704,  -90.47619048,  -90.22556391,\n",
       "         -89.97493734,  -89.72431078,  -89.47368421,  -89.22305764,\n",
       "         -88.97243108,  -88.72180451,  -88.47117794,  -88.22055138,\n",
       "         -87.96992481,  -87.71929825,  -87.46867168,  -87.21804511,\n",
       "         -86.96741855,  -86.71679198,  -86.46616541,  -86.21553885,\n",
       "         -85.96491228,  -85.71428571,  -85.46365915,  -85.21303258,\n",
       "         -84.96240602,  -84.71177945,  -84.46115288,  -84.21052632,\n",
       "         -83.95989975,  -83.70927318,  -83.45864662,  -83.20802005,\n",
       "         -82.95739348,  -82.70676692,  -82.45614035,  -82.20551378,\n",
       "         -81.95488722,  -81.70426065,  -81.45363409,  -81.20300752,\n",
       "         -80.95238095,  -80.70175439,  -80.45112782,  -80.20050125,\n",
       "         -79.94987469,  -79.69924812,  -79.44862155,  -79.19799499,\n",
       "         -78.94736842,  -78.69674185,  -78.44611529,  -78.19548872,\n",
       "         -77.94486216,  -77.69423559,  -77.44360902,  -77.19298246,\n",
       "         -76.94235589,  -76.69172932,  -76.44110276,  -76.19047619,\n",
       "         -75.93984962,  -75.68922306,  -75.43859649,  -75.18796992,\n",
       "         -74.93734336,  -74.68671679,  -74.43609023,  -74.18546366,\n",
       "         -73.93483709,  -73.68421053,  -73.43358396,  -73.18295739,\n",
       "         -72.93233083,  -72.68170426,  -72.43107769,  -72.18045113,\n",
       "         -71.92982456,  -71.67919799,  -71.42857143,  -71.17794486,\n",
       "         -70.9273183 ,  -70.67669173,  -70.42606516,  -70.1754386 ,\n",
       "         -69.92481203,  -69.67418546,  -69.4235589 ,  -69.17293233,\n",
       "         -68.92230576,  -68.6716792 ,  -68.42105263,  -68.17042607,\n",
       "         -67.9197995 ,  -67.66917293,  -67.41854637,  -67.1679198 ,\n",
       "         -66.91729323,  -66.66666667,  -66.4160401 ,  -66.16541353,\n",
       "         -65.91478697,  -65.6641604 ,  -65.41353383,  -65.16290727,\n",
       "         -64.9122807 ,  -64.66165414,  -64.41102757,  -64.160401  ,\n",
       "         -63.90977444,  -63.65914787,  -63.4085213 ,  -63.15789474,\n",
       "         -62.90726817,  -62.6566416 ,  -62.40601504,  -62.15538847,\n",
       "         -61.9047619 ,  -61.65413534,  -61.40350877,  -61.15288221,\n",
       "         -60.90225564,  -60.65162907,  -60.40100251,  -60.15037594,\n",
       "         -59.89974937,  -59.64912281,  -59.39849624,  -59.14786967,\n",
       "         -58.89724311,  -58.64661654,  -58.39598997,  -58.14536341,\n",
       "         -57.89473684,  -57.64411028,  -57.39348371,  -57.14285714,\n",
       "         -56.89223058,  -56.64160401,  -56.39097744,  -56.14035088,\n",
       "         -55.88972431,  -55.63909774,  -55.38847118,  -55.13784461,\n",
       "         -54.88721805,  -54.63659148,  -54.38596491,  -54.13533835,\n",
       "         -53.88471178,  -53.63408521,  -53.38345865,  -53.13283208,\n",
       "         -52.88220551,  -52.63157895,  -52.38095238,  -52.13032581,\n",
       "         -51.87969925,  -51.62907268,  -51.37844612,  -51.12781955,\n",
       "         -50.87719298,  -50.62656642,  -50.37593985,  -50.12531328,\n",
       "         -49.87468672,  -49.62406015,  -49.37343358,  -49.12280702,\n",
       "         -48.87218045,  -48.62155388,  -48.37092732,  -48.12030075,\n",
       "         -47.86967419,  -47.61904762,  -47.36842105,  -47.11779449,\n",
       "         -46.86716792,  -46.61654135,  -46.36591479,  -46.11528822,\n",
       "         -45.86466165,  -45.61403509,  -45.36340852,  -45.11278195,\n",
       "         -44.86215539,  -44.61152882,  -44.36090226,  -44.11027569,\n",
       "         -43.85964912,  -43.60902256,  -43.35839599,  -43.10776942,\n",
       "         -42.85714286,  -42.60651629,  -42.35588972,  -42.10526316,\n",
       "         -41.85463659,  -41.60401003,  -41.35338346,  -41.10275689,\n",
       "         -40.85213033,  -40.60150376,  -40.35087719,  -40.10025063,\n",
       "         -39.84962406,  -39.59899749,  -39.34837093,  -39.09774436,\n",
       "         -38.84711779,  -38.59649123,  -38.34586466,  -38.0952381 ,\n",
       "         -37.84461153,  -37.59398496,  -37.3433584 ,  -37.09273183,\n",
       "         -36.84210526,  -36.5914787 ,  -36.34085213,  -36.09022556,\n",
       "         -35.839599  ,  -35.58897243,  -35.33834586,  -35.0877193 ,\n",
       "         -34.83709273,  -34.58646617,  -34.3358396 ,  -34.08521303,\n",
       "         -33.83458647,  -33.5839599 ,  -33.33333333,  -33.08270677,\n",
       "         -32.8320802 ,  -32.58145363,  -32.33082707,  -32.0802005 ,\n",
       "         -31.82957393,  -31.57894737,  -31.3283208 ,  -31.07769424,\n",
       "         -30.82706767,  -30.5764411 ,  -30.32581454,  -30.07518797,\n",
       "         -29.8245614 ,  -29.57393484,  -29.32330827,  -29.0726817 ,\n",
       "         -28.82205514,  -28.57142857,  -28.32080201,  -28.07017544,\n",
       "         -27.81954887,  -27.56892231,  -27.31829574,  -27.06766917,\n",
       "         -26.81704261,  -26.56641604,  -26.31578947,  -26.06516291,\n",
       "         -25.81453634,  -25.56390977,  -25.31328321,  -25.06265664,\n",
       "         -24.81203008,  -24.56140351,  -24.31077694,  -24.06015038,\n",
       "         -23.80952381,  -23.55889724,  -23.30827068,  -23.05764411,\n",
       "         -22.80701754,  -22.55639098,  -22.30576441,  -22.05513784,\n",
       "         -21.80451128,  -21.55388471,  -21.30325815,  -21.05263158,\n",
       "         -20.80200501,  -20.55137845,  -20.30075188,  -20.05012531,\n",
       "         -19.79949875,  -19.54887218,  -19.29824561,  -19.04761905,\n",
       "         -18.79699248,  -18.54636591,  -18.29573935,  -18.04511278,\n",
       "         -17.79448622,  -17.54385965,  -17.29323308,  -17.04260652,\n",
       "         -16.79197995,  -16.54135338,  -16.29072682,  -16.04010025,\n",
       "         -15.78947368,  -15.53884712,  -15.28822055,  -15.03759398,\n",
       "         -14.78696742,  -14.53634085,  -14.28571429,  -14.03508772,\n",
       "         -13.78446115,  -13.53383459,  -13.28320802,  -13.03258145,\n",
       "         -12.78195489,  -12.53132832,  -12.28070175,  -12.03007519,\n",
       "         -11.77944862,  -11.52882206,  -11.27819549,  -11.02756892,\n",
       "         -10.77694236,  -10.52631579,  -10.27568922,  -10.02506266,\n",
       "          -9.77443609,   -9.52380952,   -9.27318296,   -9.02255639,\n",
       "          -8.77192982,   -8.52130326,   -8.27067669,   -8.02005013,\n",
       "          -7.76942356,   -7.51879699,   -7.26817043,   -7.01754386,\n",
       "          -6.76691729,   -6.51629073,   -6.26566416,   -6.01503759,\n",
       "          -5.76441103,   -5.51378446,   -5.26315789,   -5.01253133,\n",
       "          -4.76190476,   -4.5112782 ,   -4.26065163,   -4.01002506,\n",
       "          -3.7593985 ,   -3.50877193,   -3.25814536,   -3.0075188 ,\n",
       "          -2.75689223,   -2.50626566,   -2.2556391 ,   -2.00501253,\n",
       "          -1.75438596,   -1.5037594 ,   -1.25313283,   -1.00250627,\n",
       "          -0.7518797 ,   -0.50125313,   -0.25062657,    0.        ]),\n",
       " [<matplotlib.patches.Polygon at 0x141760e50>])"
      ]
     },
     "execution_count": 250,
     "metadata": {},
     "output_type": "execute_result"
    },
    {
     "data": {
      "image/png": "[encoded data removed]",
      "text/plain": [
       "<Figure size 432x288 with 1 Axes>"
      ]
     },
     "metadata": {
      "needs_background": "light"
     },
     "output_type": "display_data"
    }
   ],
   "source": [
    "plt.hist([np.log(dEdx_pdf(generator(np.random.random(11)))).sum() for j in range(50000)], np.linspace(-100,0,400), histtype='step')"
   ]
  },
  {
   "cell_type": "code",
   "execution_count": 290,
   "id": "lonely-anaheim",
   "metadata": {},
   "outputs": [],
   "source": [
    "M=11\n",
    "N= 50000\n",
    "\n",
    "likelihoods = np.array([sum(np.log(dEdx_pdf(generator(np.random.random(M))))) for j in range(N)])\n",
    "\n",
    "mu = likelihoods.sum() / N\n",
    "sigma = np.sqrt(sum((likelihoods - mu)**2) / N)"
   ]
  },
  {
   "cell_type": "code",
   "execution_count": 291,
   "id": "consistent-significance",
   "metadata": {},
   "outputs": [
    {
     "data": {
      "text/plain": [
       "(4.8047757798893835, -30.908657340797987)"
      ]
     },
     "execution_count": 291,
     "metadata": {},
     "output_type": "execute_result"
    }
   ],
   "source": [
    "sigma, mu"
   ]
  },
  {
   "cell_type": "code",
   "execution_count": 293,
   "id": "electoral-greene",
   "metadata": {},
   "outputs": [
    {
     "data": {
      "image/png": "[encoded data removed]",
      "text/plain": [
       "<Figure size 432x288 with 1 Axes>"
      ]
     },
     "metadata": {
      "needs_background": "light"
     },
     "output_type": "display_data"
    }
   ],
   "source": [
    "plt.hist(likelihoods, np.linspace(-100,0,400), histtype='step')\n",
    "array = plt.hist(np.random.normal(mu, sigma, N), np.linspace(-100,0,400), histtype='step')"
   ]
  },
  {
   "cell_type": "code",
   "execution_count": 23,
   "id": "unsigned-denial",
   "metadata": {},
   "outputs": [
    {
     "data": {
      "text/plain": [
       "996371"
      ]
     },
     "execution_count": 23,
     "metadata": {},
     "output_type": "execute_result"
    }
   ],
   "source": [
    "import random\n",
    "\n",
    "def get_num():\n",
    "    my_num = ''\n",
    "    for i in range(6):\n",
    "        my_num += str(random.randint(1,9))\n",
    "    return int(my_num)\n",
    "\n",
    "\n",
    "get_num()"
   ]
  },
  {
   "cell_type": "code",
   "execution_count": null,
   "id": "polished-round",
   "metadata": {},
   "outputs": [],
   "source": []
  }
 ],
 "metadata": {
  "kernelspec": {
   "display_name": "Python 3",
   "language": "python",
   "name": "python3"
  },
  "language_info": {
   "codemirror_mode": {
    "name": "ipython",
    "version": 3
   },
   "file_extension": ".py",
   "mimetype": "text/x-python",
   "name": "python",
   "nbconvert_exporter": "python",
   "pygments_lexer": "ipython3",
   "version": "3.7.9"
  }
 },
 "nbformat": 4,
 "nbformat_minor": 5
}
