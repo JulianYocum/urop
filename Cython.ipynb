{
 "cells": [
  {
   "cell_type": "code",
   "execution_count": 1,
   "id": "faced-instrumentation",
   "metadata": {},
   "outputs": [],
   "source": [
    "from OldHelper import channelcollisions as old_cc\n",
    "from Helper import load_coords\n",
    "import numpy as np\n",
    "import time\n",
    "\n",
    "rand_input = np.random.random((50,6))\n",
    "\n",
    "old_output = []\n",
    "\n",
    "def old_test(i):\n",
    "    s = time.time()\n",
    "    old_output.append(old_cc(rand_input[i], load_coords(\".\"))[2])\n",
    "    return time.time() - s\n",
    "\n",
    "#print(\"took\", old_test(1), \"s\")\n",
    "\n",
    "for i in range(50):\n",
    "    old_output.append(old_cc(rand_input[i], load_coords(\".\"))[2])"
   ]
  },
  {
   "cell_type": "code",
   "execution_count": 2,
   "id": "embedded-juice",
   "metadata": {},
   "outputs": [],
   "source": [
    "from Helper import channelcollisions as new_cc\n",
    "import numpy as np\n",
    "import time\n",
    "\n",
    "new_output = []\n",
    "\n",
    "def new_test(i):\n",
    "    \n",
    "    old_output = []\n",
    "\n",
    "    s = time.time()\n",
    "    new_output.append(new_cc(rand_input[i], load_coords(\".\"))[2])\n",
    "    return time.time() - s\n",
    "\n",
    "#print(\"took\", new_test(1), \"s\")\n",
    "\n",
    "for i in range(50):\n",
    "    new_output.append(new_cc(rand_input[i], load_coords(\".\"))[2])"
   ]
  },
  {
   "cell_type": "code",
   "execution_count": 3,
   "id": "practical-security",
   "metadata": {},
   "outputs": [
    {
     "data": {
      "text/plain": [
       "array([ True,  True,  True, False,  True,  True,  True, False,  True,\n",
       "       False])"
      ]
     },
     "execution_count": 3,
     "metadata": {},
     "output_type": "execute_result"
    }
   ],
   "source": [
    "old_output[0] == new_output[0]"
   ]
  },
  {
   "cell_type": "code",
   "execution_count": 42,
   "id": "little-private",
   "metadata": {},
   "outputs": [
    {
     "data": {
      "text/plain": [
       "True"
      ]
     },
     "execution_count": 42,
     "metadata": {},
     "output_type": "execute_result"
    }
   ],
   "source": [
    "def check():\n",
    "    rand_input = np.random.random((50,6))\n",
    "    \n",
    "    new_output = []\n",
    "    old_output = []\n",
    "    for i in range(50):\n",
    "        old_output.append(old_cc(rand_input[i], load_coords(\".\"))[2])\n",
    "        new_output.append(new_cc(rand_input[i], load_coords(\".\"))[2])\n",
    "    \n",
    "    for i in range(50):\n",
    "        if not (np.round(old_output[i],8) == np.round(new_output[i],8)).all():\n",
    "            return False\n",
    "    return True\n",
    "\n",
    "check()"
   ]
  },
  {
   "cell_type": "code",
   "execution_count": 8,
   "id": "proved-vegetable",
   "metadata": {},
   "outputs": [
    {
     "name": "stdout",
     "output_type": "stream",
     "text": [
      "checkpoint 1:  0.015041112899780273\n",
      "checkpoint 2:  0.028452157974243164\n",
      "checkpoint 3:  0.02970123291015625\n"
     ]
    }
   ],
   "source": [
    "import numpy as np\n",
    "import numpy.ctypeslib as ctl\n",
    "import ctypes\n",
    "import time\n",
    "\n",
    "def channelcollisions(line, file=None):\n",
    "    \n",
    "    libname = 'libcoll.so'\n",
    "    libdir = './'\n",
    "    lib=ctl.load_library(libname, libdir)\n",
    "\n",
    "    c_double_p = ctypes.POINTER(ctypes.c_double)\n",
    "    c_int_p = ctypes.POINTER(ctypes.c_int)\n",
    "\n",
    "    channelcollisions = lib.channelcollisions\n",
    "    channelcollisions.argtypes = [ctl.ndpointer(np.float64, \n",
    "                                             flags='aligned, c_contiguous'),\n",
    "                                 c_int_p,\n",
    "                                 c_int_p,\n",
    "                                 c_double_p]\n",
    "\n",
    "    #channelcollisions(np.array([1,2,3,4,5,6], dtype=np.float64))\n",
    "    \n",
    "    \n",
    "\n",
    "    data1 = (ctypes.c_int * 30)()\n",
    "    data2 = (ctypes.c_int * 30)()\n",
    "    data3 = (ctypes.c_double * 30)()\n",
    "    \n",
    "    print(\"checkpoint 1: \", time.time() - start)\n",
    "\n",
    "    res = channelcollisions(line.astype(np.float64), \n",
    "                            ctypes.cast(data1, c_int_p),\n",
    "                            ctypes.cast(data2, c_int_p), \n",
    "                            ctypes.cast(data3, c_double_p))\n",
    "    \n",
    "    print(\"checkpoint 2: \", time.time() - start)\n",
    "    \n",
    "    data1 = np.array(data1)\n",
    "    data2 = np.array(data2)\n",
    "    data3 = np.array(data3)\n",
    "    \n",
    "    hit_channels = data1[data1!=0]\n",
    "    miss_channels = data2[data2!=0]\n",
    "    track_lengths = data3[data3!=0]\n",
    "    \n",
    "    return (list(hit_channels), list(miss_channels), track_lengths)\n",
    "\n",
    "start = time.time()\n",
    "channelcollisions(rand_input[0])\n",
    "print(\"checkpoint 3: \", time.time() - start)"
   ]
  },
  {
   "cell_type": "code",
   "execution_count": null,
   "id": "original-holmes",
   "metadata": {},
   "outputs": [],
   "source": [
    "new_cc(rand_input[0], load_coords('.'))"
   ]
  },
  {
   "cell_type": "code",
   "execution_count": null,
   "id": "conceptual-worthy",
   "metadata": {},
   "outputs": [],
   "source": [
    "old_cc(rand_input[0], load_coords('.'))"
   ]
  },
  {
   "cell_type": "code",
   "execution_count": null,
   "id": "configured-graphics",
   "metadata": {},
   "outputs": [],
   "source": [
    "rand_input[0]"
   ]
  },
  {
   "cell_type": "code",
   "execution_count": null,
   "id": "objective-working",
   "metadata": {},
   "outputs": [],
   "source": [
    "old_output"
   ]
  },
  {
   "cell_type": "code",
   "execution_count": null,
   "id": "hearing-navigator",
   "metadata": {},
   "outputs": [],
   "source": [
    "new_output"
   ]
  },
  {
   "cell_type": "code",
   "execution_count": null,
   "id": "broadband-diversity",
   "metadata": {},
   "outputs": [],
   "source": [
    "new_test(1)"
   ]
  },
  {
   "cell_type": "code",
   "execution_count": null,
   "id": "stuck-standing",
   "metadata": {},
   "outputs": [],
   "source": [
    "import matplotlib.pyplot as plt\n",
    "\n",
    "[new_test(i) for i in range(50)] # calibrate\n",
    "\n",
    "\n",
    "new_tests = [new_test(i) for i in range(50)]\n",
    "old_tests = [old_test(i) for i in range(50)]\n",
    "\n",
    "\n",
    "\n",
    "plt.hist(old_tests, np.linspace(0,.1,30), histtype='step', label='py')\n",
    "plt.hist(new_tests, np.linspace(0,.1,30), histtype='step', label='pyx')\n",
    "plt.legend()"
   ]
  },
  {
   "cell_type": "code",
   "execution_count": null,
   "id": "tough-banks",
   "metadata": {},
   "outputs": [],
   "source": [
    "new_tests"
   ]
  },
  {
   "cell_type": "code",
   "execution_count": null,
   "id": "simplified-system",
   "metadata": {},
   "outputs": [],
   "source": []
  },
  {
   "cell_type": "code",
   "execution_count": null,
   "id": "satisfied-defensive",
   "metadata": {},
   "outputs": [],
   "source": []
  },
  {
   "cell_type": "code",
   "execution_count": null,
   "id": "streaming-constitutional",
   "metadata": {},
   "outputs": [],
   "source": [
    "%%cython\n",
    "\n",
    "import numpy as np\n",
    "from scipy.interpolate import CubicSpline\n",
    "from Helper import load_coords\n",
    "import time\n",
    "\n",
    "def lineplanecollision(planeNormal, planePoint, rayDirection, rayPoint, epsilon=1e-6):\n",
    "\n",
    "    ndotu = planeNormal.dot(rayDirection)\n",
    "    if abs(ndotu) < epsilon:\n",
    "        return None\n",
    "\n",
    "    t = -planeNormal.dot(rayPoint - planePoint) / ndotu\n",
    "\n",
    "    return rayPoint + t * rayDirection\n",
    "\n",
    "\n",
    "def linecubecollision(cubeCenter, cubeLength, rayDirection, rayPoint, epsilon=1e-6):\n",
    "\n",
    "    cubeCollisions = []\n",
    "\n",
    "    halfLength = cubeLength / 2.0\n",
    "\n",
    "    directions = np.array([\n",
    "        [0,0,halfLength], #up\n",
    "        [0,halfLength,0], #front\n",
    "        [halfLength,0,0], #right\n",
    "    ])\n",
    "\n",
    "    planeCollisions = []\n",
    "    for i in range(6):\n",
    "        if i >= 3:\n",
    "            faceNormal = -directions[i%3] # to get down, back, left\n",
    "        else:\n",
    "            faceNormal = directions[i]\n",
    "\n",
    "        facePoint = cubeCenter + faceNormal\n",
    "\n",
    "        collision = lineplanecollision(faceNormal, facePoint, rayDirection, rayPoint)\n",
    "        if collision is not None:\n",
    "            planeCollisions.append(collision)\n",
    "\n",
    "    #check if intersection is outside cube\n",
    "    for collision in planeCollisions:\n",
    "\n",
    "        inside = True\n",
    "        for i in range(3):\n",
    "            if collision[i] > (cubeCenter[i] + halfLength + epsilon) or collision[i] < (cubeCenter[i] - halfLength - epsilon):\n",
    "                inside = False\n",
    "\n",
    "        if inside:\n",
    "            cubeCollisions.append(collision)\n",
    "\n",
    "    return cubeCollisions\n",
    "\n",
    "\n",
    "def channelcollisions(line, coords, epsilon=1e-6):\n",
    "\n",
    "    cdef float[:] rayDirection = line[3:]\n",
    "    cdef float[:] rayPoint = line[:3]\n",
    "\n",
    "    #rayDirection = linepoints[1] - linepoints[0]\n",
    "    #rayPoint = linepoints[0]\n",
    "    cdef int cubeLength = 50\n",
    "\n",
    "    #start = time.time()\n",
    "\n",
    "    cdef int hit_channels[20]\n",
    "    cdef int miss_channels[20]\n",
    "    cdef float track_distances[20]\n",
    "     \n",
    "    # list of coords corresponding to channels\n",
    "    # index corresponds to channel num - 1\n",
    "    cdef float [:,:] coord_list = coords\n",
    "    cdef int num_channels = len(coord_list)\n",
    "    \n",
    "    \n",
    "    cdef int channel\n",
    "    cdef float [:] cubeCenter\n",
    "    cdef float [:] CP\n",
    "    cdef float distance_to_line\n",
    "\n",
    "    for i in range(num_channels):\n",
    "        channel = i+1\n",
    "        cubeCenter = coord_list[channel]\n",
    "\n",
    "        #check if cubeCenter is within range of line\n",
    "        \n",
    "        CP = cubeCenter - rayPoint\n",
    "        \n",
    "        distance_to_line = np.abs(np.linalg.norm(cross(CP,rayDirection)) / np.linalg.norm(rayDirection))\n",
    "        \n",
    "        print(distance_to_line)\n",
    "\n",
    "        #print(distance_to_line)\n",
    "\n",
    "        if distance_to_line < cubeLength/2*np.sqrt(3) + epsilon:\n",
    "        #if distance_to_line < cubeLength*np.sqrt(3) + epsilon:\n",
    "\n",
    "            collision = linecubecollision(cubeCenter, cubeLength, rayDirection, rayPoint)\n",
    "            if len(collision) == 2:\n",
    "                hit_channels.append(channel)\n",
    "                track_distances.append(np.linalg.norm(collision[1] - collision[0]))\n",
    "            else:\n",
    "                miss_channels.append(channel)\n",
    "\n",
    "    return (hit_channels, miss_channels, track_distances)\n",
    "\n",
    "# manually do crossproduct to avoid numpy overhead for small vectors\n",
    "def cross(a, b):\n",
    "    c = [a[1]*b[2] - a[2]*b[1], a[2]*b[0] - a[0]*b[2], a[0]*b[1] - a[1]*b[0]]\n",
    "    return c\n",
    "\n",
    "s = time.time()\n",
    "channelcollisions(np.random.random(6), np.array(list(load_coords(\".\").values()),dtype=np.float32))\n",
    "print(time.time() - s)"
   ]
  },
  {
   "cell_type": "code",
   "execution_count": null,
   "id": "major-memory",
   "metadata": {},
   "outputs": [],
   "source": []
  },
  {
   "cell_type": "code",
   "execution_count": null,
   "id": "automated-functionality",
   "metadata": {},
   "outputs": [],
   "source": [
    "%%cython\n",
    "\n",
    "import numpy as np\n",
    "from scipy.interpolate import CubicSpline\n",
    "from Helper import load_coords\n",
    "import time\n",
    "\n",
    "def lineplanecollision(planeNormal, planePoint, rayDirection, rayPoint, epsilon=1e-6):\n",
    "\n",
    "    ndotu = planeNormal.dot(rayDirection)\n",
    "    if abs(ndotu) < epsilon:\n",
    "        return None\n",
    "\n",
    "    t = -planeNormal.dot(rayPoint - planePoint) / ndotu\n",
    "\n",
    "    return rayPoint + t * rayDirection\n",
    "\n",
    "cdef vector[float] a = [0,0,1]\n",
    "cdef vector[float] b = [0,0,0]\n",
    "cdef vector[float] c = [0,0,1]\n",
    "cdef vector[float] d = [0,0,0]\n",
    "\n",
    "lineplanecollision(a,b,c,d)"
   ]
  },
  {
   "cell_type": "code",
   "execution_count": null,
   "id": "happy-brass",
   "metadata": {},
   "outputs": [],
   "source": []
  },
  {
   "cell_type": "code",
   "execution_count": null,
   "id": "speaking-watson",
   "metadata": {},
   "outputs": [],
   "source": [
    "from Helper import linecubecollision\n",
    "\n",
    "linecubecollision(np.array([0,1,0]), 50, np.array([-2, 1.1, 1]), np.array([1,0,0]))\n"
   ]
  },
  {
   "cell_type": "code",
   "execution_count": null,
   "id": "physical-recruitment",
   "metadata": {},
   "outputs": [],
   "source": [
    "[{i[0], i[1], i[2]} for i in load_coords('.').values()]"
   ]
  },
  {
   "cell_type": "code",
   "execution_count": null,
   "id": "systematic-creature",
   "metadata": {},
   "outputs": [],
   "source": [
    "import numpy as np\n",
    "a = np.array([1,2,3])\n",
    "b = np.array([4,5,6])\n",
    "\n",
    "np.linalg.norm(a) / np.linalg.norm(b)"
   ]
  },
  {
   "cell_type": "code",
   "execution_count": null,
   "id": "portable-stanford",
   "metadata": {},
   "outputs": [],
   "source": [
    "from Helper import *\n",
    "import time\n",
    "coords = load_coords('.')\n",
    "\n",
    "s = time.time()\n",
    "for i in range(50):\n",
    "    res = channelcollisions(np.array([1,2,3,4,5,6]), coords)\n",
    "print(time.time() - s)"
   ]
  },
  {
   "cell_type": "code",
   "execution_count": null,
   "id": "viral-standard",
   "metadata": {},
   "outputs": [],
   "source": [
    "res"
   ]
  },
  {
   "cell_type": "code",
   "execution_count": null,
   "id": "ceramic-knitting",
   "metadata": {},
   "outputs": [],
   "source": [
    "coords"
   ]
  },
  {
   "cell_type": "code",
   "execution_count": null,
   "id": "creative-medicaid",
   "metadata": {},
   "outputs": [],
   "source": [
    "# import the module \n",
    "import ctypes\n",
    "  \n",
    "# load the library \n",
    "lib = ctypes.cdll.LoadLibrary('./libcoll.so') \n",
    "  \n",
    "# create a Geek class \n",
    "class Collision(object): \n",
    "  \n",
    "    # constructor \n",
    "    def __init__(self): \n",
    "  \n",
    "        # attribute \n",
    "        self.obj = lib.Collision_new() \n",
    "  \n",
    "    # define method \n",
    "    def channelcollisions(self, track): \n",
    "        lib.Collision_channelcollisions(self.obj, track) \n",
    "  \n",
    "# create a Geek class object \n",
    "c = Collision() \n",
    "#c.channelcollisions.restype = ctypes.POINTER(ctypes.c_double * 10)\n",
    "  \n",
    "# # object method calling \n",
    "# c.channelcollisions()"
   ]
  },
  {
   "cell_type": "code",
   "execution_count": null,
   "id": "julian-wheat",
   "metadata": {},
   "outputs": [],
   "source": [
    "import numpy.ctypeslib as ctl\n",
    "import ctypes\n",
    "import numpy as np\n",
    "\n",
    "libname = 'libcoll.so'\n",
    "libdir = './'\n",
    "lib=ctl.load_library(libname, libdir)\n",
    "\n",
    "c_double_p = ctypes.POINTER(ctypes.c_double)\n",
    "c_int_p = ctypes.POINTER(ctypes.c_int)\n",
    "\n",
    "channelcollisions = lib.channelcollisions\n",
    "channelcollisions.argtypes = [ctl.ndpointer(np.float64, \n",
    "                                         flags='aligned, c_contiguous'),\n",
    "                             c_int_p,\n",
    "                             c_int_p,\n",
    "                             c_double_p]\n",
    "\n",
    "#channelcollisions(np.array([1,2,3,4,5,6], dtype=np.float64))\n",
    "\n",
    "data1 = (ctypes.c_int * 30)()\n",
    "data2 = (ctypes.c_int * 30)()\n",
    "data3 = (ctypes.c_double * 30)()\n",
    "\n",
    "res = channelcollisions(np.array([1,2,3,4,5,6], dtype=np.float64), \n",
    "                        ctypes.cast(data1, c_int_p),\n",
    "                        ctypes.cast(data2, c_int_p), \n",
    "                        ctypes.cast(data3, c_double_p))\n",
    "\n",
    "data1 = np.array(data1)\n",
    "data2 = np.array(data2)\n",
    "data3 = np.array(data3)\n",
    "\n",
    "hit_channels = data1[data1!=0]\n",
    "missed_channels = data2[data2!=0]\n",
    "track_lengths = data3[data3!=0]"
   ]
  },
  {
   "cell_type": "code",
   "execution_count": null,
   "id": "seasonal-brown",
   "metadata": {},
   "outputs": [],
   "source": []
  },
  {
   "cell_type": "code",
   "execution_count": null,
   "id": "painted-assets",
   "metadata": {},
   "outputs": [],
   "source": []
  }
 ],
 "metadata": {
  "kernelspec": {
   "display_name": "Python 3",
   "language": "python",
   "name": "python3"
  },
  "language_info": {
   "codemirror_mode": {
    "name": "ipython",
    "version": 3
   },
   "file_extension": ".py",
   "mimetype": "text/x-python",
   "name": "python",
   "nbconvert_exporter": "python",
   "pygments_lexer": "ipython3",
   "version": "3.9.1"
  }
 },
 "nbformat": 4,
 "nbformat_minor": 5
}
