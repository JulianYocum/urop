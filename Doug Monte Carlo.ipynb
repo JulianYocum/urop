{
 "cells": [
  {
   "cell_type": "code",
   "execution_count": null,
   "metadata": {
    "scrolled": false
   },
   "outputs": [],
   "source": [
    "import numpy as np\n",
    "import pandas as pd\n",
    "import os\n",
    "\n",
    "import pickle"
   ]
  },
  {
   "cell_type": "code",
   "execution_count": null,
   "metadata": {
    "scrolled": true
   },
   "outputs": [],
   "source": [
    "total_files = 0\n",
    "non_empty = 0\n",
    "\n",
    "frames = []\n",
    "\n",
    "directory = \"DougMonteCarlo/5884868\"\n",
    "\n",
    "for entry in os.scandir(directory):\n",
    "    total_files += 1\n",
    "    \n",
    "    array = np.load(entry.path, allow_pickle=True)\n",
    "    \n",
    "    if len(array) != 0:\n",
    "        #convert to pd dataframe\n",
    "        columns = list(array.dtype.names)\n",
    "        columns[4] = \"DepositedEnergyBy_\"\n",
    "        df = pd.DataFrame(data=array, columns=columns)\n",
    "        \n",
    "        df['Channel'] += 1\n",
    "        df['Cluster'] = non_empty\n",
    "        df['MaxTime'] = 0\n",
    "        non_empty += 1\n",
    "        frames.append(df)\n",
    "        \n",
    "eventdf = pd.concat(frames)\n",
    "eventdf\n",
    "\n"
   ]
  },
  {
   "cell_type": "code",
   "execution_count": null,
   "metadata": {
    "scrolled": false
   },
   "outputs": [],
   "source": [
    "len(eventdf['Channel'].unique())"
   ]
  },
  {
   "cell_type": "code",
   "execution_count": null,
   "metadata": {
    "scrolled": false
   },
   "outputs": [],
   "source": [
    "%run DataAnalysis.ipynb\n",
    "\n",
    "data = DataAnalysis()\n",
    "data.eventdf = eventdf\n",
    "data.make_clusterDF()\n",
    "\n",
    "data.get_clusterdf()"
   ]
  },
  {
   "cell_type": "code",
   "execution_count": null,
   "metadata": {
    "scrolled": false
   },
   "outputs": [],
   "source": []
  },
  {
   "cell_type": "code",
   "execution_count": 211,
   "metadata": {
    "scrolled": false
   },
   "outputs": [
    {
     "name": "stdout",
     "output_type": "stream",
     "text": [
      "1284\n"
     ]
    },
    {
     "data": {
      "image/png": "[encoded data removed]",
      "text/plain": [
       "<Figure size 1440x360 with 1 Axes>"
      ]
     },
     "metadata": {
      "needs_background": "light"
     },
     "output_type": "display_data"
    }
   ],
   "source": [
    "more_than_two = data.get_clusterdf()[data.get_clusterdf()['Channels'] > 2]\n",
    "print(len(more_than_one))\n",
    "\n",
    "plt.figure(figsize=(20,5)) # lets you make a custom size for your plot\n",
    "plt.tick_params(labelsize=16) #adjust fontsize of axis ticks\n",
    "plt.title(\"NRMSE Distribution\", fontsize=18)\n",
    "plt.ylabel('# of Clusters',fontsize=16)\n",
    "plt.xlabel('Normalized Root Mean Square Deviation',fontsize=16)\n",
    "\n",
    "#array=plt.hist(get_channelspercluster(timeclusterdata), np.linspace(0,40,41), histtype='step')\n",
    "\n",
    "#array=plt.hist(clusterdata['Zenith(deg)'], np.linspace(0,180,181), histtype='step')\n",
    "array=plt.hist(more_than_two['NRMSE'], np.linspace(0,15,100), histtype='step')\n",
    "\n",
    "#line=plt.axvline(1)\n",
    "#plt.gca().set_yscale(\"log\")"
   ]
  },
  {
   "cell_type": "code",
   "execution_count": 225,
   "metadata": {},
   "outputs": [
    {
     "data": {
      "text/html": [
       "<div>\n",
       "<style scoped>\n",
       "    .dataframe tbody tr th:only-of-type {\n",
       "        vertical-align: middle;\n",
       "    }\n",
       "\n",
       "    .dataframe tbody tr th {\n",
       "        vertical-align: top;\n",
       "    }\n",
       "\n",
       "    .dataframe thead th {\n",
       "        text-align: right;\n",
       "    }\n",
       "</style>\n",
       "<table border=\"1\" class=\"dataframe\">\n",
       "  <thead>\n",
       "    <tr style=\"text-align: right;\">\n",
       "      <th></th>\n",
       "      <th>Cluster</th>\n",
       "      <th>Events</th>\n",
       "      <th>Channels</th>\n",
       "      <th>StartTime</th>\n",
       "      <th>TimeSpread</th>\n",
       "      <th>NRMSE</th>\n",
       "      <th>Zenith</th>\n",
       "      <th>Azimuth</th>\n",
       "      <th>ExtraCh</th>\n",
       "      <th>MissingCh</th>\n",
       "    </tr>\n",
       "  </thead>\n",
       "  <tbody>\n",
       "    <tr>\n",
       "      <th>47</th>\n",
       "      <td>47</td>\n",
       "      <td>3</td>\n",
       "      <td>3</td>\n",
       "      <td>0</td>\n",
       "      <td>0</td>\n",
       "      <td>1.688823e-15</td>\n",
       "      <td>0.0</td>\n",
       "      <td>0.0</td>\n",
       "      <td>0</td>\n",
       "      <td>10</td>\n",
       "    </tr>\n",
       "    <tr>\n",
       "      <th>108</th>\n",
       "      <td>108</td>\n",
       "      <td>4</td>\n",
       "      <td>4</td>\n",
       "      <td>0</td>\n",
       "      <td>0</td>\n",
       "      <td>0.000000e+00</td>\n",
       "      <td>0.0</td>\n",
       "      <td>0.0</td>\n",
       "      <td>0</td>\n",
       "      <td>9</td>\n",
       "    </tr>\n",
       "    <tr>\n",
       "      <th>225</th>\n",
       "      <td>225</td>\n",
       "      <td>3</td>\n",
       "      <td>3</td>\n",
       "      <td>0</td>\n",
       "      <td>0</td>\n",
       "      <td>1.688823e-15</td>\n",
       "      <td>0.0</td>\n",
       "      <td>0.0</td>\n",
       "      <td>0</td>\n",
       "      <td>10</td>\n",
       "    </tr>\n",
       "    <tr>\n",
       "      <th>333</th>\n",
       "      <td>333</td>\n",
       "      <td>4</td>\n",
       "      <td>4</td>\n",
       "      <td>0</td>\n",
       "      <td>0</td>\n",
       "      <td>0.000000e+00</td>\n",
       "      <td>0.0</td>\n",
       "      <td>0.0</td>\n",
       "      <td>0</td>\n",
       "      <td>9</td>\n",
       "    </tr>\n",
       "    <tr>\n",
       "      <th>356</th>\n",
       "      <td>356</td>\n",
       "      <td>4</td>\n",
       "      <td>4</td>\n",
       "      <td>0</td>\n",
       "      <td>0</td>\n",
       "      <td>0.000000e+00</td>\n",
       "      <td>0.0</td>\n",
       "      <td>0.0</td>\n",
       "      <td>0</td>\n",
       "      <td>9</td>\n",
       "    </tr>\n",
       "    <tr>\n",
       "      <th>462</th>\n",
       "      <td>462</td>\n",
       "      <td>4</td>\n",
       "      <td>4</td>\n",
       "      <td>0</td>\n",
       "      <td>0</td>\n",
       "      <td>0.000000e+00</td>\n",
       "      <td>0.0</td>\n",
       "      <td>0.0</td>\n",
       "      <td>0</td>\n",
       "      <td>9</td>\n",
       "    </tr>\n",
       "    <tr>\n",
       "      <th>526</th>\n",
       "      <td>526</td>\n",
       "      <td>3</td>\n",
       "      <td>3</td>\n",
       "      <td>0</td>\n",
       "      <td>0</td>\n",
       "      <td>1.688823e-15</td>\n",
       "      <td>0.0</td>\n",
       "      <td>0.0</td>\n",
       "      <td>0</td>\n",
       "      <td>10</td>\n",
       "    </tr>\n",
       "    <tr>\n",
       "      <th>596</th>\n",
       "      <td>596</td>\n",
       "      <td>5</td>\n",
       "      <td>5</td>\n",
       "      <td>0</td>\n",
       "      <td>0</td>\n",
       "      <td>0.000000e+00</td>\n",
       "      <td>0.0</td>\n",
       "      <td>0.0</td>\n",
       "      <td>0</td>\n",
       "      <td>8</td>\n",
       "    </tr>\n",
       "    <tr>\n",
       "      <th>598</th>\n",
       "      <td>598</td>\n",
       "      <td>4</td>\n",
       "      <td>4</td>\n",
       "      <td>0</td>\n",
       "      <td>0</td>\n",
       "      <td>0.000000e+00</td>\n",
       "      <td>0.0</td>\n",
       "      <td>0.0</td>\n",
       "      <td>0</td>\n",
       "      <td>9</td>\n",
       "    </tr>\n",
       "    <tr>\n",
       "      <th>669</th>\n",
       "      <td>669</td>\n",
       "      <td>3</td>\n",
       "      <td>3</td>\n",
       "      <td>0</td>\n",
       "      <td>0</td>\n",
       "      <td>0.000000e+00</td>\n",
       "      <td>0.0</td>\n",
       "      <td>0.0</td>\n",
       "      <td>0</td>\n",
       "      <td>10</td>\n",
       "    </tr>\n",
       "  </tbody>\n",
       "</table>\n",
       "</div>"
      ],
      "text/plain": [
       "     Cluster  Events  Channels  StartTime  TimeSpread         NRMSE  Zenith  \\\n",
       "47        47       3         3          0           0  1.688823e-15     0.0   \n",
       "108      108       4         4          0           0  0.000000e+00     0.0   \n",
       "225      225       3         3          0           0  1.688823e-15     0.0   \n",
       "333      333       4         4          0           0  0.000000e+00     0.0   \n",
       "356      356       4         4          0           0  0.000000e+00     0.0   \n",
       "462      462       4         4          0           0  0.000000e+00     0.0   \n",
       "526      526       3         3          0           0  1.688823e-15     0.0   \n",
       "596      596       5         5          0           0  0.000000e+00     0.0   \n",
       "598      598       4         4          0           0  0.000000e+00     0.0   \n",
       "669      669       3         3          0           0  0.000000e+00     0.0   \n",
       "\n",
       "     Azimuth  ExtraCh  MissingCh  \n",
       "47       0.0        0         10  \n",
       "108      0.0        0          9  \n",
       "225      0.0        0         10  \n",
       "333      0.0        0          9  \n",
       "356      0.0        0          9  \n",
       "462      0.0        0          9  \n",
       "526      0.0        0         10  \n",
       "596      0.0        0          8  \n",
       "598      0.0        0          9  \n",
       "669      0.0        0         10  "
      ]
     },
     "execution_count": 225,
     "metadata": {},
     "output_type": "execute_result"
    }
   ],
   "source": [
    "zero = data.get_clusterdf()[data.get_clusterdf()['NRMSE'] < .01]\n",
    "zero[zero['Channels'] != 1].head(10)"
   ]
  },
  {
   "cell_type": "code",
   "execution_count": 221,
   "metadata": {},
   "outputs": [
    {
     "data": {
      "image/png": "[encoded data removed]",
      "text/plain": [
       "<Figure size 1440x360 with 1 Axes>"
      ]
     },
     "metadata": {
      "needs_background": "light"
     },
     "output_type": "display_data"
    }
   ],
   "source": [
    "plt.figure(figsize=(20,5)) # lets you make a custom size for your plot\n",
    "plt.tick_params(labelsize=16) #adjust fontsize of axis ticks\n",
    "plt.title(\"Zenith Angle Distrubtion\", fontsize=18)\n",
    "plt.ylabel('# of Clusters',fontsize=16)\n",
    "plt.xlabel('Cos(Zenith)',fontsize=16)\n",
    "array = plt.hist([math.cos(x) for x in data.get_clusterdf()['Zenith']], np.linspace(0,1.01,40), histtype='step')"
   ]
  },
  {
   "cell_type": "code",
   "execution_count": 222,
   "metadata": {},
   "outputs": [
    {
     "data": {
      "image/png": "[encoded data removed]",
      "text/plain": [
       "<Figure size 1440x360 with 1 Axes>"
      ]
     },
     "metadata": {
      "needs_background": "light"
     },
     "output_type": "display_data"
    }
   ],
   "source": [
    "plt.figure(figsize=(20,5)) # lets you make a custom size for your plot\n",
    "plt.tick_params(labelsize=16) #adjust fontsize of axis ticks\n",
    "plt.title(\"Azimuthal Angle Distribution\", fontsize=18)\n",
    "plt.ylabel('# of Clusters',fontsize=16)\n",
    "plt.xlabel('Azimuthal Angle (rad)',fontsize=16)\n",
    "\n",
    "#array=plt.hist(get_channelspercluster(timeclusterdata), np.linspace(0,40,41), histtype='step')\n",
    "\n",
    "#array=plt.hist(clusterdata['Zenith(deg)'], np.linspace(0,100,40), histtype='step')\n",
    "array=plt.hist(data.get_clusterdf()['Azimuth'], np.linspace(-math.pi/2,math.pi/2,90), histtype='step')"
   ]
  },
  {
   "cell_type": "code",
   "execution_count": 226,
   "metadata": {},
   "outputs": [
    {
     "data": {
      "image/png": "[encoded data removed]",
      "text/plain": [
       "<Figure size 432x288 with 1 Axes>"
      ]
     },
     "metadata": {
      "needs_background": "light"
     },
     "output_type": "display_data"
    }
   ],
   "source": [
    "plt.figure()\n",
    "plt.title(\"Extra Channels (filtered)\", fontsize=16)\n",
    "plt.xlabel(\"Extra Channels in Cluster\", fontsize=14)\n",
    "plt.ylabel(\"Occurance\", fontsize=14)\n",
    "\n",
    "array = plt.hist(data.get_clusterdf()['ExtraCh'], np.linspace(0,80,81))\n",
    "plt.gca().set_yscale(\"log\")"
   ]
  },
  {
   "cell_type": "code",
   "execution_count": null,
   "metadata": {
    "scrolled": false
   },
   "outputs": [],
   "source": [
    "#filename = \"\"\n",
    "#data = np.load(filename, allow_pickle=True)\n",
    "data = non_empty[3]\n",
    "\n",
    "columns = list(d2.dtype.names)\n",
    "columns[4] = \"DepositedEnergyBy_\"\n",
    "df = pd.DataFrame(data=data, columns=columns)"
   ]
  },
  {
   "cell_type": "code",
   "execution_count": null,
   "metadata": {
    "scrolled": true
   },
   "outputs": [],
   "source": [
    "#Join58848683809_MuonPlus_N1_E164180.668_C15.853,5.375,34.8_D3.0,-0.719,-0.719_Qshields.npy\n",
    "df"
   ]
  },
  {
   "cell_type": "code",
   "execution_count": null,
   "metadata": {
    "scrolled": false
   },
   "outputs": [],
   "source": [
    "%run DataAnalysis.ipynb\n",
    "\n",
    "for i in range(5):\n",
    "    #data = np.load(filename, allow_pickle=True)\n",
    "    data = non_empty[i]\n",
    "\n",
    "    columns = list(d2.dtype.names)\n",
    "    columns[4] = \"DepositedEnergyBy_\"\n",
    "    df = pd.DataFrame(data=data, columns=columns)\n",
    "    \n",
    "    df['Channel'] += 1\n",
    "    hit_channels = df['Channel'].values\n",
    "    print(hit_channels)\n",
    "    coords = DataAnalysis().load_coords()\n",
    "\n",
    "    hit_channel_coords = np.array([coords[channel] for channel in hit_channels])\n",
    "\n",
    "    plt.figure(figsize=(10,10))\n",
    "    ax = plt.axes(projection='3d')\n",
    "    ax.set_proj_type('ortho')\n",
    "\n",
    "    ax.scatter3D(*hit_channel_coords.T)\n",
    "    #ax.plot3D(*linepoints.T)\n",
    "\n",
    "    plt.xlim([-350,350])\n",
    "    plt.ylim([-350,350])\n",
    "    ax.set_zlim([-350,350])\n",
    "\n",
    "    ax.set_xlabel('x')\n",
    "    ax.set_ylabel('y')\n",
    "    ax.set_zlabel('z')\n",
    "\n",
    "    ax.view_init(15, 45)\n",
    "\n",
    "    plt.show()"
   ]
  },
  {
   "cell_type": "code",
   "execution_count": null,
   "metadata": {
    "scrolled": true
   },
   "outputs": [],
   "source": [
    "%run DataAnalysis.ipynb\n",
    "linepoints = np.array([[158.53, 53.75, 348.0],[.302841, .625561, -0.719]])\n",
    "hit_channels = DataAnalysis().channelcollisions(linepoints)\n",
    "print(hit_channels)\n",
    "coords = DataAnalysis().load_coords()\n",
    "\n",
    "hit_channel_coords = np.array([coords[channel] for channel in hit_channels])\n",
    "\n",
    "plt.figure(figsize=(10,10))\n",
    "ax = plt.axes(projection='3d')\n",
    "ax.set_proj_type('ortho')\n",
    "\n",
    "ax.scatter3D(*hit_channel_coords.T)\n",
    "ax.plot3D(*linepoints.T)\n",
    "\n",
    "plt.xlim([-350,350])\n",
    "plt.ylim([-350,350])\n",
    "ax.set_zlim([-350,350])\n",
    "\n",
    "ax.set_xlabel('x')\n",
    "ax.set_ylabel('y')\n",
    "ax.set_zlabel('z')\n",
    "\n",
    "ax.view_init(15, 0)\n",
    "\n",
    "plt.show()\n",
    "\n",
    "\n",
    "\n",
    "\n",
    "\n",
    "%run DataAnalysis.ipynb\n",
    "hit_channels = df['Channel'].values\n",
    "print(hit_channels)\n",
    "coords = DataAnalysis().load_coords()\n",
    "\n",
    "hit_channel_coords = np.array([coords[channel] for channel in hit_channels])\n",
    "\n",
    "plt.figure(figsize=(10,10))\n",
    "ax = plt.axes(projection='3d')\n",
    "ax.set_proj_type('ortho')\n",
    "\n",
    "ax.scatter3D(*hit_channel_coords.T)\n",
    "ax.plot3D(*linepoints.T)\n",
    "\n",
    "plt.xlim([-350,350])\n",
    "plt.ylim([-350,350])\n",
    "ax.set_zlim([-350,350])\n",
    "\n",
    "ax.set_xlabel('x')\n",
    "ax.set_ylabel('y')\n",
    "ax.set_zlabel('z')\n",
    "\n",
    "ax.view_init(15, 0)\n",
    "\n",
    "plt.show()"
   ]
  },
  {
   "cell_type": "code",
   "execution_count": null,
   "metadata": {
    "scrolled": false
   },
   "outputs": [],
   "source": []
  },
  {
   "cell_type": "code",
   "execution_count": null,
   "metadata": {
    "scrolled": false
   },
   "outputs": [],
   "source": []
  },
  {
   "cell_type": "code",
   "execution_count": null,
   "metadata": {
    "scrolled": false
   },
   "outputs": [],
   "source": [
    "import os"
   ]
  },
  {
   "cell_type": "code",
   "execution_count": null,
   "metadata": {
    "scrolled": false
   },
   "outputs": [],
   "source": [
    "os.stat('somefile.txt')"
   ]
  },
  {
   "cell_type": "code",
   "execution_count": null,
   "metadata": {
    "scrolled": false
   },
   "outputs": [],
   "source": []
  },
  {
   "cell_type": "code",
   "execution_count": null,
   "metadata": {
    "scrolled": false
   },
   "outputs": [],
   "source": []
  }
 ],
 "metadata": {
  "kernelspec": {
   "display_name": "Python 3",
   "language": "python",
   "name": "python3"
  },
  "language_info": {
   "codemirror_mode": {
    "name": "ipython",
    "version": 3
   },
   "file_extension": ".py",
   "mimetype": "text/x-python",
   "name": "python",
   "nbconvert_exporter": "python",
   "pygments_lexer": "ipython3",
   "version": "3.7.6"
  }
 },
 "nbformat": 4,
 "nbformat_minor": 4
}
