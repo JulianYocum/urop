{
 "cells": [
  {
   "cell_type": "code",
   "execution_count": null,
   "id": "strange-monte",
   "metadata": {},
   "outputs": [],
   "source": [
    "import numpy as np\n",
    "import matplotlib\n",
    "matplotlib.rcParams.update({'font.size': 14})\n",
    "\n",
    "import sys\n",
    "sys.path.insert(0, '../scripts/')\n",
    "\n",
    "\n",
    "from DataAnalysis import DataAnalysis\n",
    "\n",
    "mc = DataAnalysis(load=True, eventfile=\"../MC_events.csv\", clusterfile=\"../MC_clusters.csv\")\n",
    "\n",
    "naive = DataAnalysis()\n",
    "naive.load_eventdf(\"../perfect_events.csv\")\n",
    "naive.make_clusterdf(basicfit=True)\n",
    "\n",
    "naive.save_eventdf(\"../naive_events.csv\")\n",
    "naive.save_clusterdf(\"../naive_clusters.csv\")"
   ]
  },
  {
   "cell_type": "code",
   "execution_count": null,
   "id": "acceptable-notification",
   "metadata": {},
   "outputs": [],
   "source": []
  },
  {
   "cell_type": "code",
   "execution_count": null,
   "id": "piano-algorithm",
   "metadata": {},
   "outputs": [],
   "source": []
  }
 ],
 "metadata": {
  "kernelspec": {
   "display_name": "Python 3",
   "language": "python",
   "name": "python3"
  },
  "language_info": {
   "codemirror_mode": {
    "name": "ipython",
    "version": 3
   },
   "file_extension": ".py",
   "mimetype": "text/x-python",
   "name": "python",
   "nbconvert_exporter": "python",
   "pygments_lexer": "ipython3",
   "version": "3.9.1"
  }
 },
 "nbformat": 4,
 "nbformat_minor": 5
}
