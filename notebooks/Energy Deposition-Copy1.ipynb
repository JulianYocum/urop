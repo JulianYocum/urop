{
 "cells": [
  {
   "cell_type": "code",
   "execution_count": 1,
   "metadata": {},
   "outputs": [],
   "source": [
    "import numpy as np\n",
    "import scipy.optimize\n",
    "from scipy import constants\n",
    "from scipy.integrate import quad\n",
    "from scipy.integrate import quadrature\n",
    "import matplotlib.pyplot as plt"
   ]
  },
  {
   "cell_type": "code",
   "execution_count": null,
   "metadata": {},
   "outputs": [],
   "source": []
  },
  {
   "cell_type": "code",
   "execution_count": 28,
   "metadata": {},
   "outputs": [],
   "source": [
    "m_T = 2.1188477e-22 #g\n",
    "\n",
    "m_S = 4.6637066e-23 #g\n",
    "p_S = 4.3 #g/cm3\n",
    "N_S = p_S/m_S #1/cm3\n",
    "\n",
    "\n",
    "n = 1\n",
    "Z = 14\n",
    "V_0 = 13.6 * Z**2 * n / (n+1) #eV\n",
    "a = -1 / .3 * np.log(12*Z*n**2/V_0)\n",
    "\n",
    "c = 2.99792458e10 #cm/s\n",
    "beta = 1.0e-4\n",
    "v_0 = beta*c\n",
    "\n",
    "E_inc = 1/2*m_S*(beta*c)**2 * 6.242e+11 #eV"
   ]
  },
  {
   "cell_type": "code",
   "execution_count": null,
   "metadata": {},
   "outputs": [],
   "source": []
  },
  {
   "cell_type": "code",
   "execution_count": 52,
   "metadata": {},
   "outputs": [],
   "source": [
    "#Potentials\n",
    "\n",
    "def U_1(r):\n",
    "    return V_0 * np.exp(-a * r * 1e+8)\n",
    "\n",
    "def U_2(r):\n",
    "    return (1e-8)**4 * 0.0972 * Z * n**2 / r**4"
   ]
  },
  {
   "cell_type": "code",
   "execution_count": null,
   "metadata": {},
   "outputs": [],
   "source": []
  },
  {
   "cell_type": "code",
   "execution_count": 55,
   "metadata": {},
   "outputs": [],
   "source": [
    "# functions for finding r_min\n",
    "\n",
    "def radicand_1(r, b, m, v):\n",
    "    #return 2*m_T*(1/2*m_T*v_0**2-U_1(r)) - (m_T*b*v_0)**2/r**2\n",
    "    return 1 - (b / r)**2 - 2*U_1(r) / (m * v**2 * 6.242e+11)\n",
    "\n",
    "def radicand_2(r, b, m, v):\n",
    "    #return 2*m_T*(1/2*m_T*v_0**2-U_1(r)) - (m_T*b*v_0)**2/r**2\n",
    "    return 1 - (b / r)**2 - 2*U_2(r) / (m * v**2 * 6.242e+11)\n",
    "\n",
    "#def min_r(b, m, v):\n",
    "#    alpha = (1e-8)**4 * 0.097 * Z * n**2\n",
    "#    return np.sqrt(b**2/2 + 1/2*np.sqrt(b**4 + 4 * 2 * alpha / m / v**2))\n",
    "\n",
    "#b_0 = 1e-9"
   ]
  },
  {
   "cell_type": "code",
   "execution_count": 56,
   "metadata": {},
   "outputs": [],
   "source": [
    "v_1 = 1e-3*c"
   ]
  },
  {
   "cell_type": "code",
   "execution_count": 57,
   "metadata": {},
   "outputs": [
    {
     "data": {
      "image/png": "[encoded data removed]",
      "text/plain": [
       "<Figure size 432x288 with 1 Axes>"
      ]
     },
     "metadata": {
      "needs_background": "light"
     },
     "output_type": "display_data"
    }
   ],
   "source": [
    "mins = []\n",
    "bspace = np.logspace(-10, -6, 100)\n",
    "for b in bspace:\n",
    "    r_min = scipy.optimize.root_scalar(radicand_2, args=(b, m_S, v_1) , bracket=[1e-12, 1e+5], xtol=1e-20) #1e-7)  #, f_tol=1e-35)\n",
    "    mins.append(r_min.root)\n",
    "\n",
    "plt.plot(bspace, mins)\n",
    "plt.xlabel(\"b\")\n",
    "plt.ylabel(\"r_min\")\n",
    "\n",
    "plt.gca().set_xscale(\"log\")\n",
    "plt.gca().set_yscale(\"log\")"
   ]
  },
  {
   "cell_type": "code",
   "execution_count": 58,
   "metadata": {},
   "outputs": [
    {
     "data": {
      "text/plain": [
       "      converged: True\n",
       "           flag: 'converged'\n",
       " function_calls: 57\n",
       "     iterations: 56\n",
       "           root: 1.2790157808313453e-09"
      ]
     },
     "execution_count": 58,
     "metadata": {},
     "output_type": "execute_result"
    }
   ],
   "source": [
    "scipy.optimize.root_scalar(radicand_2, args=(1e-9, m_S, v_1) , bracket=[1e-12, 1e+5], xtol=1e-20)"
   ]
  },
  {
   "cell_type": "code",
   "execution_count": 59,
   "metadata": {},
   "outputs": [],
   "source": [
    "# Integrands corresponding to each potential\n",
    "\n",
    "def integrand_1(r, b, m, v):\n",
    "    \n",
    "    return (b / (r)**2) / np.sqrt(radicand_1(r, b, m, v))\n",
    "\n",
    "def integrand_2(r, b, m, v):\n",
    "    \n",
    "    return (b / (r)**2) / np.sqrt(radicand_2(r, b, m, v))"
   ]
  },
  {
   "cell_type": "code",
   "execution_count": 60,
   "metadata": {},
   "outputs": [],
   "source": [
    "import math"
   ]
  },
  {
   "cell_type": "code",
   "execution_count": 1663,
   "metadata": {},
   "outputs": [],
   "source": [
    "# Function which performs numeric integration on above integrands to find theta(b)\n",
    "\n",
    "from math import floor, log10\n",
    "\n",
    "def theta_b (b, m ,beta):\n",
    "    \n",
    "    v = beta*c\n",
    "    \n",
    "    res = scipy.optimize.root_scalar(radicand_2, args=(b, m, v) , bracket=[1e-20, 1e+5], xtol=1e-25) #1e-7)  #, f_tol=1e-35)\n",
    "    r_min2 = res.root\n",
    "    #r_min2 = min_r(b, m, v)\n",
    "        \n",
    "    #print(r_min1)\n",
    "    #print(r_min2)\n",
    "    #print(r_min2 < .3e-8)\n",
    "\n",
    "    if r_min2 > .3e-8:\n",
    "        I_1 = 0\n",
    "        \n",
    "        #bound adjustment for integratin fix\n",
    "        if r_min2 < 1e-7:\n",
    "            bound = 1e-7\n",
    "        if r_min2 < 1e-4:\n",
    "            bound = 1e-4\n",
    "        elif r_min2 < 1.0:\n",
    "            bound = 1.0\n",
    "        else:\n",
    "            bound = 1.0\n",
    "        \n",
    "        I_2 = quad(integrand_2, r_min2, bound, args=(b, m, v), epsrel=0, epsabs=1e-16, limit=1000)[0] +\\\n",
    "                quad(integrand_2, bound, np.inf, args=(b, m, v), epsrel=0, epsabs=1e-16, limit=1000)[0]\n",
    "    else:\n",
    "        \n",
    "        res = scipy.optimize.root_scalar(radicand_1, args=(b, m, v) , bracket=[1e-25, 1e+5], xtol=1e-25) #1e-7)  #, f_tol=1e-35)\n",
    "        r_min1 = res.root\n",
    "        \n",
    "        if r_min2 > r_min1:\n",
    "            r_min1 = r_min2\n",
    "        \n",
    "        '''\n",
    "        boundaries = [1e-18, 1e-15, 1e-12, .3e-8]\n",
    "        I_1 = 0\n",
    "        \n",
    "        for i in range(len(boundaries)):\n",
    "            \n",
    "            if r_min1 >= boundaries[i]:\n",
    "                continue\n",
    "            else:\n",
    "                new_boundaries = [r_min1] + boundaries[i:]\n",
    "                \n",
    "                for j in range(len(new_boundaries) - 1):\n",
    "                    res = quad(integrand_1, new_boundaries[j], new_boundaries[j+1], args=(b, m, v), epsrel=0, epsabs=1e-16, limit=1000)\n",
    "                    print(res)\n",
    "                    \n",
    "                    if res[0] < 0:\n",
    "                        print(\"error\")\n",
    "                        return 0\n",
    "                    else:\n",
    "                        I_1 += res[0]\n",
    "                \n",
    "                break\n",
    "        '''\n",
    "        \n",
    "        if r_min1 > 1e-10:\n",
    "            I_1 = quad(integrand_1, r_min1, .3e-8, args=(b, m, v), epsrel=0, epsabs=1e-16)[0]\n",
    "            \n",
    "        else:\n",
    "            I_1 = quad(integrand_1, r_min1, 1e-10, args=(b, m, v), epsrel=0, epsabs=1e-16)[0] +\\\n",
    "                quad(integrand_1, 1e-10, .3e-8, args=(b, m, v), epsrel=0, epsabs=1e-16)[0]\n",
    "        \n",
    "        #r_min2 = scipy.optimize.root_scalar(radicand_2, args=(b, m, v) , bracket=[1e-20, 1e+5], xtol=1e-25).root\n",
    "        #I_1 = quad(integrand_2, r_min2, .3e-8, args=(b, m, v), epsrel=0, epsabs=1e-16)[0]\n",
    "        \n",
    "        I_2 = quad(integrand_2, .3e-8, 1e-4, args=(b, m, v), epsrel=0, epsabs=1e-16)[0] +\\\n",
    "                quad(integrand_2, 1e-4, np.inf, args=(b, m, v), epsrel=0, epsabs=1e-16, limit=1000)[0]\n",
    "        \n",
    "        \n",
    "        if I_1 < 0 or I_2 < 0 or math.isnan(I_1) or math.isnan(I_2):\n",
    "            print('error')\n",
    "            print(\"I_1: \" + str(I_1))\n",
    "            print(\"I_2: \" + str(I_2))\n",
    "            print(r_min1)\n",
    "            return None\n",
    "    \n",
    "    #I_2 = quad(integrand_2, .3e-8, np.inf, args=(b, m, v), epsabs=0)[0]\n",
    "    \n",
    "    #print(\"I_1: \" + str(I_1))\n",
    "    #print(\"I_2: \" + str(I_2))\n",
    "    #print(\"sum: \" + str(I_1 + I_2))\n",
    "    #print()\n",
    "    \n",
    "    phi = I_1 + I_2\n",
    "    \n",
    "    if(math.isnan(phi)):\n",
    "        print(b)\n",
    "    \n",
    "    theta =  np.pi - 2 * phi\n",
    "    \n",
    "    if theta < 1e-10:\n",
    "        return 0\n",
    "    else:\n",
    "        return theta\n",
    "    \n",
    "    return theta"
   ]
  },
  {
   "cell_type": "code",
   "execution_count": 62,
   "metadata": {},
   "outputs": [
    {
     "name": "stderr",
     "output_type": "stream",
     "text": [
      "/Users/julianyocum/opt/anaconda3/envs/UROP/lib/python3.7/site-packages/ipykernel_launcher.py:5: RuntimeWarning: invalid value encountered in sqrt\n",
      "  \"\"\"\n",
      "/Users/julianyocum/opt/anaconda3/envs/UROP/lib/python3.7/site-packages/ipykernel_launcher.py:9: RuntimeWarning: invalid value encountered in sqrt\n",
      "  if __name__ == '__main__':\n"
     ]
    },
    {
     "data": {
      "image/png": "[encoded data removed]",
      "text/plain": [
       "<Figure size 432x288 with 1 Axes>"
      ]
     },
     "metadata": {
      "needs_background": "light"
     },
     "output_type": "display_data"
    }
   ],
   "source": [
    "rspace = np.logspace(-12, -3, 100)\n",
    "plt.plot(rspace, integrand_1(rspace, 1e-12, m_S, v_0))\n",
    "plt.plot(rspace, integrand_2(rspace, 1e-12, m_S, v_0))\n",
    "\n",
    "\n",
    "plt.gca().set_xscale(\"log\")\n",
    "#plt.gca().set_yscale(\"log\")"
   ]
  },
  {
   "cell_type": "code",
   "execution_count": null,
   "metadata": {},
   "outputs": [],
   "source": []
  },
  {
   "cell_type": "code",
   "execution_count": 1603,
   "metadata": {},
   "outputs": [
    {
     "name": "stderr",
     "output_type": "stream",
     "text": [
      "/Users/julianyocum/opt/anaconda3/envs/UROP/lib/python3.7/site-packages/ipykernel_launcher.py:28: IntegrationWarning: The algorithm does not converge.  Roundoff error is detected\n",
      "  in the extrapolation table.  It is assumed that the requested tolerance\n",
      "  cannot be achieved, and that the returned result (if full_output = 1) is \n",
      "  the best which can be obtained.\n",
      "/Users/julianyocum/opt/anaconda3/envs/UROP/lib/python3.7/site-packages/ipykernel_launcher.py:28: IntegrationWarning: The occurrence of roundoff error is detected, which prevents \n",
      "  the requested tolerance from being achieved.  The error may be \n",
      "  underestimated.\n",
      "/Users/julianyocum/opt/anaconda3/envs/UROP/lib/python3.7/site-packages/ipykernel_launcher.py:29: IntegrationWarning: The occurrence of roundoff error is detected, which prevents \n",
      "  the requested tolerance from being achieved.  The error may be \n",
      "  underestimated.\n"
     ]
    },
    {
     "data": {
      "image/png": "[encoded data removed]",
      "text/plain": [
       "<Figure size 432x288 with 1 Axes>"
      ]
     },
     "metadata": {
      "needs_background": "light"
     },
     "output_type": "display_data"
    }
   ],
   "source": [
    "v_2 = c*1e-3\n",
    "bspace = np.logspace(-14, -4, 1000)\n",
    "thetas = [theta_b(b, m_S, v_2) for b in bspace]\n",
    "    \n",
    "plt.plot(bspace, thetas)\n",
    "\n",
    "plt.title(\"theta(b) from Potentials\")\n",
    "plt.xlabel(\"b\")\n",
    "plt.ylabel(\"theta\")\n",
    "\n",
    "#plt.axvline(.3e-8)\n",
    "\n",
    "plt.gca().set_xscale(\"log\")\n",
    "#plt.gca().set_yscale(\"log\")"
   ]
  },
  {
   "cell_type": "code",
   "execution_count": 13,
   "metadata": {},
   "outputs": [],
   "source": [
    "from scipy.interpolate import interp1d\n",
    "from scipy.interpolate import CubicSpline"
   ]
  },
  {
   "cell_type": "code",
   "execution_count": 1664,
   "metadata": {},
   "outputs": [],
   "source": [
    "#build spline for b(theta):\n",
    "\n",
    "def make_b(beta, m):\n",
    "    l_bound = 1e-22\n",
    "    u_bound = 1e-3\n",
    "        \n",
    "    y = np.logspace(np.log10(l_bound), np.log10(u_bound), 1000)\n",
    "    x = np.array([theta_b(b, m, beta) for b in y])\n",
    "    x = x[::-1]\n",
    "    y = y[::-1]\n",
    "    \n",
    "    x[0] = 0\n",
    "    #x = x * (x > theta_lim)\n",
    "    y[0] = u_bound\n",
    "    \n",
    "    x[-1] = np.pi\n",
    "    y[-1] = l_bound\n",
    "    \n",
    "    while(x[1] == 0):\n",
    "        x = np.delete(x, 0)\n",
    "        y = np.delete(y, 0)\n",
    "            \n",
    "    y = [yi for _,yi in sorted(zip(x,y))]\n",
    "    x = np.array(sorted(x))\n",
    "    \n",
    "    #print(x)\n",
    "    #print(y)\n",
    "    \n",
    "    dx = np.diff(x)\n",
    "    if np.any(dx <= 0):\n",
    "        print(\"fuck\")\n",
    "        print(x)\n",
    "        \n",
    "    #max_index = np.where(x > theta_min)[0][0]\n",
    "        \n",
    "    b_min = y[-1]\n",
    "    b_max = y[0] #y[max_index]\n",
    "    \n",
    "    #del y[:1]\n",
    "    \n",
    "    #b = interp1d(x, y, kind='cubic')\n",
    "    return (CubicSpline(x, y), b_min, b_max)"
   ]
  },
  {
   "cell_type": "code",
   "execution_count": 1565,
   "metadata": {},
   "outputs": [
    {
     "name": "stderr",
     "output_type": "stream",
     "text": [
      "/Users/julianyocum/opt/anaconda3/envs/UROP/lib/python3.7/site-packages/ipykernel_launcher.py:29: IntegrationWarning: The integral is probably divergent, or slowly convergent.\n",
      "/Users/julianyocum/opt/anaconda3/envs/UROP/lib/python3.7/site-packages/ipykernel_launcher.py:28: IntegrationWarning: The algorithm does not converge.  Roundoff error is detected\n",
      "  in the extrapolation table.  It is assumed that the requested tolerance\n",
      "  cannot be achieved, and that the returned result (if full_output = 1) is \n",
      "  the best which can be obtained.\n",
      "/Users/julianyocum/opt/anaconda3/envs/UROP/lib/python3.7/site-packages/ipykernel_launcher.py:28: IntegrationWarning: The occurrence of roundoff error is detected, which prevents \n",
      "  the requested tolerance from being achieved.  The error may be \n",
      "  underestimated.\n",
      "/Users/julianyocum/opt/anaconda3/envs/UROP/lib/python3.7/site-packages/ipykernel_launcher.py:29: IntegrationWarning: The occurrence of roundoff error is detected, which prevents \n",
      "  the requested tolerance from being achieved.  The error may be \n",
      "  underestimated.\n"
     ]
    },
    {
     "data": {
      "text/plain": [
       "1.6126029523523704"
      ]
     },
     "execution_count": 1565,
     "metadata": {},
     "output_type": "execute_result"
    }
   ],
   "source": [
    "res, err = dEdx(1e-5, theta_min=1e-2, integration_diagnostics=False)\n",
    "res * 1e-9"
   ]
  },
  {
   "cell_type": "code",
   "execution_count": null,
   "metadata": {},
   "outputs": [],
   "source": []
  },
  {
   "cell_type": "code",
   "execution_count": 595,
   "metadata": {},
   "outputs": [
    {
     "name": "stderr",
     "output_type": "stream",
     "text": [
      "/Users/julianyocum/opt/anaconda3/envs/UROP/lib/python3.7/site-packages/ipykernel_launcher.py:28: IntegrationWarning: The algorithm does not converge.  Roundoff error is detected\n",
      "  in the extrapolation table.  It is assumed that the requested tolerance\n",
      "  cannot be achieved, and that the returned result (if full_output = 1) is \n",
      "  the best which can be obtained.\n",
      "/Users/julianyocum/opt/anaconda3/envs/UROP/lib/python3.7/site-packages/ipykernel_launcher.py:28: IntegrationWarning: The occurrence of roundoff error is detected, which prevents \n",
      "  the requested tolerance from being achieved.  The error may be \n",
      "  underestimated.\n",
      "/Users/julianyocum/opt/anaconda3/envs/UROP/lib/python3.7/site-packages/ipykernel_launcher.py:29: IntegrationWarning: The occurrence of roundoff error is detected, which prevents \n",
      "  the requested tolerance from being achieved.  The error may be \n",
      "  underestimated.\n"
     ]
    },
    {
     "data": {
      "image/png": "[encoded data removed]",
      "text/plain": [
       "<Figure size 432x288 with 1 Axes>"
      ]
     },
     "metadata": {
      "needs_background": "light"
     },
     "output_type": "display_data"
    },
    {
     "data": {
      "image/png": "[encoded data removed]",
      "text/plain": [
       "<Figure size 432x288 with 1 Axes>"
      ]
     },
     "metadata": {
      "needs_background": "light"
     },
     "output_type": "display_data"
    }
   ],
   "source": [
    "ynew = np.logspace(-15, -4, 400)\n",
    "xnew = [theta_b(b, m_S, v_0) for b in ynew]\n",
    "\n",
    "\n",
    "plt.plot(xnew, b(xnew))\n",
    "plt.gca().set_yscale(\"log\")\n",
    "#plt.gca().set_xscale(\"log\")\n",
    "\n",
    "#plt.xlim(3, np.pi)\n",
    "\n",
    "\n",
    "plt.figure()\n",
    "\n",
    "#plt.plot(xnew, ynew, 'o')\n",
    "plt.plot(xnew, -b.derivative()(xnew))\n",
    "plt.plot(xnew, b.derivative()(xnew))\n",
    "\n",
    "\n",
    "#plt.plot(np.linspace(0, np.pi, 1000), -b.derivative()(np.linspace(0, np.pi,1000)))\n",
    "\n",
    "plt.xlabel(\"theta\")\n",
    "plt.ylabel(\"b\")\n",
    "\n",
    "plt.gca().set_yscale(\"log\")\n",
    "#plt.gca().set_xscale(\"log\")\n",
    "\n",
    "#plt.xlim(3, np.pi)\n"
   ]
  },
  {
   "cell_type": "code",
   "execution_count": 311,
   "metadata": {},
   "outputs": [
    {
     "data": {
      "text/plain": [
       "Text(0, 0.5, 'b')"
      ]
     },
     "execution_count": 311,
     "metadata": {},
     "output_type": "execute_result"
    },
    {
     "data": {
      "image/png": "[encoded data removed]",
      "text/plain": [
       "<Figure size 432x288 with 1 Axes>"
      ]
     },
     "metadata": {
      "needs_background": "light"
     },
     "output_type": "display_data"
    },
    {
     "data": {
      "image/png": "[encoded data removed]",
      "text/plain": [
       "<Figure size 432x288 with 1 Axes>"
      ]
     },
     "metadata": {
      "needs_background": "light"
     },
     "output_type": "display_data"
    }
   ],
   "source": [
    "ynew = np.logspace(-22, -20, 200)\n",
    "xnew = [theta_b(b, m_S, v_0) for b in ynew]\n",
    "\n",
    "\n",
    "plt.plot(ynew, b(xnew))\n",
    "#plt.gca().set_yscale(\"log\")\n",
    "#plt.gca().set_xscale(\"log\")\n",
    "\n",
    "\n",
    "plt.figure()\n",
    "\n",
    "#plt.plot(xnew, ynew, 'o')\n",
    "plt.plot(ynew, -b.derivative()(xnew))\n",
    "plt.plot(ynew, b.derivative()(xnew))\n",
    "\n",
    "\n",
    "#plt.plot(np.linspace(0, np.pi, 1000), -b.derivative()(np.linspace(0, np.pi,1000)))\n",
    "\n",
    "plt.xlabel(\"theta\")\n",
    "plt.ylabel(\"b\")\n",
    "\n",
    "#plt.gca().set_yscale(\"log\")\n",
    "#plt.gca().set_xscale(\"log\")\n",
    "\n",
    "\n"
   ]
  },
  {
   "cell_type": "code",
   "execution_count": 321,
   "metadata": {},
   "outputs": [],
   "source": [
    "#Equation 11\n",
    "\n",
    "def theta(K, E): \n",
    "    return 2 * np.arcsin(np.sqrt(K/(4*E)))\n",
    "\n",
    "\n",
    "def K(theta, E):\n",
    "    return 4*E* (np.sin(theta/2))**2\n",
    "\n",
    "\n",
    "#Equation 10\n",
    "\n",
    "def sigma(K, E, b):\n",
    "    return - b.derivative()(theta(K, E)) * b(theta(K, E)) / np.sin(theta(K, E))"
   ]
  },
  {
   "cell_type": "code",
   "execution_count": 613,
   "metadata": {},
   "outputs": [
    {
     "name": "stderr",
     "output_type": "stream",
     "text": [
      "/Users/julianyocum/opt/anaconda3/envs/UROP/lib/python3.7/site-packages/ipykernel_launcher.py:4: RuntimeWarning: invalid value encountered in arcsin\n",
      "  after removing the cwd from sys.path.\n",
      "/Users/julianyocum/opt/anaconda3/envs/UROP/lib/python3.7/site-packages/ipykernel_launcher.py:4: RuntimeWarning: invalid value encountered in arcsin\n",
      "  after removing the cwd from sys.path.\n"
     ]
    },
    {
     "data": {
      "image/png": "[encoded data removed]",
      "text/plain": [
       "<Figure size 432x288 with 1 Axes>"
      ]
     },
     "metadata": {
      "needs_background": "light"
     },
     "output_type": "display_data"
    },
    {
     "data": {
      "image/png": "[encoded data removed]",
      "text/plain": [
       "<Figure size 432x288 with 1 Axes>"
      ]
     },
     "metadata": {
      "needs_background": "light"
     },
     "output_type": "display_data"
    }
   ],
   "source": [
    "beta = 1e-5\n",
    "E_inc = 1/2*m_S*(beta*c)**2 * 6.242e+11 # ergs -> eV\n",
    "b, b_min, b_max = make_b(beta*c)\n",
    "\n",
    "Ks = np.logspace(-1, 2, 1000)\n",
    "\n",
    "plt.ylabel(\"sigma\")\n",
    "plt.xlabel(\"K (eV)\")\n",
    "\n",
    "plt.plot(Ks, sigma(Ks, E_inc, b))\n",
    "\n",
    "#plt.xlim(0,2)\n",
    "\n",
    "#plt.gca().set_xscale(\"log\")\n",
    "#plt.gca().set_yscale(\"log\")\n",
    "\n",
    "\n",
    "\n",
    "plt.figure()\n",
    "\n",
    "plt.ylabel(\"b\")\n",
    "plt.xlabel(\"K (eV)\")\n",
    "\n",
    "plt.plot(Ks, b(theta(Ks, E_inc)))\n",
    "\n",
    "#plt.gca().set_xscale(\"log\")\n",
    "plt.gca().set_yscale(\"log\")\n",
    "\n",
    "\n"
   ]
  },
  {
   "cell_type": "code",
   "execution_count": 1649,
   "metadata": {},
   "outputs": [],
   "source": [
    "def dEdx(beta, m, angle_diagnostics=False, integration_diagnostics=False):\n",
    "    \n",
    "    E_inc = 1/2* m *(beta*c)**2 * 6.242e+11 # ergs -> eV\n",
    "    b, b_min, b_max = make_b(beta*c)\n",
    "    \n",
    "    if angle_diagnostics:\n",
    "        b_test = np.logspace(-20, -6, 100)\n",
    "        theta_test = [theta_b(b, m_S, v_0) for b in b_test]\n",
    "        plt.plot(theta_test,b(theta_test))\n",
    "        #plt.plot(np.logspace(-5,np.log10(np.pi),100),-b(np.logspace(-5,np.log10(np.pi),100)))\n",
    "        plt.gca().set_yscale(\"log\")\n",
    "        plt.show()\n",
    "        \n",
    "    b_max = 5 / 2 * 1e-8\n",
    "        \n",
    "    K_min = K(theta_b(b_max, m, beta*c), E_inc)\n",
    "    K_max = K(theta_b(b_min, m, beta*c), E_inc)\n",
    "    \n",
    "    boundaries = [K_min, 1e-11, 1e-8, 1e-5, 1e-2, 1, K_max]\n",
    "    \n",
    "    summ, err = integrate(sigma, boundaries, l_bound=K_min, args=(E_inc, b), verbose=integration_diagnostics)\n",
    "        \n",
    "    return (N_S*summ, N_S*err)"
   ]
  },
  {
   "cell_type": "code",
   "execution_count": 1650,
   "metadata": {},
   "outputs": [
    {
     "name": "stderr",
     "output_type": "stream",
     "text": [
      "/Users/julianyocum/opt/anaconda3/envs/UROP/lib/python3.7/site-packages/ipykernel_launcher.py:29: IntegrationWarning: The integral is probably divergent, or slowly convergent.\n",
      "/Users/julianyocum/opt/anaconda3/envs/UROP/lib/python3.7/site-packages/ipykernel_launcher.py:28: IntegrationWarning: The algorithm does not converge.  Roundoff error is detected\n",
      "  in the extrapolation table.  It is assumed that the requested tolerance\n",
      "  cannot be achieved, and that the returned result (if full_output = 1) is \n",
      "  the best which can be obtained.\n",
      "/Users/julianyocum/opt/anaconda3/envs/UROP/lib/python3.7/site-packages/ipykernel_launcher.py:28: IntegrationWarning: The occurrence of roundoff error is detected, which prevents \n",
      "  the requested tolerance from being achieved.  The error may be \n",
      "  underestimated.\n",
      "/Users/julianyocum/opt/anaconda3/envs/UROP/lib/python3.7/site-packages/ipykernel_launcher.py:29: IntegrationWarning: The occurrence of roundoff error is detected, which prevents \n",
      "  the requested tolerance from being achieved.  The error may be \n",
      "  underestimated.\n",
      "/Users/julianyocum/opt/anaconda3/envs/UROP/lib/python3.7/site-packages/ipykernel_launcher.py:75: IntegrationWarning: The integral is probably divergent, or slowly convergent.\n",
      "/Users/julianyocum/opt/anaconda3/envs/UROP/lib/python3.7/site-packages/ipykernel_launcher.py:74: IntegrationWarning: The occurrence of roundoff error is detected, which prevents \n",
      "  the requested tolerance from being achieved.  The error may be \n",
      "  underestimated.\n",
      "/Users/julianyocum/opt/anaconda3/envs/UROP/lib/python3.7/site-packages/ipykernel_launcher.py:63: IntegrationWarning: The occurrence of roundoff error is detected, which prevents \n",
      "  the requested tolerance from being achieved.  The error may be \n",
      "  underestimated.\n"
     ]
    },
    {
     "data": {
      "text/plain": [
       "Text(0.5, 0, 'beta')"
      ]
     },
     "execution_count": 1650,
     "metadata": {},
     "output_type": "execute_result"
    },
    {
     "data": {
      "image/png": "[encoded data removed]",
      "text/plain": [
       "<Figure size 432x288 with 1 Axes>"
      ]
     },
     "metadata": {
      "needs_background": "light"
     },
     "output_type": "display_data"
    }
   ],
   "source": [
    "\n",
    "\n",
    "betas = np.logspace(-5, -3, 5)\n",
    "Es1 = np.array([dEdx(beta)[0] for beta in betas])\n",
    "#Es2 = np.array([dEdx(beta, 2)[0] for beta in betas])\n",
    "\n",
    "plt.plot(betas, Es1 * 1e-9)\n",
    "#plt.plot(betas, Es2 * 1e-9)\n",
    "\n",
    "plt.gca().set_xscale(\"log\")\n",
    "plt.gca().set_yscale(\"log\")\n",
    "\n",
    "plt.grid()\n",
    "\n",
    "plt.ylabel(\"dE/dx (GeV/cm)\")\n",
    "plt.xlabel(\"beta\")"
   ]
  },
  {
   "cell_type": "code",
   "execution_count": null,
   "metadata": {},
   "outputs": [],
   "source": []
  },
  {
   "cell_type": "code",
   "execution_count": 213,
   "metadata": {},
   "outputs": [],
   "source": [
    "p_Fe = 11.5 #g * cm^-3\n",
    "m_Fe = 9.2732796e-23 #g\n",
    "mu = 2.14 #Bohr magnetons\n",
    "\n",
    "N_Fe = p_Fe / m_Fe # cm^-3\n",
    "\n",
    "n = 1\n",
    "g_D = 3.29e-8 #esu\n",
    "g = n * g_D\n",
    "\n",
    "c = 2.9979e+10 #cm / s\n",
    "e = 4.8032e-10 #esu\n",
    "hbar = 1.0546e-27 #erg*s\n",
    "m_e = 9.1094e-28 #g"
   ]
  },
  {
   "cell_type": "code",
   "execution_count": 214,
   "metadata": {},
   "outputs": [],
   "source": [
    "def para_dEdx():\n",
    "    return .6  * mu * 4* np.pi * hbar * g * e * N_Fe / (c * m_e) * (6.242e+11 * 1e-9)"
   ]
  },
  {
   "cell_type": "code",
   "execution_count": 240,
   "metadata": {},
   "outputs": [
    {
     "data": {
      "image/png": "[encoded data removed]",
      "text/plain": [
       "<Figure size 432x288 with 1 Axes>"
      ]
     },
     "metadata": {
      "needs_background": "light"
     },
     "output_type": "display_data"
    }
   ],
   "source": [
    "\n",
    "for n in [1,2,3,6,9]:\n",
    "    g = n * g_D\n",
    "\n",
    "    plt.plot(np.arange(1,5), [para_dEdx()]*4)\n",
    "    plt.gca().set_yscale(\"log\")\n",
    "    plt.ylim(0.1, 100)"
   ]
  },
  {
   "cell_type": "code",
   "execution_count": 987,
   "metadata": {},
   "outputs": [],
   "source": [
    "def integrate(f, bounds, l_bound=None, args=None, verbose=False):\n",
    "    \n",
    "    used_l_bound = False\n",
    "    summ = 0\n",
    "    tot_err = 0\n",
    "    for i in range(len(bounds) - 1 + bool(l_bound)):\n",
    "        \n",
    "        if l_bound and not used_l_bound:\n",
    "            \n",
    "            if l_bound >= bounds[i]:\n",
    "                continue\n",
    "            else:\n",
    "                bounds.insert(i, l_bound)\n",
    "                #res, err = quad(f, l_bound, bounds[i], args=args, epsrel=0, epsabs=1e-16, limit=1000)\n",
    "                used_l_bound = True\n",
    "                \n",
    "            \n",
    "        res, err = quad(f, bounds[i], bounds[i+1], args=args, epsrel=0, epsabs=1e-16, limit=1000)\n",
    "        \n",
    "        if verbose:\n",
    "            print(\"Integrating: [{},{}]\".format(bounds[i], bounds[i+1]))\n",
    "            print(res, err)\n",
    "            \n",
    "        if res <= 0:\n",
    "            print(\"Integration error\")\n",
    "            return (-1, -1)\n",
    "        else:\n",
    "            summ += res\n",
    "            tot_err += err\n",
    "    \n",
    "    return summ, tot_err"
   ]
  },
  {
   "cell_type": "code",
   "execution_count": 1149,
   "metadata": {},
   "outputs": [
    {
     "name": "stderr",
     "output_type": "stream",
     "text": [
      "/Users/julianyocum/opt/anaconda3/envs/UROP/lib/python3.7/site-packages/ipykernel_launcher.py:1: RuntimeWarning: divide by zero encountered in double_scalars\n",
      "  \"\"\"Entry point for launching an IPython kernel.\n"
     ]
    },
    {
     "data": {
      "text/plain": [
       "inf"
      ]
     },
     "execution_count": 1149,
     "metadata": {},
     "output_type": "execute_result"
    }
   ],
   "source": [
    "np.exp(-a*1) / np.sqrt((1)**2 - (1)**2)"
   ]
  },
  {
   "cell_type": "code",
   "execution_count": 1182,
   "metadata": {},
   "outputs": [
    {
     "data": {
      "text/plain": [
       "1005037815259.2118"
      ]
     },
     "execution_count": 1182,
     "metadata": {},
     "output_type": "execute_result"
    }
   ],
   "source": [
    "far_integrand(1e-10, 1e-11)"
   ]
  },
  {
   "cell_type": "code",
   "execution_count": null,
   "metadata": {},
   "outputs": [],
   "source": []
  },
  {
   "cell_type": "code",
   "execution_count": 1180,
   "metadata": {},
   "outputs": [
    {
     "name": "stdout",
     "output_type": "stream",
     "text": [
      "Integrating: [1e-10,3e-09]\n",
      "58.90486143139841 1.1051548565177427e-10\n"
     ]
    },
    {
     "name": "stderr",
     "output_type": "stream",
     "text": [
      "/Users/julianyocum/opt/anaconda3/envs/UROP/lib/python3.7/site-packages/ipykernel_launcher.py:18: IntegrationWarning: The algorithm does not converge.  Roundoff error is detected\n",
      "  in the extrapolation table.  It is assumed that the requested tolerance\n",
      "  cannot be achieved, and that the returned result (if full_output = 1) is \n",
      "  the best which can be obtained.\n"
     ]
    },
    {
     "data": {
      "text/plain": [
       "(58.90486143139841, 1.1051548565177427e-10)"
      ]
     },
     "execution_count": 1180,
     "metadata": {},
     "output_type": "execute_result"
    }
   ],
   "source": [
    "b = 1e-10\n",
    "integrate(far_integrand, [1e-12, 1e-11, 1e-10, .3e-8], l_bound=b, args=b, verbose=True)"
   ]
  },
  {
   "cell_type": "code",
   "execution_count": 1306,
   "metadata": {},
   "outputs": [],
   "source": [
    "def close_integrand(r, b):\n",
    "    b *= 1e+8\n",
    "    r *= 1e+8\n",
    "    return np.exp(-a*r) / np.sqrt(r**2 - b**2)\n",
    "\n",
    "def far_integrand(r, b):\n",
    "    b *= 1e+8\n",
    "    r *= 1e+8\n",
    "    return 1 / (r**5 * np.sqrt(r**2 - b**2))\n",
    "\n",
    "def impulse_theta_b(b, beta):\n",
    "    \n",
    "    v_0 = beta*c\n",
    "    E_inc = 1/2*m_S*v_0**2 * 6.242e+11 # ergs -> eV\n",
    "    \n",
    "    if b < .3e-8:\n",
    "        \n",
    "        close_integral = integrate(far_integrand, [1e-12, 1e-11, 1e-10, .3e-8], l_bound=b, args=b)[0]\n",
    "        far_integral = integrate(far_integrand, bounds=[.3e-8, 1e-7, 1e-5, 2e-5, 1e-4, 1e-2, 1, np.inf], args=b)[0]\n",
    "        \n",
    "        far_integral += close_integral\n",
    "        close_integral = 0\n",
    "    \n",
    "    else:\n",
    "        close_integral = (0, 0)[0]\n",
    "        far_integral = integrate(far_integrand, bounds=[1e-7, 1e-5, 2e-5, 1e-4, 1e-2, 1, np.inf], l_bound=b, args=b)[0]\n",
    "\n",
    "    #far_integral = 0\n",
    "    \n",
    "    b *= 1e+8\n",
    "    #print(a * b * V_0 / np.sqrt(2*E_inc / m_S) * 2 * close_integral)\n",
    "    #print(4*.097*Z*n**2 * b / np.sqrt(2*E_inc / m_S) * 2 * far_integral)\n",
    "\n",
    "    I = a * b * V_0 / np.sqrt(2*E_inc / m_S) * 2 * close_integral + \\\n",
    "        4*.097*Z*n**2 * b / np.sqrt(2*E_inc / m_S) * 2 * far_integral\n",
    "    \n",
    "    \n",
    "    #print(quad(close_integrand, b, np.inf, args=b))\n",
    "    #I = a * b * V_0 / np.sqrt(2*E_inc / m_S) * 2 * quad(close_integrand, b, np.inf, args=b)[0]\n",
    "    \n",
    "    #print(\"I: \" + str(I))\n",
    "    p = m_S * v_0\n",
    "    \n",
    "    \n",
    "    #print(I)\n",
    "    #print(far_integral)\n",
    "    \n",
    "    return np.arctan(I / p)"
   ]
  },
  {
   "cell_type": "code",
   "execution_count": 1301,
   "metadata": {},
   "outputs": [
    {
     "data": {
      "text/plain": [
       "(1.3118208728758695e-12, 2.565524452787518e-12)"
      ]
     },
     "execution_count": 1301,
     "metadata": {},
     "output_type": "execute_result"
    }
   ],
   "source": [
    "quad(close_integrand, 1e-8, 1e-6, args=1e-9)"
   ]
  },
  {
   "cell_type": "code",
   "execution_count": 1302,
   "metadata": {},
   "outputs": [
    {
     "data": {
      "text/plain": [
       "1.005037815259212"
      ]
     },
     "execution_count": 1302,
     "metadata": {},
     "output_type": "execute_result"
    }
   ],
   "source": [
    "far_integrand(1e-8, 1e-9)"
   ]
  },
  {
   "cell_type": "code",
   "execution_count": 1303,
   "metadata": {},
   "outputs": [
    {
     "data": {
      "text/plain": [
       "1.569774161108472"
      ]
     },
     "execution_count": 1303,
     "metadata": {},
     "output_type": "execute_result"
    }
   ],
   "source": [
    "impulse_theta(.2e-8, 1e-5)"
   ]
  },
  {
   "cell_type": "code",
   "execution_count": 1604,
   "metadata": {},
   "outputs": [
    {
     "name": "stderr",
     "output_type": "stream",
     "text": [
      "/Users/julianyocum/opt/anaconda3/envs/UROP/lib/python3.7/site-packages/ipykernel_launcher.py:18: IntegrationWarning: The algorithm does not converge.  Roundoff error is detected\n",
      "  in the extrapolation table.  It is assumed that the requested tolerance\n",
      "  cannot be achieved, and that the returned result (if full_output = 1) is \n",
      "  the best which can be obtained.\n",
      "/Users/julianyocum/opt/anaconda3/envs/UROP/lib/python3.7/site-packages/ipykernel_launcher.py:18: IntegrationWarning: The occurrence of roundoff error is detected, which prevents \n",
      "  the requested tolerance from being achieved.  The error may be \n",
      "  underestimated.\n",
      "/Users/julianyocum/opt/anaconda3/envs/UROP/lib/python3.7/site-packages/ipykernel_launcher.py:18: IntegrationWarning: The integral is probably divergent, or slowly convergent.\n"
     ]
    },
    {
     "data": {
      "image/png": "[encoded data removed]",
      "text/plain": [
       "<Figure size 432x288 with 1 Axes>"
      ]
     },
     "metadata": {
      "needs_background": "light"
     },
     "output_type": "display_data"
    }
   ],
   "source": [
    "bspace = np.logspace(-13, -4, 1000)\n",
    "thetas = [impulse_theta(b, 1e-4) for b in bspace]\n",
    "    \n",
    "plt.plot(bspace, thetas)\n",
    "\n",
    "plt.title(\"theta(b) from Impulse\")\n",
    "plt.xlabel(\"b\")\n",
    "plt.ylabel(\"theta\")\n",
    "\n",
    "#plt.axvline(.3e-8)\n",
    "\n",
    "plt.gca().set_xscale(\"log\")\n",
    "#plt.gca().set_yscale(\"log\")"
   ]
  },
  {
   "cell_type": "code",
   "execution_count": 1289,
   "metadata": {},
   "outputs": [
    {
     "data": {
      "image/png": "[encoded data removed]",
      "text/plain": [
       "<Figure size 432x288 with 1 Axes>"
      ]
     },
     "metadata": {
      "needs_background": "light"
     },
     "output_type": "display_data"
    }
   ],
   "source": [
    "bspace = np.logspace(-10, -8, 1000)\n",
    "ints1 = [close_integrand(r, 1e-11) for r in bspace]\n",
    "ints2 = [far_integrand(r, 1e-11) for r in bspace]\n",
    "    \n",
    "plt.plot(bspace, ints1)\n",
    "plt.plot(bspace, ints2)\n",
    "\n",
    "plt.xlabel(\"b\")\n",
    "plt.ylabel(\"theta\")\n",
    "\n",
    "#plt.axvline(.3e-8)\n",
    "\n",
    "plt.gca().set_xscale(\"log\")\n",
    "#plt.gca().set_yscale(\"log\")"
   ]
  },
  {
   "cell_type": "code",
   "execution_count": 1578,
   "metadata": {},
   "outputs": [],
   "source": [
    "#build spline for b(theta):\n",
    "\n",
    "def impulse_make_b(beta, theta_min=1e-6):\n",
    "    l_bound = 1e-11\n",
    "    u_bound = 1e-5\n",
    "        \n",
    "    y = np.logspace(np.log10(l_bound), np.log10(u_bound), 400, np.float64)\n",
    "    x = np.array([impulse_theta_b(b, beta) for b in y], np.float64)\n",
    "    x = x[::-1]\n",
    "    y = y[::-1]\n",
    "    \n",
    "    x[0] = 0\n",
    "    #x = x * (x > theta_lim)\n",
    "    y[0] = u_bound\n",
    "    \n",
    "    x[-1] = np.pi/2\n",
    "    y[-1] = l_bound\n",
    "    \n",
    "    while(x[1] == 0):\n",
    "        x = np.delete(x, 0)\n",
    "        y = np.delete(y, 0)\n",
    "        \n",
    "    #while(x[-2] == x[-3]):\n",
    "    #    x = np.delete(x, -3)\n",
    "    #    y = np.delete(y, -3)\n",
    "            \n",
    "    y = [yi for _,yi in sorted(zip(x,y))]\n",
    "    x = np.array(sorted(x))\n",
    "    \n",
    "    #print(x)\n",
    "    #print(y)\n",
    "    \n",
    "    dx = np.diff(x)\n",
    "    if np.any(dx <= 0):\n",
    "        print(\"fuck\")\n",
    "        print(dx)\n",
    "        \n",
    "    #print(x[-3])\n",
    "    #print(x[-2])\n",
    "    \n",
    "    max_index = np.where(x > theta_min)[0][0]\n",
    "        \n",
    "    b_min = y[-1]\n",
    "    b_max = y[max_index]\n",
    "    \n",
    "    #del y[:1]\n",
    "    \n",
    "    #b = interp1d(x, y, kind='cubic')\n",
    "    return (CubicSpline(x, y), b_min, b_max)"
   ]
  },
  {
   "cell_type": "code",
   "execution_count": 1579,
   "metadata": {},
   "outputs": [
    {
     "name": "stdout",
     "output_type": "stream",
     "text": [
      "1e-05\n"
     ]
    },
    {
     "name": "stderr",
     "output_type": "stream",
     "text": [
      "/Users/julianyocum/opt/anaconda3/envs/UROP/lib/python3.7/site-packages/ipykernel_launcher.py:18: IntegrationWarning: The algorithm does not converge.  Roundoff error is detected\n",
      "  in the extrapolation table.  It is assumed that the requested tolerance\n",
      "  cannot be achieved, and that the returned result (if full_output = 1) is \n",
      "  the best which can be obtained.\n",
      "/Users/julianyocum/opt/anaconda3/envs/UROP/lib/python3.7/site-packages/ipykernel_launcher.py:18: IntegrationWarning: The occurrence of roundoff error is detected, which prevents \n",
      "  the requested tolerance from being achieved.  The error may be \n",
      "  underestimated.\n",
      "/Users/julianyocum/opt/anaconda3/envs/UROP/lib/python3.7/site-packages/ipykernel_launcher.py:18: IntegrationWarning: The integral is probably divergent, or slowly convergent.\n"
     ]
    },
    {
     "data": {
      "text/plain": [
       "14.591975143255604"
      ]
     },
     "execution_count": 1579,
     "metadata": {},
     "output_type": "execute_result"
    }
   ],
   "source": [
    "impulse_dEdx(1e-5, theta_min=1e-6)[0] * 1e-9"
   ]
  },
  {
   "cell_type": "code",
   "execution_count": 1661,
   "metadata": {},
   "outputs": [],
   "source": [
    "def impulse_dEdx(beta, theta_min=1e-15, anglediagnostics=False, integration_diagnostics=False):\n",
    "    print(beta)\n",
    "    \n",
    "    E_inc = 1/2*m_S*(beta*c)**2 * 6.242e+11 # ergs -> eV\n",
    "    b, b_min, b_max = impulse_make_b(beta, theta_min)\n",
    "    if anglediagnostics:\n",
    "        b_test = np.logspace(-16, -6, 100)\n",
    "        theta_test = [impulse_theta_b(b, beta) for b in b_test]\n",
    "        plt.plot(theta_test,b(theta_test))\n",
    "        #plt.plot(np.logspace(-5,np.log10(np.pi),100),-b(np.logspace(-5,np.log10(np.pi),100)))\n",
    "        plt.gca().set_yscale(\"log\")\n",
    "        plt.show()\n",
    "        \n",
    "    b_max = .235 / 2 * 1e-7\n",
    "        \n",
    "    K_min = K(impulse_theta_b(b_max, beta), E_inc)\n",
    "    K_max = K(impulse_theta_b(b_min, beta), E_inc)\n",
    "    \n",
    "    print(\"K_min: \" + str(K_min))\n",
    "    print()\n",
    "    #K_max = 2 * m_S * beta**2 * 6.242e+11\n",
    "    \n",
    "    boundaries = [1e-15, 1e-11, 1e-8, 1e-5, 1e-2, 1, K_max]\n",
    "    \n",
    "    res, err = integrate(sigma, boundaries, l_bound=K_min, args=(E_inc, b), verbose=integration_diagnostics)\n",
    "        \n",
    "    return (N_S*res, N_S*err)"
   ]
  },
  {
   "cell_type": "code",
   "execution_count": 1662,
   "metadata": {},
   "outputs": [
    {
     "name": "stdout",
     "output_type": "stream",
     "text": [
      "1e-05\n"
     ]
    },
    {
     "name": "stderr",
     "output_type": "stream",
     "text": [
      "/Users/julianyocum/opt/anaconda3/envs/UROP/lib/python3.7/site-packages/ipykernel_launcher.py:18: IntegrationWarning: The algorithm does not converge.  Roundoff error is detected\n",
      "  in the extrapolation table.  It is assumed that the requested tolerance\n",
      "  cannot be achieved, and that the returned result (if full_output = 1) is \n",
      "  the best which can be obtained.\n",
      "/Users/julianyocum/opt/anaconda3/envs/UROP/lib/python3.7/site-packages/ipykernel_launcher.py:18: IntegrationWarning: The occurrence of roundoff error is detected, which prevents \n",
      "  the requested tolerance from being achieved.  The error may be \n",
      "  underestimated.\n",
      "/Users/julianyocum/opt/anaconda3/envs/UROP/lib/python3.7/site-packages/ipykernel_launcher.py:18: IntegrationWarning: The integral is probably divergent, or slowly convergent.\n"
     ]
    },
    {
     "name": "stdout",
     "output_type": "stream",
     "text": [
      "K_min: 0.00013444662133426389\n",
      "\n",
      "1.778279410038923e-05\n",
      "K_min: 4.2518704361933344e-05\n",
      "\n",
      "3.1622776601683795e-05\n",
      "K_min: 1.3445688178301829e-05\n",
      "\n",
      "5.623413251903491e-05\n",
      "K_min: 4.251902885107413e-06\n",
      "\n",
      "0.0001\n",
      "K_min: 1.3445698439629333e-06\n",
      "\n"
     ]
    },
    {
     "data": {
      "text/plain": [
       "<matplotlib.legend.Legend at 0x127f2b910>"
      ]
     },
     "execution_count": 1662,
     "metadata": {},
     "output_type": "execute_result"
    },
    {
     "data": {
      "image/png": "[encoded data removed]",
      "text/plain": [
       "<Figure size 432x288 with 1 Axes>"
      ]
     },
     "metadata": {
      "needs_background": "light"
     },
     "output_type": "display_data"
    }
   ],
   "source": [
    "#for n in [1,2,3,6,9]:\n",
    "for n in [1]:\n",
    "\n",
    "    betas = np.logspace(-5, -4, 5)\n",
    "    Es1 = np.array([impulse_dEdx(beta, theta_min=3e-4, integration_diagnostics=False) for beta in betas])\n",
    "    #Es2 = np.array([dEdx(beta, 2)[0] for beta in betas])\n",
    "\n",
    "    plt.plot(betas, Es1[:,0] * 1e-9, label=\"n=\" + str(n))\n",
    "    #plt.plot(betas, Es2 * 1e-9)\n",
    "\n",
    "plt.gca().set_xscale(\"log\")\n",
    "plt.gca().set_yscale(\"log\")\n",
    "\n",
    "plt.grid()\n",
    "\n",
    "plt.ylabel(\"dE/dx (GeV/cm)\")\n",
    "plt.xlabel(\"beta\")\n",
    "    \n",
    "plt.legend()\n"
   ]
  },
  {
   "cell_type": "code",
   "execution_count": 1633,
   "metadata": {},
   "outputs": [
    {
     "name": "stderr",
     "output_type": "stream",
     "text": [
      "/Users/julianyocum/opt/anaconda3/envs/UROP/lib/python3.7/site-packages/ipykernel_launcher.py:18: IntegrationWarning: The algorithm does not converge.  Roundoff error is detected\n",
      "  in the extrapolation table.  It is assumed that the requested tolerance\n",
      "  cannot be achieved, and that the returned result (if full_output = 1) is \n",
      "  the best which can be obtained.\n",
      "/Users/julianyocum/opt/anaconda3/envs/UROP/lib/python3.7/site-packages/ipykernel_launcher.py:18: IntegrationWarning: The occurrence of roundoff error is detected, which prevents \n",
      "  the requested tolerance from being achieved.  The error may be \n",
      "  underestimated.\n",
      "/Users/julianyocum/opt/anaconda3/envs/UROP/lib/python3.7/site-packages/ipykernel_launcher.py:18: IntegrationWarning: The integral is probably divergent, or slowly convergent.\n"
     ]
    },
    {
     "data": {
      "text/plain": [
       "array(1.06966668e-05)"
      ]
     },
     "execution_count": 1633,
     "metadata": {},
     "output_type": "execute_result"
    }
   ],
   "source": [
    "b, b_min, b_max = impulse_make_b(beta, 1e-12)\n",
    "beta = 1e-4\n",
    "T_max = 2 * m_S * beta**2\n",
    "E_inc = 1/2*m_S*(beta*c)**2 * 6.242e+11\n",
    "b(theta(T_max, E_inc))"
   ]
  },
  {
   "cell_type": "code",
   "execution_count": 1634,
   "metadata": {},
   "outputs": [
    {
     "data": {
      "text/plain": [
       "9.3274132e-31"
      ]
     },
     "execution_count": 1634,
     "metadata": {},
     "output_type": "execute_result"
    }
   ],
   "source": [
    "T_max"
   ]
  },
  {
   "cell_type": "code",
   "execution_count": 1632,
   "metadata": {},
   "outputs": [
    {
     "data": {
      "text/plain": [
       "5.156343092288361e-14"
      ]
     },
     "execution_count": 1632,
     "metadata": {},
     "output_type": "execute_result"
    }
   ],
   "source": [
    "K_min"
   ]
  },
  {
   "cell_type": "code",
   "execution_count": 1635,
   "metadata": {},
   "outputs": [
    {
     "data": {
      "text/plain": [
       "0.1175"
      ]
     },
     "execution_count": 1635,
     "metadata": {},
     "output_type": "execute_result"
    }
   ],
   "source": [
    ".235 / 2 "
   ]
  },
  {
   "cell_type": "code",
   "execution_count": null,
   "metadata": {},
   "outputs": [],
   "source": []
  }
 ],
 "metadata": {
  "kernelspec": {
   "display_name": "Python 3",
   "language": "python",
   "name": "python3"
  },
  "language_info": {
   "codemirror_mode": {
    "name": "ipython",
    "version": 3
   },
   "file_extension": ".py",
   "mimetype": "text/x-python",
   "name": "python",
   "nbconvert_exporter": "python",
   "pygments_lexer": "ipython3",
   "version": "3.7.6"
  }
 },
 "nbformat": 4,
 "nbformat_minor": 4
}
