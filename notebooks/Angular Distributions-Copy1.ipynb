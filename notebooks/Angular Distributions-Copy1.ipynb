{
 "cells": [
  {
   "cell_type": "code",
   "execution_count": 33,
   "metadata": {},
   "outputs": [
    {
     "name": "stdout",
     "output_type": "stream",
     "text": [
      "0.4098441225233594\n",
      "-2.761266563016918\n",
      "\n",
      "0.4098441225233594\n",
      "-2.1287592420941728\n",
      "\n",
      "-0.21097166933462494 -0.3380331322602458 0.9171829458905616\n"
     ]
    }
   ],
   "source": [
    "%run MonteCarlo.ipynb\n",
    "da = testDataAnalysis()"
   ]
  },
  {
   "cell_type": "code",
   "execution_count": 35,
   "metadata": {},
   "outputs": [],
   "source": [
    "mc = testDataAnalysis(load=True, eventfile=\"./data/new_moo/MC_events.csv\", clusterfile=\"./data/new_moo/MC_clusters.csv\")"
   ]
  },
  {
   "cell_type": "code",
   "execution_count": 45,
   "metadata": {},
   "outputs": [
    {
     "data": {
      "text/html": [
       "<div>\n",
       "<style scoped>\n",
       "    .dataframe tbody tr th:only-of-type {\n",
       "        vertical-align: middle;\n",
       "    }\n",
       "\n",
       "    .dataframe tbody tr th {\n",
       "        vertical-align: top;\n",
       "    }\n",
       "\n",
       "    .dataframe thead th {\n",
       "        text-align: right;\n",
       "    }\n",
       "</style>\n",
       "<table border=\"1\" class=\"dataframe\">\n",
       "  <thead>\n",
       "    <tr style=\"text-align: right;\">\n",
       "      <th></th>\n",
       "      <th>Cluster</th>\n",
       "      <th>Events</th>\n",
       "      <th>Channels</th>\n",
       "      <th>StartTime</th>\n",
       "      <th>TimeSpread</th>\n",
       "      <th>NRMSE</th>\n",
       "      <th>Zenith</th>\n",
       "      <th>Azimuth</th>\n",
       "      <th>ExtraCh</th>\n",
       "      <th>MissingCh</th>\n",
       "      <th>Fitline</th>\n",
       "    </tr>\n",
       "  </thead>\n",
       "  <tbody>\n",
       "    <tr>\n",
       "      <th>0</th>\n",
       "      <td>0</td>\n",
       "      <td>7</td>\n",
       "      <td>7</td>\n",
       "      <td>5116.891</td>\n",
       "      <td>0.490</td>\n",
       "      <td>0.867837</td>\n",
       "      <td>0.433943</td>\n",
       "      <td>1.344768</td>\n",
       "      <td>1</td>\n",
       "      <td>0</td>\n",
       "      <td>[-289.674793, -116.284249, -278.613511, 0.4097...</td>\n",
       "    </tr>\n",
       "    <tr>\n",
       "      <th>1</th>\n",
       "      <td>1</td>\n",
       "      <td>6</td>\n",
       "      <td>6</td>\n",
       "      <td>7194.337</td>\n",
       "      <td>0.502</td>\n",
       "      <td>0.842118</td>\n",
       "      <td>0.376921</td>\n",
       "      <td>1.362154</td>\n",
       "      <td>0</td>\n",
       "      <td>0</td>\n",
       "      <td>[136.913053, 50.8873995, 294.053676, 0.3600774...</td>\n",
       "    </tr>\n",
       "    <tr>\n",
       "      <th>8</th>\n",
       "      <td>8</td>\n",
       "      <td>6</td>\n",
       "      <td>5</td>\n",
       "      <td>26158.403</td>\n",
       "      <td>0.232</td>\n",
       "      <td>0.910791</td>\n",
       "      <td>0.375099</td>\n",
       "      <td>-1.002101</td>\n",
       "      <td>0</td>\n",
       "      <td>0</td>\n",
       "      <td>[305.112058, -125.743425, 225.973484, 0.308700...</td>\n",
       "    </tr>\n",
       "    <tr>\n",
       "      <th>9</th>\n",
       "      <td>9</td>\n",
       "      <td>6</td>\n",
       "      <td>6</td>\n",
       "      <td>27250.906</td>\n",
       "      <td>1.288</td>\n",
       "      <td>0.967922</td>\n",
       "      <td>0.944834</td>\n",
       "      <td>1.136773</td>\n",
       "      <td>0</td>\n",
       "      <td>0</td>\n",
       "      <td>[154.65442528, 249.41452583, -332.64250715, 0....</td>\n",
       "    </tr>\n",
       "    <tr>\n",
       "      <th>10</th>\n",
       "      <td>10</td>\n",
       "      <td>6</td>\n",
       "      <td>6</td>\n",
       "      <td>29660.033</td>\n",
       "      <td>0.226</td>\n",
       "      <td>1.114993</td>\n",
       "      <td>0.627590</td>\n",
       "      <td>-0.433326</td>\n",
       "      <td>0</td>\n",
       "      <td>0</td>\n",
       "      <td>[193.42700764, -210.87232456, 113.65127237, -0...</td>\n",
       "    </tr>\n",
       "    <tr>\n",
       "      <th>...</th>\n",
       "      <td>...</td>\n",
       "      <td>...</td>\n",
       "      <td>...</td>\n",
       "      <td>...</td>\n",
       "      <td>...</td>\n",
       "      <td>...</td>\n",
       "      <td>...</td>\n",
       "      <td>...</td>\n",
       "      <td>...</td>\n",
       "      <td>...</td>\n",
       "      <td>...</td>\n",
       "    </tr>\n",
       "    <tr>\n",
       "      <th>780</th>\n",
       "      <td>780</td>\n",
       "      <td>11</td>\n",
       "      <td>8</td>\n",
       "      <td>2710760.519</td>\n",
       "      <td>0.903</td>\n",
       "      <td>1.621933</td>\n",
       "      <td>0.649071</td>\n",
       "      <td>1.478331</td>\n",
       "      <td>13</td>\n",
       "      <td>5</td>\n",
       "      <td>[-29.427273, 192.436364, 131.818182, -0.601865...</td>\n",
       "    </tr>\n",
       "    <tr>\n",
       "      <th>785</th>\n",
       "      <td>785</td>\n",
       "      <td>11</td>\n",
       "      <td>11</td>\n",
       "      <td>2728511.764</td>\n",
       "      <td>0.730</td>\n",
       "      <td>0.940687</td>\n",
       "      <td>0.553714</td>\n",
       "      <td>0.828882</td>\n",
       "      <td>2</td>\n",
       "      <td>0</td>\n",
       "      <td>[-311.313853, -7.322143, -329.147895, -0.38764...</td>\n",
       "    </tr>\n",
       "    <tr>\n",
       "      <th>787</th>\n",
       "      <td>787</td>\n",
       "      <td>8</td>\n",
       "      <td>8</td>\n",
       "      <td>2747006.328</td>\n",
       "      <td>0.537</td>\n",
       "      <td>0.977861</td>\n",
       "      <td>1.155972</td>\n",
       "      <td>0.232221</td>\n",
       "      <td>0</td>\n",
       "      <td>0</td>\n",
       "      <td>[-40.058751, 296.866403, -176.242091, 0.210620...</td>\n",
       "    </tr>\n",
       "    <tr>\n",
       "      <th>788</th>\n",
       "      <td>788</td>\n",
       "      <td>5</td>\n",
       "      <td>5</td>\n",
       "      <td>2747961.339</td>\n",
       "      <td>0.108</td>\n",
       "      <td>1.479181</td>\n",
       "      <td>0.935113</td>\n",
       "      <td>-0.759964</td>\n",
       "      <td>0</td>\n",
       "      <td>1</td>\n",
       "      <td>[-324.260894, -206.604814, -296.024824, 0.5543...</td>\n",
       "    </tr>\n",
       "    <tr>\n",
       "      <th>791</th>\n",
       "      <td>791</td>\n",
       "      <td>8</td>\n",
       "      <td>8</td>\n",
       "      <td>2752773.395</td>\n",
       "      <td>0.908</td>\n",
       "      <td>1.475887</td>\n",
       "      <td>0.964406</td>\n",
       "      <td>0.353911</td>\n",
       "      <td>4</td>\n",
       "      <td>1</td>\n",
       "      <td>[-238.875, 16.5375, -166.75, 0.28478, -0.77078...</td>\n",
       "    </tr>\n",
       "  </tbody>\n",
       "</table>\n",
       "<p>341 rows × 11 columns</p>\n",
       "</div>"
      ],
      "text/plain": [
       "     Cluster  Events  Channels    StartTime  TimeSpread     NRMSE    Zenith  \\\n",
       "0          0       7         7     5116.891       0.490  0.867837  0.433943   \n",
       "1          1       6         6     7194.337       0.502  0.842118  0.376921   \n",
       "8          8       6         5    26158.403       0.232  0.910791  0.375099   \n",
       "9          9       6         6    27250.906       1.288  0.967922  0.944834   \n",
       "10        10       6         6    29660.033       0.226  1.114993  0.627590   \n",
       "..       ...     ...       ...          ...         ...       ...       ...   \n",
       "780      780      11         8  2710760.519       0.903  1.621933  0.649071   \n",
       "785      785      11        11  2728511.764       0.730  0.940687  0.553714   \n",
       "787      787       8         8  2747006.328       0.537  0.977861  1.155972   \n",
       "788      788       5         5  2747961.339       0.108  1.479181  0.935113   \n",
       "791      791       8         8  2752773.395       0.908  1.475887  0.964406   \n",
       "\n",
       "      Azimuth  ExtraCh  MissingCh  \\\n",
       "0    1.344768        1          0   \n",
       "1    1.362154        0          0   \n",
       "8   -1.002101        0          0   \n",
       "9    1.136773        0          0   \n",
       "10  -0.433326        0          0   \n",
       "..        ...      ...        ...   \n",
       "780  1.478331       13          5   \n",
       "785  0.828882        2          0   \n",
       "787  0.232221        0          0   \n",
       "788 -0.759964        0          1   \n",
       "791  0.353911        4          1   \n",
       "\n",
       "                                               Fitline  \n",
       "0    [-289.674793, -116.284249, -278.613511, 0.4097...  \n",
       "1    [136.913053, 50.8873995, 294.053676, 0.3600774...  \n",
       "8    [305.112058, -125.743425, 225.973484, 0.308700...  \n",
       "9    [154.65442528, 249.41452583, -332.64250715, 0....  \n",
       "10   [193.42700764, -210.87232456, 113.65127237, -0...  \n",
       "..                                                 ...  \n",
       "780  [-29.427273, 192.436364, 131.818182, -0.601865...  \n",
       "785  [-311.313853, -7.322143, -329.147895, -0.38764...  \n",
       "787  [-40.058751, 296.866403, -176.242091, 0.210620...  \n",
       "788  [-324.260894, -206.604814, -296.024824, 0.5543...  \n",
       "791  [-238.875, 16.5375, -166.75, 0.28478, -0.77078...  \n",
       "\n",
       "[341 rows x 11 columns]"
      ]
     },
     "execution_count": 45,
     "metadata": {},
     "output_type": "execute_result"
    }
   ],
   "source": [
    "data = testDataAnalysis()\n",
    "data.load_eventdf('data/path/old/new_events.csv')\n",
    "data.load_clusterdf('data/path/old/clusters.csv')\n",
    "data.filter_fit(3.5, 5) #(NRMSE, channels)\n",
    "len(data.get_clusterdf())\n",
    "\n",
    "df = data.get_clusterdf()['Azimuth'].values * 180 / np.pi - 90\n",
    "df += (df < -90 ) * 180\n",
    "data.clusterdf['Azimuth'] = df * np.pi/180\n",
    "\n",
    "data.get_clusterdf()"
   ]
  },
  {
   "cell_type": "code",
   "execution_count": 46,
   "metadata": {},
   "outputs": [
    {
     "data": {
      "text/plain": [
       "(-100.0, 100.0)"
      ]
     },
     "execution_count": 46,
     "metadata": {},
     "output_type": "execute_result"
    },
    {
     "data": {
      "image/png": "[encoded data removed]",
      "text/plain": [
       "<Figure size 432x288 with 1 Axes>"
      ]
     },
     "metadata": {
      "needs_background": "light"
     },
     "output_type": "display_data"
    },
    {
     "data": {
      "image/png": "[encoded data removed]",
      "text/plain": [
       "<Figure size 1440x360 with 1 Axes>"
      ]
     },
     "metadata": {
      "needs_background": "light"
     },
     "output_type": "display_data"
    }
   ],
   "source": [
    "#### plt.figure()\n",
    "array=plt.hist([phi*180/np.pi for phi in mc.get_clusterdf()['Azimuth']], np.linspace(-90, 90,40), histtype='step')\n",
    "#array=plt.hist([da.azimuth(line)*180/np.pi for line in mc.get_clusterdf()['Fitline']], np.linspace(-90, 90,40), histtype='step')\n",
    "\n",
    "\n",
    "plt.figure(figsize=(20,5)) # lets you make a custom size for your plot\n",
    "plt.tick_params(labelsize=16) #adjust fontsize of axis ticks\n",
    "plt.title(\"Azimuthal Angle Distribution\", fontsize=18)\n",
    "plt.ylabel('# of Clusters',fontsize=16)\n",
    "plt.xlabel('Azimuthal Angle (deg)',fontsize=16)\n",
    "\n",
    "#plt.ylim(0,15)\n",
    "\n",
    "#array=plt.hist(get_channelspercluster(timeclusterdata), np.linspace(0,40,41), histtype='step')\n",
    "\n",
    "plt.hist([phi*180/np.pi for phi in data.get_clusterdf()['Azimuth']], np.linspace(-90,90,40), histtype='step')\n",
    "#plt.hist([da.azimuth(line)*180/np.pi for line in data.get_clusterdf()['Fitline']], np.linspace(-90,90,40), histtype='step')\n",
    "\n",
    "\n",
    "\n",
    "bounds = np.array([(array[1][i] + array[1][i+1])/2  for i in range(len(array[1]) - 1)])\n",
    "plt.scatter(bounds, array[0] * 341 / len(mc.get_clusterdf()))\n",
    "\n",
    "plt.xlim(-100,100)"
   ]
  },
  {
   "cell_type": "code",
   "execution_count": 19,
   "metadata": {},
   "outputs": [
    {
     "data": {
      "text/plain": [
       "<matplotlib.collections.PathCollection at 0x11c2cdad0>"
      ]
     },
     "execution_count": 19,
     "metadata": {},
     "output_type": "execute_result"
    },
    {
     "data": {
      "image/png": "[encoded data removed]",
      "text/plain": [
       "<Figure size 432x288 with 1 Axes>"
      ]
     },
     "metadata": {
      "needs_background": "light"
     },
     "output_type": "display_data"
    },
    {
     "data": {
      "image/png": "[encoded data removed]",
      "text/plain": [
       "<Figure size 1440x360 with 1 Axes>"
      ]
     },
     "metadata": {
      "needs_background": "light"
     },
     "output_type": "display_data"
    }
   ],
   "source": [
    "array = plt.hist([math.cos(x) for x in mc.get_clusterdf()['Zenith']], np.linspace(0,1,40), histtype='step')\n",
    "\n",
    "plt.figure(figsize=(20,5)) # lets you make a custom size for your plot\n",
    "plt.tick_params(labelsize=16) #adjust fontsize of axis ticks\n",
    "plt.title(\"Zenith Angle Distrubtion\", fontsize=18)\n",
    "plt.ylabel('# of Clusters',fontsize=16)\n",
    "plt.xlabel('Cos(Zenith)',fontsize=16)\n",
    "plt.hist([math.cos(x) for x in data.get_clusterdf()['Zenith']], np.linspace(0,1,40), histtype='step')\n",
    "\n",
    "bounds = [(array[1][i] + array[1][i+1])/2  for i in range(len(array[1]) - 1)]\n",
    "plt.scatter(bounds, array[0] * 369 / len(mc.get_clusterdf()))"
   ]
  },
  {
   "cell_type": "code",
   "execution_count": null,
   "metadata": {},
   "outputs": [],
   "source": []
  }
 ],
 "metadata": {
  "kernelspec": {
   "display_name": "Python 3",
   "language": "python",
   "name": "python3"
  },
  "language_info": {
   "codemirror_mode": {
    "name": "ipython",
    "version": 3
   },
   "file_extension": ".py",
   "mimetype": "text/x-python",
   "name": "python",
   "nbconvert_exporter": "python",
   "pygments_lexer": "ipython3",
   "version": "3.7.6"
  }
 },
 "nbformat": 4,
 "nbformat_minor": 4
}
