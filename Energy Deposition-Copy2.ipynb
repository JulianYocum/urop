{
 "cells": [
  {
   "cell_type": "code",
   "execution_count": 12,
   "metadata": {},
   "outputs": [],
   "source": [
    "import numpy as np\n",
    "import scipy.optimize\n",
    "from scipy import constants\n",
    "from scipy.integrate import quad\n",
    "from scipy.integrate import quadrature\n",
    "import matplotlib.pyplot as plt"
   ]
  },
  {
   "cell_type": "code",
   "execution_count": null,
   "metadata": {},
   "outputs": [],
   "source": []
  },
  {
   "cell_type": "code",
   "execution_count": 13,
   "metadata": {},
   "outputs": [],
   "source": [
    "c = 2.99792458e10 #cm/s"
   ]
  },
  {
   "cell_type": "code",
   "execution_count": 14,
   "metadata": {},
   "outputs": [],
   "source": [
    "def integrate(f, bounds, l_bound=None, args=None, verbose=False):\n",
    "    \n",
    "    used_l_bound = False\n",
    "    summ = 0\n",
    "    tot_err = 0\n",
    "    for i in range(len(bounds) - 1 + bool(l_bound)):\n",
    "        \n",
    "        if l_bound and not used_l_bound:\n",
    "            \n",
    "            if l_bound >= bounds[i]:\n",
    "                continue\n",
    "            else:\n",
    "                bounds.insert(i, l_bound)\n",
    "                #res, err = quad(f, l_bound, bounds[i], args=args, epsrel=0, epsabs=1e-16, limit=1000)\n",
    "                used_l_bound = True\n",
    "                \n",
    "            \n",
    "        res, err = quad(f, bounds[i], bounds[i+1], args=args, epsrel=0, epsabs=1e-16, limit=1000)\n",
    "        \n",
    "        if verbose:\n",
    "            print(\"Integrating: [{},{}]\".format(bounds[i], bounds[i+1]))\n",
    "            print(res, err)\n",
    "            \n",
    "        if res <= 0:\n",
    "            print(\"Integration error\")\n",
    "            return (-1, -1)\n",
    "        else:\n",
    "            summ += res\n",
    "            tot_err += err\n",
    "    \n",
    "    return summ, tot_err"
   ]
  },
  {
   "cell_type": "code",
   "execution_count": 15,
   "metadata": {},
   "outputs": [],
   "source": [
    "#Potentials\n",
    "\n",
    "def U_1(r, Z, n):\n",
    "    V_0 = 13.6 * Z**2 * n / (n+1)\n",
    "    a = -1 / .3 * np.log(12*Z*n**2/V_0)\n",
    "    return V_0 * np.exp(-a * r * 1e+8)\n",
    "\n",
    "def U_2(r, Z, n):\n",
    "    return (1e-8)**4 * 0.0972 * Z * n**2 / r**4\n",
    "\n",
    "# functions for finding r_min\n",
    "\n",
    "def radicand_1(r, b, beta, m, Z, n):\n",
    "    #return 2*m_T*(1/2*m_T*v_0**2-U_1(r)) - (m_T*b*v_0)**2/r**2\n",
    "    return 1 - (b / r)**2 - 2*U_1(r, Z, n) / (m * (c*beta)**2 * 6.242e+11)\n",
    "\n",
    "def radicand_2(r, b, beta, m, Z, n):\n",
    "    #return 2*m_T*(1/2*m_T*v_0**2-U_1(r)) - (m_T*b*v_0)**2/r**2\n",
    "    return 1 - (b / r)**2 - 2*U_2(r, Z, n) / (m * (c*beta)**2 * 6.242e+11)\n",
    "\n",
    "\n",
    "# Integrands corresponding to each potential\n",
    "\n",
    "def integrand_1(r, b, beta, m, Z, n):\n",
    "    \n",
    "    return (b / (r)**2) / np.sqrt(radicand_1(r, b, beta, m, Z, n))\n",
    "\n",
    "def integrand_2(r, b, beta, m, Z, n):\n",
    "    \n",
    "    return (b / (r)**2) / np.sqrt(radicand_2(r, b, beta, m, Z, n))"
   ]
  },
  {
   "cell_type": "code",
   "execution_count": 16,
   "metadata": {},
   "outputs": [],
   "source": [
    "# Function which performs numeric integration on above integrands to find theta(b)\n",
    "\n",
    "from math import floor, log10\n",
    "\n",
    "def theta_b (b, beta, m, Z, n):\n",
    "    \n",
    "    res = scipy.optimize.root_scalar(radicand_2, args=(b, beta, m, Z, n) , bracket=[1e-20, 1e+5], xtol=1e-25) #1e-7)  #, f_tol=1e-35)\n",
    "    r_min2 = res.root\n",
    "\n",
    "    if r_min2 > .3e-8:\n",
    "        I_1 = 0\n",
    "        I_2 = integrate(integrand_2, [1e-7, 1e-4, 1.0, np.inf], l_bound=r_min2, args=(b, beta, m, Z, n))[0]\n",
    "        \n",
    "    else:\n",
    "        \n",
    "        res = scipy.optimize.root_scalar(radicand_1, args=(b, beta, m, Z, n) , bracket=[1e-25, 1e+5], xtol=1e-25) #1e-7)  #, f_tol=1e-35)\n",
    "        r_min1 = res.root\n",
    "        \n",
    "        if r_min2 > r_min1:\n",
    "            r_min1 = r_min2\n",
    "\n",
    "        I_1 = integrate(integrand_1, [1e-10, .3e-8], l_bound=r_min1, args=(b, beta, m, Z, n))[0]\n",
    "        I_2 = integrate(integrand_2, [.3e-8, 1e-4, np.inf], args=(b, beta, m, Z, n))[0]\n",
    "        \n",
    "    \n",
    "    phi = I_1 + I_2\n",
    "    \n",
    "    #if(math.isnan(phi)):\n",
    "    #    print(b)\n",
    "    \n",
    "    theta =  np.pi - 2 * phi\n",
    "    \n",
    "    if theta < 1e-10:\n",
    "        return 0\n",
    "    else:\n",
    "        return theta\n",
    "    \n",
    "    return theta"
   ]
  },
  {
   "cell_type": "code",
   "execution_count": 17,
   "metadata": {},
   "outputs": [],
   "source": [
    "from scipy.interpolate import interp1d\n",
    "from scipy.interpolate import CubicSpline"
   ]
  },
  {
   "cell_type": "code",
   "execution_count": 18,
   "metadata": {},
   "outputs": [],
   "source": [
    "#build spline for b(theta):\n",
    "\n",
    "def make_b(beta, m, Z, n):\n",
    "    l_bound = 1e-22\n",
    "    u_bound = 1e-3\n",
    "        \n",
    "    y = np.logspace(np.log10(l_bound), np.log10(u_bound), 1000)\n",
    "    x = np.array([theta_b(b, beta, m, Z, n) for b in y])\n",
    "    x = x[::-1]\n",
    "    y = y[::-1]\n",
    "    \n",
    "    x[0] = 0\n",
    "    #x = x * (x > theta_lim)\n",
    "    y[0] = u_bound\n",
    "    \n",
    "    x[-1] = np.pi\n",
    "    y[-1] = l_bound\n",
    "    \n",
    "    while(x[1] == 0):\n",
    "        x = np.delete(x, 0)\n",
    "        y = np.delete(y, 0)\n",
    "            \n",
    "    y = [yi for _,yi in sorted(zip(x,y))]\n",
    "    x = np.array(sorted(x))\n",
    "    \n",
    "    #print(x)\n",
    "    #print(y)\n",
    "    \n",
    "    dx = np.diff(x)\n",
    "    if np.any(dx <= 0):\n",
    "        print(\"fuck\")\n",
    "        print(x)\n",
    "        \n",
    "    #max_index = np.where(x > theta_min)[0][0]\n",
    "        \n",
    "    b_min = y[-1]\n",
    "    b_max = y[0] #y[max_index]\n",
    "    \n",
    "    #del y[:1]\n",
    "    \n",
    "    #b = interp1d(x, y, kind='cubic')\n",
    "    return (CubicSpline(x, y), b_min, b_max)"
   ]
  },
  {
   "cell_type": "code",
   "execution_count": 19,
   "metadata": {},
   "outputs": [],
   "source": [
    "#Equation 11\n",
    "\n",
    "def theta(K, E): \n",
    "    return 2 * np.arcsin(np.sqrt(K/(4*E)))\n",
    "\n",
    "\n",
    "def K(theta, E):\n",
    "    return 4*E* (np.sin(theta/2))**2\n",
    "\n",
    "#Equation 10\n",
    "\n",
    "def sigma(K, E, b):\n",
    "    return - b.derivative()(theta(K, E)) * b(theta(K, E)) / np.sin(theta(K, E))"
   ]
  },
  {
   "cell_type": "code",
   "execution_count": 24,
   "metadata": {},
   "outputs": [],
   "source": [
    "def dEdx(beta, N, r, m, Z, n, beta_range=False, angle_diagnostics=False, integration_diagnostics=False):\n",
    "    \n",
    "    if beta_range==True:\n",
    "        res = np.array([dEdx(b, N, r, m, Z, n, integration_diagnostics=integration_diagnostics)[0] for b in beta])\n",
    "        plt.plot(beta, res * 1e-9)\n",
    "\n",
    "        plt.gca().set_xscale(\"log\")\n",
    "        plt.gca().set_yscale(\"log\")\n",
    "        plt.grid()\n",
    "        plt.ylabel(\"dE/dx (GeV/cm)\")\n",
    "        plt.xlabel(\"beta\")\n",
    "        \n",
    "        return(0, 0)\n",
    "        \n",
    "    \n",
    "    E_inc = 1/2* m *(beta*c)**2 * 6.242e+11 # ergs -> eV\n",
    "    b, b_min, b_max = make_b(beta, m, Z, n)\n",
    "    \n",
    "    if angle_diagnostics:\n",
    "        b_test = np.logspace(-20, -6, 100)\n",
    "        theta_test = [theta_b(b, beta, m, Z, n) for b in b_test]\n",
    "        plt.plot(theta_test,b(theta_test))\n",
    "        plt.gca().set_yscale(\"log\")\n",
    "        plt.show()\n",
    "        \n",
    "    b_max = r\n",
    "        \n",
    "    K_min = K(theta_b(b_max, beta, m, Z, n), E_inc)\n",
    "    K_max = K(theta_b(b_min, beta, m, Z, n), E_inc)\n",
    "    \n",
    "    boundaries = [K_min, 1e-11, 1e-8, 1e-5, 1e-2, 1, K_max]\n",
    "    \n",
    "    summ, err = integrate(sigma, boundaries, l_bound=K_min, args=(E_inc, b), verbose=integration_diagnostics)\n",
    "        \n",
    "    return (N*summ, N*err)"
   ]
  },
  {
   "cell_type": "code",
   "execution_count": 28,
   "metadata": {},
   "outputs": [],
   "source": [
    "m_Te = 2.1188477e-22 #g\n",
    "d_Te = 3.74 * 1e-8\n",
    "Z_Te = 52\n",
    "\n",
    "m_O = 2.6566962e-23\n",
    "d_O = (2.95 + 4.22) / 2 * 1e-8\n",
    "Z_O = 8\n",
    "\n",
    "m_TeO2 = 159.60 / 6.022e23 #g\n",
    "p_TeO2 = 6.04 # g cm-3\n",
    "N_TeO2 = p_TeO2 / m_TeO2\n",
    "\n",
    "N_Te = N_TeO2\n",
    "N_O = N_Te * 2\n",
    "\n",
    "#r_Te = (1 / N_Te)**(1/3)\n",
    "#r_O = (1 / N_O)**(1/3)\n",
    "\n",
    "#r_Te = ((1 / N_Te) * 3/4 / np.pi)**(1/3)\n",
    "#r_O = ((1 / N_O) * 3/4 / np.pi)**(1/3)\n",
    "\n",
    "r_Te = (176.135 * 1/4 * 3/4 / np.pi) ** (1/3) * 1e-8\n",
    "r_O = (176.135 * 1/4 * 1/2 * 3/4 / np.pi) ** (1/3) * 1e-8\n",
    "\n",
    "m_S = 4.6637066e-23 #g\n",
    "p_S = 4.3 #g/cm3\n",
    "N_S = p_S/m_S #1/cm3\n",
    "#r_S = 2.35 * 1e-8\n",
    "#r_S = (1 / N_S)**(1/3) * 1/2\n",
    "r_S = ((1 / N_S) * 3/4 / np.pi)**(1/3)\n",
    "r_S = (5.43**3 * 1/8 * 3/4 / np.pi) ** (1/3) * 1e-8\n",
    "Z_S = 14\n",
    "\n",
    "n = 1\n"
   ]
  },
  {
   "cell_type": "code",
   "execution_count": 34,
   "metadata": {},
   "outputs": [
    {
     "data": {
      "text/plain": [
       "685.7417521376691"
      ]
     },
     "execution_count": 34,
     "metadata": {},
     "output_type": "execute_result"
    }
   ],
   "source": [
    "( N_Te * m_Te * 1.064 + N_O * m_O * 1.420 ) * 100"
   ]
  },
  {
   "cell_type": "code",
   "execution_count": 30,
   "metadata": {},
   "outputs": [
    {
     "data": {
      "text/plain": [
       "1.2109234596372935"
      ]
     },
     "execution_count": 30,
     "metadata": {},
     "output_type": "execute_result"
    }
   ],
   "source": []
  },
  {
   "cell_type": "code",
   "execution_count": 27,
   "metadata": {},
   "outputs": [
    {
     "name": "stderr",
     "output_type": "stream",
     "text": [
      "/Users/julianyocum/opt/anaconda3/envs/UROP/lib/python3.7/site-packages/ipykernel_launcher.py:18: IntegrationWarning: The integral is probably divergent, or slowly convergent.\n",
      "/Users/julianyocum/opt/anaconda3/envs/UROP/lib/python3.7/site-packages/ipykernel_launcher.py:18: IntegrationWarning: The algorithm does not converge.  Roundoff error is detected\n",
      "  in the extrapolation table.  It is assumed that the requested tolerance\n",
      "  cannot be achieved, and that the returned result (if full_output = 1) is \n",
      "  the best which can be obtained.\n",
      "/Users/julianyocum/opt/anaconda3/envs/UROP/lib/python3.7/site-packages/ipykernel_launcher.py:18: IntegrationWarning: The occurrence of roundoff error is detected, which prevents \n",
      "  the requested tolerance from being achieved.  The error may be \n",
      "  underestimated.\n"
     ]
    },
    {
     "data": {
      "text/plain": [
       "(0, 0)"
      ]
     },
     "execution_count": 27,
     "metadata": {},
     "output_type": "execute_result"
    },
    {
     "data": {
      "image/png": "[encoded data removed]",
      "text/plain": [
       "<Figure size 432x288 with 1 Axes>"
      ]
     },
     "metadata": {
      "needs_background": "light"
     },
     "output_type": "display_data"
    }
   ],
   "source": [
    "dEdx(np.logspace(-5, -3, 5), N_S, r_S, m_S, Z_S, n, beta_range=True, integration_diagnostics=False, angle_diagnostics=True)"
   ]
  },
  {
   "cell_type": "code",
   "execution_count": 181,
   "metadata": {},
   "outputs": [
    {
     "name": "stderr",
     "output_type": "stream",
     "text": [
      "/Users/julianyocum/opt/anaconda3/envs/UROP/lib/python3.7/site-packages/ipykernel_launcher.py:18: IntegrationWarning: The integral is probably divergent, or slowly convergent.\n",
      "/Users/julianyocum/opt/anaconda3/envs/UROP/lib/python3.7/site-packages/ipykernel_launcher.py:18: IntegrationWarning: The algorithm does not converge.  Roundoff error is detected\n",
      "  in the extrapolation table.  It is assumed that the requested tolerance\n",
      "  cannot be achieved, and that the returned result (if full_output = 1) is \n",
      "  the best which can be obtained.\n",
      "/Users/julianyocum/opt/anaconda3/envs/UROP/lib/python3.7/site-packages/ipykernel_launcher.py:18: IntegrationWarning: The occurrence of roundoff error is detected, which prevents \n",
      "  the requested tolerance from being achieved.  The error may be \n",
      "  underestimated.\n"
     ]
    },
    {
     "data": {
      "text/plain": [
       "Text(0.5, 0, 'beta')"
      ]
     },
     "execution_count": 181,
     "metadata": {},
     "output_type": "execute_result"
    },
    {
     "data": {
      "image/png": "[encoded data removed]",
      "text/plain": [
       "<Figure size 432x288 with 1 Axes>"
      ]
     },
     "metadata": {
      "needs_background": "light"
     },
     "output_type": "display_data"
    }
   ],
   "source": [
    "betas = np.logspace(-5, -3, 5)\n",
    "res1 = np.array([dEdx(beta, N_Te, r_Te, m_Te, Z_Te, n)[0] for beta in betas])\n",
    "res2 = np.array([dEdx(beta, N_O, r_O, m_O, Z_O, n)[0] for beta in betas])\n",
    "fin1 = res1 + res2\n",
    "\n",
    "#plt.plot(betas, res1 * 1e-9, label='Te')\n",
    "#plt.plot(betas, res2 * 1e-9, label='O')\n",
    "plt.plot(betas, fin1 * 1e-9, label='TeO2', color='r')\n",
    "\n",
    "plt.legend()\n",
    "\n",
    "plt.gca().set_xscale(\"log\")\n",
    "plt.gca().set_yscale(\"log\")\n",
    "plt.grid()\n",
    "plt.title(\"TeO2 Stopping Power\")\n",
    "plt.ylabel(\"dE/dx (GeV/cm)\")\n",
    "plt.xlabel(\"beta\")"
   ]
  },
  {
   "cell_type": "code",
   "execution_count": 96,
   "metadata": {},
   "outputs": [
    {
     "name": "stderr",
     "output_type": "stream",
     "text": [
      "/Users/julianyocum/opt/anaconda3/envs/UROP/lib/python3.7/site-packages/ipykernel_launcher.py:18: IntegrationWarning: The integral is probably divergent, or slowly convergent.\n",
      "/Users/julianyocum/opt/anaconda3/envs/UROP/lib/python3.7/site-packages/ipykernel_launcher.py:18: IntegrationWarning: The algorithm does not converge.  Roundoff error is detected\n",
      "  in the extrapolation table.  It is assumed that the requested tolerance\n",
      "  cannot be achieved, and that the returned result (if full_output = 1) is \n",
      "  the best which can be obtained.\n",
      "/Users/julianyocum/opt/anaconda3/envs/UROP/lib/python3.7/site-packages/ipykernel_launcher.py:18: IntegrationWarning: The occurrence of roundoff error is detected, which prevents \n",
      "  the requested tolerance from being achieved.  The error may be \n",
      "  underestimated.\n"
     ]
    },
    {
     "data": {
      "text/plain": [
       "Text(0.5, 0, 'beta')"
      ]
     },
     "execution_count": 96,
     "metadata": {},
     "output_type": "execute_result"
    },
    {
     "data": {
      "image/png": "[encoded data removed]",
      "text/plain": [
       "<Figure size 432x288 with 1 Axes>"
      ]
     },
     "metadata": {
      "needs_background": "light"
     },
     "output_type": "display_data"
    }
   ],
   "source": [
    "d_Te_O = (1.880 + 2.121) / 2\n",
    "\n",
    "\n",
    "betas = np.logspace(-5, -3, 5)\n",
    "res1 = np.array([dEdx(beta, N_Te, d_Te_O, m_Te, Z_Te, n)[0] for beta in betas])\n",
    "res2 = np.array([dEdx(beta, N_O, d_Te_O, m_O, Z_O, n)[0] for beta in betas])\n",
    "fin2 = res1 + res2\n",
    "\n",
    "plt.plot(betas, res1 * 1e-9, label='Te cross')\n",
    "plt.plot(betas, res2 * 1e-9, label='O cross')\n",
    "#plt.plot(betas, (res1 + res2) * 1e-9, label='TeO2')\n",
    "\n",
    "plt.legend()\n",
    "\n",
    "plt.gca().set_xscale(\"log\")\n",
    "plt.gca().set_yscale(\"log\")\n",
    "plt.grid()\n",
    "plt.ylabel(\"dE/dx (GeV/cm)\")\n",
    "plt.xlabel(\"beta\")"
   ]
  },
  {
   "cell_type": "code",
   "execution_count": 111,
   "metadata": {},
   "outputs": [
    {
     "data": {
      "text/plain": [
       "Text(0.5, 0, 'beta')"
      ]
     },
     "execution_count": 111,
     "metadata": {},
     "output_type": "execute_result"
    },
    {
     "data": {
      "image/png": "[encoded data removed]",
      "text/plain": [
       "<Figure size 432x288 with 1 Axes>"
      ]
     },
     "metadata": {
      "needs_background": "light"
     },
     "output_type": "display_data"
    }
   ],
   "source": [
    "plt.plot(betas, fin1*1e-9, label='TeO2')\n",
    "plt.plot(betas, fin2*1e-9, label='TeO2 cross')\n",
    "\n",
    "plt.legend()\n",
    "\n",
    "plt.gca().set_xscale(\"log\")\n",
    "plt.gca().set_yscale(\"log\")\n",
    "plt.grid()\n",
    "plt.ylabel(\"dE/dx (GeV/cm)\")\n",
    "plt.xlabel(\"beta\")"
   ]
  },
  {
   "cell_type": "code",
   "execution_count": 113,
   "metadata": {},
   "outputs": [
    {
     "data": {
      "text/plain": [
       "2.877918278436413"
      ]
     },
     "execution_count": 113,
     "metadata": {},
     "output_type": "execute_result"
    }
   ],
   "source": [
    "fin1[0] / fin2[0]"
   ]
  },
  {
   "cell_type": "code",
   "execution_count": 213,
   "metadata": {},
   "outputs": [],
   "source": [
    "p_Fe = 11.5 #g * cm^-3\n",
    "m_Fe = 9.2732796e-23 #g\n",
    "mu = 2.14 #Bohr magnetons\n",
    "\n",
    "N_Fe = p_Fe / m_Fe # cm^-3\n",
    "\n",
    "n = 1\n",
    "g_D = 3.29e-8 #esu\n",
    "g = n * g_D\n",
    "\n",
    "c = 2.9979e+10 #cm / s\n",
    "e = 4.8032e-10 #esu\n",
    "hbar = 1.0546e-27 #erg*s\n",
    "m_e = 9.1094e-28 #g"
   ]
  },
  {
   "cell_type": "code",
   "execution_count": null,
   "metadata": {},
   "outputs": [],
   "source": []
  },
  {
   "cell_type": "code",
   "execution_count": 1306,
   "metadata": {},
   "outputs": [],
   "source": [
    "def close_integrand(r, b):\n",
    "    b *= 1e+8\n",
    "    r *= 1e+8\n",
    "    return np.exp(-a*r) / np.sqrt(r**2 - b**2)\n",
    "\n",
    "def far_integrand(r, b):\n",
    "    b *= 1e+8\n",
    "    r *= 1e+8\n",
    "    return 1 / (r**5 * np.sqrt(r**2 - b**2))\n",
    "\n",
    "def impulse_theta_b(b, beta):\n",
    "    \n",
    "    v_0 = beta*c\n",
    "    E_inc = 1/2*m_S*v_0**2 * 6.242e+11 # ergs -> eV\n",
    "    \n",
    "    if b < .3e-8:\n",
    "        \n",
    "        close_integral = integrate(far_integrand, [1e-12, 1e-11, 1e-10, .3e-8], l_bound=b, args=b)[0]\n",
    "        far_integral = integrate(far_integrand, bounds=[.3e-8, 1e-7, 1e-5, 2e-5, 1e-4, 1e-2, 1, np.inf], args=b)[0]\n",
    "        \n",
    "        far_integral += close_integral\n",
    "        close_integral = 0\n",
    "    \n",
    "    else:\n",
    "        close_integral = (0, 0)[0]\n",
    "        far_integral = integrate(far_integrand, bounds=[1e-7, 1e-5, 2e-5, 1e-4, 1e-2, 1, np.inf], l_bound=b, args=b)[0]\n",
    "\n",
    "    #far_integral = 0\n",
    "    \n",
    "    b *= 1e+8\n",
    "    #print(a * b * V_0 / np.sqrt(2*E_inc / m_S) * 2 * close_integral)\n",
    "    #print(4*.097*Z*n**2 * b / np.sqrt(2*E_inc / m_S) * 2 * far_integral)\n",
    "\n",
    "    I = a * b * V_0 / np.sqrt(2*E_inc / m_S) * 2 * close_integral + \\\n",
    "        4*.097*Z*n**2 * b / np.sqrt(2*E_inc / m_S) * 2 * far_integral\n",
    "    \n",
    "    \n",
    "    #print(quad(close_integrand, b, np.inf, args=b))\n",
    "    #I = a * b * V_0 / np.sqrt(2*E_inc / m_S) * 2 * quad(close_integrand, b, np.inf, args=b)[0]\n",
    "    \n",
    "    #print(\"I: \" + str(I))\n",
    "    p = m_S * v_0\n",
    "    \n",
    "    \n",
    "    #print(I)\n",
    "    #print(far_integral)\n",
    "    \n",
    "    return np.arctan(I / p)"
   ]
  },
  {
   "cell_type": "code",
   "execution_count": 1301,
   "metadata": {},
   "outputs": [
    {
     "data": {
      "text/plain": [
       "(1.3118208728758695e-12, 2.565524452787518e-12)"
      ]
     },
     "execution_count": 1301,
     "metadata": {},
     "output_type": "execute_result"
    }
   ],
   "source": [
    "quad(close_integrand, 1e-8, 1e-6, args=1e-9)"
   ]
  },
  {
   "cell_type": "code",
   "execution_count": 1302,
   "metadata": {},
   "outputs": [
    {
     "data": {
      "text/plain": [
       "1.005037815259212"
      ]
     },
     "execution_count": 1302,
     "metadata": {},
     "output_type": "execute_result"
    }
   ],
   "source": [
    "far_integrand(1e-8, 1e-9)"
   ]
  },
  {
   "cell_type": "code",
   "execution_count": 1303,
   "metadata": {},
   "outputs": [
    {
     "data": {
      "text/plain": [
       "1.569774161108472"
      ]
     },
     "execution_count": 1303,
     "metadata": {},
     "output_type": "execute_result"
    }
   ],
   "source": [
    "impulse_theta(.2e-8, 1e-5)"
   ]
  },
  {
   "cell_type": "code",
   "execution_count": 1604,
   "metadata": {},
   "outputs": [
    {
     "name": "stderr",
     "output_type": "stream",
     "text": [
      "/Users/julianyocum/opt/anaconda3/envs/UROP/lib/python3.7/site-packages/ipykernel_launcher.py:18: IntegrationWarning: The algorithm does not converge.  Roundoff error is detected\n",
      "  in the extrapolation table.  It is assumed that the requested tolerance\n",
      "  cannot be achieved, and that the returned result (if full_output = 1) is \n",
      "  the best which can be obtained.\n",
      "/Users/julianyocum/opt/anaconda3/envs/UROP/lib/python3.7/site-packages/ipykernel_launcher.py:18: IntegrationWarning: The occurrence of roundoff error is detected, which prevents \n",
      "  the requested tolerance from being achieved.  The error may be \n",
      "  underestimated.\n",
      "/Users/julianyocum/opt/anaconda3/envs/UROP/lib/python3.7/site-packages/ipykernel_launcher.py:18: IntegrationWarning: The integral is probably divergent, or slowly convergent.\n"
     ]
    },
    {
     "data": {
      "image/png": "[encoded data removed]",
      "text/plain": [
       "<Figure size 432x288 with 1 Axes>"
      ]
     },
     "metadata": {
      "needs_background": "light"
     },
     "output_type": "display_data"
    }
   ],
   "source": [
    "bspace = np.logspace(-13, -4, 1000)\n",
    "thetas = [impulse_theta(b, 1e-4) for b in bspace]\n",
    "    \n",
    "plt.plot(bspace, thetas)\n",
    "\n",
    "plt.title(\"theta(b) from Impulse\")\n",
    "plt.xlabel(\"b\")\n",
    "plt.ylabel(\"theta\")\n",
    "\n",
    "#plt.axvline(.3e-8)\n",
    "\n",
    "plt.gca().set_xscale(\"log\")\n",
    "#plt.gca().set_yscale(\"log\")"
   ]
  },
  {
   "cell_type": "code",
   "execution_count": 1289,
   "metadata": {},
   "outputs": [
    {
     "data": {
      "image/png": "[encoded data removed]",
      "text/plain": [
       "<Figure size 432x288 with 1 Axes>"
      ]
     },
     "metadata": {
      "needs_background": "light"
     },
     "output_type": "display_data"
    }
   ],
   "source": [
    "bspace = np.logspace(-10, -8, 1000)\n",
    "ints1 = [close_integrand(r, 1e-11) for r in bspace]\n",
    "ints2 = [far_integrand(r, 1e-11) for r in bspace]\n",
    "    \n",
    "plt.plot(bspace, ints1)\n",
    "plt.plot(bspace, ints2)\n",
    "\n",
    "plt.xlabel(\"b\")\n",
    "plt.ylabel(\"theta\")\n",
    "\n",
    "#plt.axvline(.3e-8)\n",
    "\n",
    "plt.gca().set_xscale(\"log\")\n",
    "#plt.gca().set_yscale(\"log\")"
   ]
  },
  {
   "cell_type": "code",
   "execution_count": 1578,
   "metadata": {},
   "outputs": [],
   "source": [
    "#build spline for b(theta):\n",
    "\n",
    "def impulse_make_b(beta, theta_min=1e-6):\n",
    "    l_bound = 1e-11\n",
    "    u_bound = 1e-5\n",
    "        \n",
    "    y = np.logspace(np.log10(l_bound), np.log10(u_bound), 400, np.float64)\n",
    "    x = np.array([impulse_theta_b(b, beta) for b in y], np.float64)\n",
    "    x = x[::-1]\n",
    "    y = y[::-1]\n",
    "    \n",
    "    x[0] = 0\n",
    "    #x = x * (x > theta_lim)\n",
    "    y[0] = u_bound\n",
    "    \n",
    "    x[-1] = np.pi/2\n",
    "    y[-1] = l_bound\n",
    "    \n",
    "    while(x[1] == 0):\n",
    "        x = np.delete(x, 0)\n",
    "        y = np.delete(y, 0)\n",
    "        \n",
    "    #while(x[-2] == x[-3]):\n",
    "    #    x = np.delete(x, -3)\n",
    "    #    y = np.delete(y, -3)\n",
    "            \n",
    "    y = [yi for _,yi in sorted(zip(x,y))]\n",
    "    x = np.array(sorted(x))\n",
    "    \n",
    "    #print(x)\n",
    "    #print(y)\n",
    "    \n",
    "    dx = np.diff(x)\n",
    "    if np.any(dx <= 0):\n",
    "        print(\"fuck\")\n",
    "        print(dx)\n",
    "        \n",
    "    #print(x[-3])\n",
    "    #print(x[-2])\n",
    "    \n",
    "    max_index = np.where(x > theta_min)[0][0]\n",
    "        \n",
    "    b_min = y[-1]\n",
    "    b_max = y[max_index]\n",
    "    \n",
    "    #del y[:1]\n",
    "    \n",
    "    #b = interp1d(x, y, kind='cubic')\n",
    "    return (CubicSpline(x, y), b_min, b_max)"
   ]
  },
  {
   "cell_type": "code",
   "execution_count": 1579,
   "metadata": {},
   "outputs": [
    {
     "name": "stdout",
     "output_type": "stream",
     "text": [
      "1e-05\n"
     ]
    },
    {
     "name": "stderr",
     "output_type": "stream",
     "text": [
      "/Users/julianyocum/opt/anaconda3/envs/UROP/lib/python3.7/site-packages/ipykernel_launcher.py:18: IntegrationWarning: The algorithm does not converge.  Roundoff error is detected\n",
      "  in the extrapolation table.  It is assumed that the requested tolerance\n",
      "  cannot be achieved, and that the returned result (if full_output = 1) is \n",
      "  the best which can be obtained.\n",
      "/Users/julianyocum/opt/anaconda3/envs/UROP/lib/python3.7/site-packages/ipykernel_launcher.py:18: IntegrationWarning: The occurrence of roundoff error is detected, which prevents \n",
      "  the requested tolerance from being achieved.  The error may be \n",
      "  underestimated.\n",
      "/Users/julianyocum/opt/anaconda3/envs/UROP/lib/python3.7/site-packages/ipykernel_launcher.py:18: IntegrationWarning: The integral is probably divergent, or slowly convergent.\n"
     ]
    },
    {
     "data": {
      "text/plain": [
       "14.591975143255604"
      ]
     },
     "execution_count": 1579,
     "metadata": {},
     "output_type": "execute_result"
    }
   ],
   "source": [
    "impulse_dEdx(1e-5, theta_min=1e-6)[0] * 1e-9"
   ]
  },
  {
   "cell_type": "code",
   "execution_count": 1661,
   "metadata": {},
   "outputs": [],
   "source": [
    "def impulse_dEdx(beta, theta_min=1e-15, anglediagnostics=False, integration_diagnostics=False):\n",
    "    print(beta)\n",
    "    \n",
    "    E_inc = 1/2*m_S*(beta*c)**2 * 6.242e+11 # ergs -> eV\n",
    "    b, b_min, b_max = impulse_make_b(beta, theta_min)\n",
    "    if anglediagnostics:\n",
    "        b_test = np.logspace(-16, -6, 100)\n",
    "        theta_test = [impulse_theta_b(b, beta) for b in b_test]\n",
    "        plt.plot(theta_test,b(theta_test))\n",
    "        #plt.plot(np.logspace(-5,np.log10(np.pi),100),-b(np.logspace(-5,np.log10(np.pi),100)))\n",
    "        plt.gca().set_yscale(\"log\")\n",
    "        plt.show()\n",
    "        \n",
    "    b_max = .235 / 2 * 1e-7\n",
    "        \n",
    "    K_min = K(impulse_theta_b(b_max, beta), E_inc)\n",
    "    K_max = K(impulse_theta_b(b_min, beta), E_inc)\n",
    "    \n",
    "    print(\"K_min: \" + str(K_min))\n",
    "    print()\n",
    "    #K_max = 2 * m_S * beta**2 * 6.242e+11\n",
    "    \n",
    "    boundaries = [1e-15, 1e-11, 1e-8, 1e-5, 1e-2, 1, K_max]\n",
    "    \n",
    "    res, err = integrate(sigma, boundaries, l_bound=K_min, args=(E_inc, b), verbose=integration_diagnostics)\n",
    "        \n",
    "    return (N_S*res, N_S*err)"
   ]
  },
  {
   "cell_type": "code",
   "execution_count": 1662,
   "metadata": {},
   "outputs": [
    {
     "name": "stdout",
     "output_type": "stream",
     "text": [
      "1e-05\n"
     ]
    },
    {
     "name": "stderr",
     "output_type": "stream",
     "text": [
      "/Users/julianyocum/opt/anaconda3/envs/UROP/lib/python3.7/site-packages/ipykernel_launcher.py:18: IntegrationWarning: The algorithm does not converge.  Roundoff error is detected\n",
      "  in the extrapolation table.  It is assumed that the requested tolerance\n",
      "  cannot be achieved, and that the returned result (if full_output = 1) is \n",
      "  the best which can be obtained.\n",
      "/Users/julianyocum/opt/anaconda3/envs/UROP/lib/python3.7/site-packages/ipykernel_launcher.py:18: IntegrationWarning: The occurrence of roundoff error is detected, which prevents \n",
      "  the requested tolerance from being achieved.  The error may be \n",
      "  underestimated.\n",
      "/Users/julianyocum/opt/anaconda3/envs/UROP/lib/python3.7/site-packages/ipykernel_launcher.py:18: IntegrationWarning: The integral is probably divergent, or slowly convergent.\n"
     ]
    },
    {
     "name": "stdout",
     "output_type": "stream",
     "text": [
      "K_min: 0.00013444662133426389\n",
      "\n",
      "1.778279410038923e-05\n",
      "K_min: 4.2518704361933344e-05\n",
      "\n",
      "3.1622776601683795e-05\n",
      "K_min: 1.3445688178301829e-05\n",
      "\n",
      "5.623413251903491e-05\n",
      "K_min: 4.251902885107413e-06\n",
      "\n",
      "0.0001\n",
      "K_min: 1.3445698439629333e-06\n",
      "\n"
     ]
    },
    {
     "data": {
      "text/plain": [
       "<matplotlib.legend.Legend at 0x127f2b910>"
      ]
     },
     "execution_count": 1662,
     "metadata": {},
     "output_type": "execute_result"
    },
    {
     "data": {
      "image/png": "[encoded data removed]",
      "text/plain": [
       "<Figure size 432x288 with 1 Axes>"
      ]
     },
     "metadata": {
      "needs_background": "light"
     },
     "output_type": "display_data"
    }
   ],
   "source": [
    "#for n in [1,2,3,6,9]:\n",
    "for n in [1]:\n",
    "\n",
    "    betas = np.logspace(-5, -4, 5)\n",
    "    Es1 = np.array([impulse_dEdx(beta, theta_min=3e-4, integration_diagnostics=False) for beta in betas])\n",
    "    #Es2 = np.array([dEdx(beta, 2)[0] for beta in betas])\n",
    "\n",
    "    plt.plot(betas, Es1[:,0] * 1e-9, label=\"n=\" + str(n))\n",
    "    #plt.plot(betas, Es2 * 1e-9)\n",
    "\n",
    "plt.gca().set_xscale(\"log\")\n",
    "plt.gca().set_yscale(\"log\")\n",
    "\n",
    "plt.grid()\n",
    "\n",
    "plt.ylabel(\"dE/dx (GeV/cm)\")\n",
    "plt.xlabel(\"beta\")\n",
    "    \n",
    "plt.legend()\n"
   ]
  },
  {
   "cell_type": "code",
   "execution_count": 1633,
   "metadata": {},
   "outputs": [
    {
     "name": "stderr",
     "output_type": "stream",
     "text": [
      "/Users/julianyocum/opt/anaconda3/envs/UROP/lib/python3.7/site-packages/ipykernel_launcher.py:18: IntegrationWarning: The algorithm does not converge.  Roundoff error is detected\n",
      "  in the extrapolation table.  It is assumed that the requested tolerance\n",
      "  cannot be achieved, and that the returned result (if full_output = 1) is \n",
      "  the best which can be obtained.\n",
      "/Users/julianyocum/opt/anaconda3/envs/UROP/lib/python3.7/site-packages/ipykernel_launcher.py:18: IntegrationWarning: The occurrence of roundoff error is detected, which prevents \n",
      "  the requested tolerance from being achieved.  The error may be \n",
      "  underestimated.\n",
      "/Users/julianyocum/opt/anaconda3/envs/UROP/lib/python3.7/site-packages/ipykernel_launcher.py:18: IntegrationWarning: The integral is probably divergent, or slowly convergent.\n"
     ]
    },
    {
     "data": {
      "text/plain": [
       "array(1.06966668e-05)"
      ]
     },
     "execution_count": 1633,
     "metadata": {},
     "output_type": "execute_result"
    }
   ],
   "source": [
    "b, b_min, b_max = impulse_make_b(beta, 1e-12)\n",
    "beta = 1e-4\n",
    "T_max = 2 * m_S * beta**2\n",
    "E_inc = 1/2*m_S*(beta*c)**2 * 6.242e+11\n",
    "b(theta(T_max, E_inc))"
   ]
  },
  {
   "cell_type": "code",
   "execution_count": 1634,
   "metadata": {},
   "outputs": [
    {
     "data": {
      "text/plain": [
       "9.3274132e-31"
      ]
     },
     "execution_count": 1634,
     "metadata": {},
     "output_type": "execute_result"
    }
   ],
   "source": [
    "T_max"
   ]
  },
  {
   "cell_type": "code",
   "execution_count": 1632,
   "metadata": {},
   "outputs": [
    {
     "data": {
      "text/plain": [
       "5.156343092288361e-14"
      ]
     },
     "execution_count": 1632,
     "metadata": {},
     "output_type": "execute_result"
    }
   ],
   "source": [
    "K_min"
   ]
  },
  {
   "cell_type": "code",
   "execution_count": 1635,
   "metadata": {},
   "outputs": [
    {
     "data": {
      "text/plain": [
       "0.1175"
      ]
     },
     "execution_count": 1635,
     "metadata": {},
     "output_type": "execute_result"
    }
   ],
   "source": [
    ".235 / 2 "
   ]
  },
  {
   "cell_type": "code",
   "execution_count": null,
   "metadata": {},
   "outputs": [],
   "source": []
  }
 ],
 "metadata": {
  "kernelspec": {
   "display_name": "Python 3",
   "language": "python",
   "name": "python3"
  },
  "language_info": {
   "codemirror_mode": {
    "name": "ipython",
    "version": 3
   },
   "file_extension": ".py",
   "mimetype": "text/x-python",
   "name": "python",
   "nbconvert_exporter": "python",
   "pygments_lexer": "ipython3",
   "version": "3.7.6"
  }
 },
 "nbformat": 4,
 "nbformat_minor": 4
}
