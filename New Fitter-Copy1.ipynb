{
 "cells": [
  {
   "cell_type": "code",
   "execution_count": 8,
   "metadata": {},
   "outputs": [],
   "source": [
    "import time\n",
    "\n",
    "from MonteCarlo import MonteCarlo"
   ]
  },
  {
   "cell_type": "code",
   "execution_count": null,
   "metadata": {},
   "outputs": [],
   "source": []
  },
  {
   "cell_type": "code",
   "execution_count": 7,
   "metadata": {},
   "outputs": [
    {
     "data": {
      "text/html": [
       "<div>\n",
       "<style scoped>\n",
       "    .dataframe tbody tr th:only-of-type {\n",
       "        vertical-align: middle;\n",
       "    }\n",
       "\n",
       "    .dataframe tbody tr th {\n",
       "        vertical-align: top;\n",
       "    }\n",
       "\n",
       "    .dataframe thead th {\n",
       "        text-align: right;\n",
       "    }\n",
       "</style>\n",
       "<table border=\"1\" class=\"dataframe\">\n",
       "  <thead>\n",
       "    <tr style=\"text-align: right;\">\n",
       "      <th></th>\n",
       "      <th>Cluster</th>\n",
       "      <th>Events</th>\n",
       "      <th>Channels</th>\n",
       "      <th>StartTime</th>\n",
       "      <th>TimeSpread</th>\n",
       "      <th>NRMSE</th>\n",
       "      <th>Zenith</th>\n",
       "      <th>Azimuth</th>\n",
       "      <th>ExtraCh</th>\n",
       "      <th>MissingCh</th>\n",
       "      <th>Fitline</th>\n",
       "    </tr>\n",
       "  </thead>\n",
       "  <tbody>\n",
       "    <tr>\n",
       "      <th>0</th>\n",
       "      <td>0</td>\n",
       "      <td>9</td>\n",
       "      <td>9</td>\n",
       "      <td>31514.940728</td>\n",
       "      <td>0.0</td>\n",
       "      <td>0.933448</td>\n",
       "      <td>0.621325</td>\n",
       "      <td>0.338574</td>\n",
       "      <td>0</td>\n",
       "      <td>0</td>\n",
       "      <td>[340.647714, 17.807284, -92.195111, -0.328549,...</td>\n",
       "    </tr>\n",
       "    <tr>\n",
       "      <th>1</th>\n",
       "      <td>1</td>\n",
       "      <td>4</td>\n",
       "      <td>4</td>\n",
       "      <td>40044.129608</td>\n",
       "      <td>0.0</td>\n",
       "      <td>1.203318</td>\n",
       "      <td>0.445039</td>\n",
       "      <td>0.377577</td>\n",
       "      <td>0</td>\n",
       "      <td>0</td>\n",
       "      <td>[-224.430398, -155.707468, -195.917537, -0.228...</td>\n",
       "    </tr>\n",
       "    <tr>\n",
       "      <th>2</th>\n",
       "      <td>2</td>\n",
       "      <td>6</td>\n",
       "      <td>6</td>\n",
       "      <td>41978.727831</td>\n",
       "      <td>0.0</td>\n",
       "      <td>0.973455</td>\n",
       "      <td>1.394783</td>\n",
       "      <td>-0.486437</td>\n",
       "      <td>0</td>\n",
       "      <td>0</td>\n",
       "      <td>[-168.788002, -228.265744, -46.710486, -0.9740...</td>\n",
       "    </tr>\n",
       "    <tr>\n",
       "      <th>3</th>\n",
       "      <td>3</td>\n",
       "      <td>10</td>\n",
       "      <td>10</td>\n",
       "      <td>42262.672951</td>\n",
       "      <td>0.0</td>\n",
       "      <td>0.966239</td>\n",
       "      <td>1.054179</td>\n",
       "      <td>-0.061114</td>\n",
       "      <td>0</td>\n",
       "      <td>0</td>\n",
       "      <td>[-49.606944, -158.101442, 279.907441, -0.73137...</td>\n",
       "    </tr>\n",
       "  </tbody>\n",
       "</table>\n",
       "</div>"
      ],
      "text/plain": [
       "   Cluster  Events  Channels     StartTime  TimeSpread     NRMSE    Zenith  \\\n",
       "0        0       9         9  31514.940728         0.0  0.933448  0.621325   \n",
       "1        1       4         4  40044.129608         0.0  1.203318  0.445039   \n",
       "2        2       6         6  41978.727831         0.0  0.973455  1.394783   \n",
       "3        3      10        10  42262.672951         0.0  0.966239  1.054179   \n",
       "\n",
       "    Azimuth  ExtraCh  MissingCh  \\\n",
       "0  0.338574        0          0   \n",
       "1  0.377577        0          0   \n",
       "2 -0.486437        0          0   \n",
       "3 -0.061114        0          0   \n",
       "\n",
       "                                             Fitline  \n",
       "0  [340.647714, 17.807284, -92.195111, -0.328549,...  \n",
       "1  [-224.430398, -155.707468, -195.917537, -0.228...  \n",
       "2  [-168.788002, -228.265744, -46.710486, -0.9740...  \n",
       "3  [-49.606944, -158.101442, 279.907441, -0.73137...  "
      ]
     },
     "execution_count": 7,
     "metadata": {},
     "output_type": "execute_result"
    }
   ],
   "source": [
    "mc = MonteCarlo(5,\"sasso\")\n",
    "mc.get_clusterdf()"
   ]
  },
  {
   "cell_type": "code",
   "execution_count": 11,
   "metadata": {},
   "outputs": [],
   "source": [
    "from DataAnalysis import DataAnalysis\n",
    "\n",
    "load = DataAnalysis()\n",
    "load.load_eventdf('data/path/old/new_events.csv')\n",
    "load.load_clusterdf('data/path/old/clusters.csv')\n",
    "#load.eventdf['Cluster'] = data.eventdf['Cluster'].astype(np.int64)\n",
    "#load.clusterdf['Cluster'] = data.clusterdf['Cluster'].astype(np.int64)\n",
    "\n",
    "#load.filter_fit(3.5, 5) #(NRMSE, channels)\n",
    "#data.set_eventdf(mc.get_eventdf())"
   ]
  },
  {
   "cell_type": "code",
   "execution_count": 13,
   "metadata": {},
   "outputs": [
    {
     "data": {
      "text/html": [
       "<div>\n",
       "<style scoped>\n",
       "    .dataframe tbody tr th:only-of-type {\n",
       "        vertical-align: middle;\n",
       "    }\n",
       "\n",
       "    .dataframe tbody tr th {\n",
       "        vertical-align: top;\n",
       "    }\n",
       "\n",
       "    .dataframe thead th {\n",
       "        text-align: right;\n",
       "    }\n",
       "</style>\n",
       "<table border=\"1\" class=\"dataframe\">\n",
       "  <thead>\n",
       "    <tr style=\"text-align: right;\">\n",
       "      <th></th>\n",
       "      <th>Cluster</th>\n",
       "      <th>Events</th>\n",
       "      <th>Channels</th>\n",
       "      <th>StartTime</th>\n",
       "      <th>TimeSpread</th>\n",
       "      <th>NRMSE</th>\n",
       "      <th>Zenith</th>\n",
       "      <th>Azimuth</th>\n",
       "      <th>ExtraCh</th>\n",
       "      <th>MissingCh</th>\n",
       "      <th>Fitline</th>\n",
       "    </tr>\n",
       "  </thead>\n",
       "  <tbody>\n",
       "    <tr>\n",
       "      <th>0</th>\n",
       "      <td>0</td>\n",
       "      <td>7</td>\n",
       "      <td>7</td>\n",
       "      <td>5116.891</td>\n",
       "      <td>0.490</td>\n",
       "      <td>0.867837</td>\n",
       "      <td>0.433943</td>\n",
       "      <td>-0.226029</td>\n",
       "      <td>1</td>\n",
       "      <td>0</td>\n",
       "      <td>[-289.674793, -116.284249, -278.613511, 0.4097...</td>\n",
       "    </tr>\n",
       "    <tr>\n",
       "      <th>1</th>\n",
       "      <td>1</td>\n",
       "      <td>6</td>\n",
       "      <td>6</td>\n",
       "      <td>7194.337</td>\n",
       "      <td>0.502</td>\n",
       "      <td>0.842118</td>\n",
       "      <td>0.376921</td>\n",
       "      <td>-0.208642</td>\n",
       "      <td>0</td>\n",
       "      <td>0</td>\n",
       "      <td>[136.913053, 50.8873995, 294.053676, 0.3600774...</td>\n",
       "    </tr>\n",
       "    <tr>\n",
       "      <th>2</th>\n",
       "      <td>2</td>\n",
       "      <td>3</td>\n",
       "      <td>3</td>\n",
       "      <td>11053.761</td>\n",
       "      <td>0.245</td>\n",
       "      <td>1.628516</td>\n",
       "      <td>0.903919</td>\n",
       "      <td>-0.743553</td>\n",
       "      <td>0</td>\n",
       "      <td>0</td>\n",
       "      <td>[-328.26624124, -162.76125024, 156.58778863, 0...</td>\n",
       "    </tr>\n",
       "    <tr>\n",
       "      <th>3</th>\n",
       "      <td>3</td>\n",
       "      <td>4</td>\n",
       "      <td>4</td>\n",
       "      <td>11157.184</td>\n",
       "      <td>0.275</td>\n",
       "      <td>1.785070</td>\n",
       "      <td>0.948373</td>\n",
       "      <td>-0.743193</td>\n",
       "      <td>0</td>\n",
       "      <td>1</td>\n",
       "      <td>[-256.314846, -228.370926, 89.618037, -0.59823...</td>\n",
       "    </tr>\n",
       "    <tr>\n",
       "      <th>4</th>\n",
       "      <td>4</td>\n",
       "      <td>4</td>\n",
       "      <td>4</td>\n",
       "      <td>12736.217</td>\n",
       "      <td>0.201</td>\n",
       "      <td>1.785070</td>\n",
       "      <td>0.948373</td>\n",
       "      <td>-0.743193</td>\n",
       "      <td>0</td>\n",
       "      <td>1</td>\n",
       "      <td>[-256.314846, -228.370926, 89.618037, -0.59823...</td>\n",
       "    </tr>\n",
       "    <tr>\n",
       "      <th>...</th>\n",
       "      <td>...</td>\n",
       "      <td>...</td>\n",
       "      <td>...</td>\n",
       "      <td>...</td>\n",
       "      <td>...</td>\n",
       "      <td>...</td>\n",
       "      <td>...</td>\n",
       "      <td>...</td>\n",
       "      <td>...</td>\n",
       "      <td>...</td>\n",
       "      <td>...</td>\n",
       "    </tr>\n",
       "    <tr>\n",
       "      <th>787</th>\n",
       "      <td>787</td>\n",
       "      <td>8</td>\n",
       "      <td>8</td>\n",
       "      <td>2747006.328</td>\n",
       "      <td>0.537</td>\n",
       "      <td>0.977861</td>\n",
       "      <td>1.155972</td>\n",
       "      <td>-1.338576</td>\n",
       "      <td>0</td>\n",
       "      <td>0</td>\n",
       "      <td>[-40.058751, 296.866403, -176.242091, 0.210620...</td>\n",
       "    </tr>\n",
       "    <tr>\n",
       "      <th>788</th>\n",
       "      <td>788</td>\n",
       "      <td>5</td>\n",
       "      <td>5</td>\n",
       "      <td>2747961.339</td>\n",
       "      <td>0.108</td>\n",
       "      <td>1.479181</td>\n",
       "      <td>0.935113</td>\n",
       "      <td>0.810832</td>\n",
       "      <td>0</td>\n",
       "      <td>1</td>\n",
       "      <td>[-324.260894, -206.604814, -296.024824, 0.5543...</td>\n",
       "    </tr>\n",
       "    <tr>\n",
       "      <th>789</th>\n",
       "      <td>789</td>\n",
       "      <td>3</td>\n",
       "      <td>3</td>\n",
       "      <td>2749812.661</td>\n",
       "      <td>0.159</td>\n",
       "      <td>11.063263</td>\n",
       "      <td>1.047426</td>\n",
       "      <td>-0.908926</td>\n",
       "      <td>7</td>\n",
       "      <td>1</td>\n",
       "      <td>[35.301668, -266.874281, 349.99992, 0.532323, ...</td>\n",
       "    </tr>\n",
       "    <tr>\n",
       "      <th>790</th>\n",
       "      <td>790</td>\n",
       "      <td>3</td>\n",
       "      <td>3</td>\n",
       "      <td>2751128.156</td>\n",
       "      <td>1.404</td>\n",
       "      <td>22.249466</td>\n",
       "      <td>1.518808</td>\n",
       "      <td>0.811632</td>\n",
       "      <td>3</td>\n",
       "      <td>1</td>\n",
       "      <td>[-150.318567, 127.035557, -274.13949, -0.68738...</td>\n",
       "    </tr>\n",
       "    <tr>\n",
       "      <th>791</th>\n",
       "      <td>791</td>\n",
       "      <td>8</td>\n",
       "      <td>8</td>\n",
       "      <td>2752773.395</td>\n",
       "      <td>0.908</td>\n",
       "      <td>1.475887</td>\n",
       "      <td>0.964406</td>\n",
       "      <td>-1.216885</td>\n",
       "      <td>4</td>\n",
       "      <td>1</td>\n",
       "      <td>[-238.875, 16.5375, -166.75, 0.28478, -0.77078...</td>\n",
       "    </tr>\n",
       "  </tbody>\n",
       "</table>\n",
       "<p>792 rows × 11 columns</p>\n",
       "</div>"
      ],
      "text/plain": [
       "     Cluster  Events  Channels    StartTime  TimeSpread      NRMSE    Zenith  \\\n",
       "0          0       7         7     5116.891       0.490   0.867837  0.433943   \n",
       "1          1       6         6     7194.337       0.502   0.842118  0.376921   \n",
       "2          2       3         3    11053.761       0.245   1.628516  0.903919   \n",
       "3          3       4         4    11157.184       0.275   1.785070  0.948373   \n",
       "4          4       4         4    12736.217       0.201   1.785070  0.948373   \n",
       "..       ...     ...       ...          ...         ...        ...       ...   \n",
       "787      787       8         8  2747006.328       0.537   0.977861  1.155972   \n",
       "788      788       5         5  2747961.339       0.108   1.479181  0.935113   \n",
       "789      789       3         3  2749812.661       0.159  11.063263  1.047426   \n",
       "790      790       3         3  2751128.156       1.404  22.249466  1.518808   \n",
       "791      791       8         8  2752773.395       0.908   1.475887  0.964406   \n",
       "\n",
       "      Azimuth  ExtraCh  MissingCh  \\\n",
       "0   -0.226029        1          0   \n",
       "1   -0.208642        0          0   \n",
       "2   -0.743553        0          0   \n",
       "3   -0.743193        0          1   \n",
       "4   -0.743193        0          1   \n",
       "..        ...      ...        ...   \n",
       "787 -1.338576        0          0   \n",
       "788  0.810832        0          1   \n",
       "789 -0.908926        7          1   \n",
       "790  0.811632        3          1   \n",
       "791 -1.216885        4          1   \n",
       "\n",
       "                                               Fitline  \n",
       "0    [-289.674793, -116.284249, -278.613511, 0.4097...  \n",
       "1    [136.913053, 50.8873995, 294.053676, 0.3600774...  \n",
       "2    [-328.26624124, -162.76125024, 156.58778863, 0...  \n",
       "3    [-256.314846, -228.370926, 89.618037, -0.59823...  \n",
       "4    [-256.314846, -228.370926, 89.618037, -0.59823...  \n",
       "..                                                 ...  \n",
       "787  [-40.058751, 296.866403, -176.242091, 0.210620...  \n",
       "788  [-324.260894, -206.604814, -296.024824, 0.5543...  \n",
       "789  [35.301668, -266.874281, 349.99992, 0.532323, ...  \n",
       "790  [-150.318567, 127.035557, -274.13949, -0.68738...  \n",
       "791  [-238.875, 16.5375, -166.75, 0.28478, -0.77078...  \n",
       "\n",
       "[792 rows x 11 columns]"
      ]
     },
     "execution_count": 13,
     "metadata": {},
     "output_type": "execute_result"
    }
   ],
   "source": [
    "load.get_clusterdf()"
   ]
  },
  {
   "cell_type": "code",
   "execution_count": null,
   "metadata": {},
   "outputs": [],
   "source": [
    "data = testDataAnalysis()\n",
    "data.set_eventdf(mc.get_eventdf())\n",
    "\n",
    "start = time.time()\n",
    "\n",
    "data.make_clusterdf(pop_num=50, gen_num=250, verbose=False)\n",
    "print('run time: ' + str(time.time() - start))\n",
    "\n",
    "data.get_clusterdf()"
   ]
  },
  {
   "cell_type": "code",
   "execution_count": null,
   "metadata": {},
   "outputs": [],
   "source": []
  },
  {
   "cell_type": "code",
   "execution_count": null,
   "metadata": {},
   "outputs": [],
   "source": [
    "data.get_cluster(19)"
   ]
  },
  {
   "cell_type": "code",
   "execution_count": null,
   "metadata": {},
   "outputs": [],
   "source": [
    "load.show_cluster(12, 15, 90)"
   ]
  },
  {
   "cell_type": "code",
   "execution_count": null,
   "metadata": {},
   "outputs": [],
   "source": [
    "#cluster = da1.get_eventdf()[~np.isnan(da1.get_eventdf()['PathLength'].values)]\n",
    "c = 19\n",
    "\n",
    "df = data.get_cluster(c)[data.get_cluster(c)['Hit'] == True]\n",
    "\n",
    "plt.scatter(df['PathLength'], df['SelectedEnergy'])\n",
    "\n",
    "x = df['PathLength'][:,np.newaxis]            \n",
    "y = df['SelectedEnergy']\n",
    "\n",
    "slope, _, _, _ = np.linalg.lstsq(x, y.values)\n",
    "m = slope[0]\n",
    "\n",
    "f = np.poly1d([m,0])\n",
    "\n",
    "r2 = r2_score(y, df['PathLength'].values * m)\n",
    "\n",
    "#slope, intercept, r_value, p_value, std_err = stats.linregress(df['PathLength'], df['SelectedEnergy'])\n",
    "print(m)\n",
    "print(r2)\n",
    "print()\n",
    "\n",
    "array = plt.plot(np.linspace(0,60,10), f(np.linspace(0,60,10)))\n",
    "\n",
    "\n",
    "\n",
    "'''\n",
    "plt.figure()\n",
    "\n",
    "df = mc.get_cluster(c)[mc.get_cluster(c)['Hit'] == True]\n",
    "\n",
    "plt.scatter(df['PathLength'], df['SelectedEnergy'])\n",
    "\n",
    "slope, intercept, r_value, p_value, std_err = stats.linregress(df['PathLength'], df['SelectedEnergy'])\n",
    "print(r_value**2)\n",
    "print(slope)\n",
    "print(intercept)\n",
    "print(std_err)\n",
    "\n",
    "plt.plot(np.linspace(0,60,10), np.linspace(0,60,10) * slope + intercept)\n",
    "'''\n",
    "\n",
    "print()"
   ]
  },
  {
   "cell_type": "code",
   "execution_count": null,
   "metadata": {},
   "outputs": [],
   "source": [
    "b = np.arange(6)"
   ]
  },
  {
   "cell_type": "code",
   "execution_count": null,
   "metadata": {},
   "outputs": [],
   "source": [
    "b[np.newaxis].T[:3]"
   ]
  },
  {
   "cell_type": "code",
   "execution_count": null,
   "metadata": {},
   "outputs": [],
   "source": [
    "b[np.newaxis].T[3:]"
   ]
  },
  {
   "cell_type": "code",
   "execution_count": null,
   "metadata": {},
   "outputs": [],
   "source": [
    "inside = 50/2*np.sqrt(3)\n",
    "hitlist = [16.43587724, 31.09163355, 36.81796376 ,27.57519066, 21.19238015 ,32.55493693,\n",
    " 16.91716155,29.58457112, 36.27159523, 22.21526205, 35.07915558, 21.27645207,\n",
    " 30.55399903 ,29.05623664]"
   ]
  },
  {
   "cell_type": "code",
   "execution_count": null,
   "metadata": {},
   "outputs": [],
   "source": [
    "linecost =  ([1/(1 + np.exp(-.2*(d-inside))) for d in hitlist]) "
   ]
  },
  {
   "cell_type": "code",
   "execution_count": null,
   "metadata": {},
   "outputs": [],
   "source": [
    "linecost"
   ]
  },
  {
   "cell_type": "code",
   "execution_count": null,
   "metadata": {},
   "outputs": [],
   "source": [
    "np.sum(linecost)"
   ]
  },
  {
   "cell_type": "code",
   "execution_count": null,
   "metadata": {},
   "outputs": [],
   "source": []
  },
  {
   "cell_type": "code",
   "execution_count": null,
   "metadata": {},
   "outputs": [],
   "source": [
    "da1 = testDataAnalysis()\n",
    "da1.load_data()\n",
    "\n",
    "array = plt.hist(da1.get_eventdf()['StabAmp'], np.linspace(0,50000,1000))\n",
    "plt.yscale(\"log\")\n",
    "\n",
    "da1.eventdf = da1.eventdf[(da1.eventdf['Baseline'] + da1.eventdf['MaxToBaseline']) > 9000]\n",
    "#da1.filter_baseline()\n",
    "\n",
    "plt.figure()\n",
    "array = plt.hist(da1.get_eventdf()['StabAmp'], np.linspace(0,50000,1000))\n",
    "plt.yscale(\"log\")"
   ]
  },
  {
   "cell_type": "code",
   "execution_count": null,
   "metadata": {},
   "outputs": [],
   "source": [
    "da1 = testDataAnalysis()\n",
    "da1.load_data()\n",
    "\n",
    "array = plt.hist(da1.get_eventdf()['SelectedEnergy'], np.linspace(0,50000,1000))\n",
    "plt.yscale(\"log\")\n",
    "\n",
    "da1.eventdf = da1.eventdf[(da1.eventdf['Baseline'] + da1.eventdf['MaxToBaseline']) > 9000]\n",
    "#da1.filter_baseline()\n",
    "\n",
    "plt.figure()\n",
    "array = plt.hist(da1.get_eventdf()['SelectedEnergy'], np.linspace(0,50000,1000))\n",
    "plt.yscale(\"log\")"
   ]
  },
  {
   "cell_type": "code",
   "execution_count": null,
   "metadata": {},
   "outputs": [],
   "source": [
    "da1.eventdf = da1.eventdf[(da1.eventdf['Baseline'] + da1.eventdf['MaxToBaseline']) > 9000]"
   ]
  },
  {
   "cell_type": "code",
   "execution_count": null,
   "metadata": {},
   "outputs": [],
   "source": []
  },
  {
   "cell_type": "code",
   "execution_count": null,
   "metadata": {},
   "outputs": [],
   "source": [
    "%run new_DataAnalysis.ipynb\n",
    "test = testDataAnalysis()\n",
    "test.load_data()\n",
    "test.filter_baseline()\n",
    "test.arrange_clusters(5, 1.0)\n"
   ]
  },
  {
   "cell_type": "code",
   "execution_count": null,
   "metadata": {},
   "outputs": [],
   "source": [
    "test.make_clusterdf(basicfit=True)"
   ]
  },
  {
   "cell_type": "code",
   "execution_count": null,
   "metadata": {},
   "outputs": [],
   "source": [
    "test.filter_fit(3.5, 5)\n",
    "test.get_clusterdf()[test.get_clusterdf()['MissingCh'] < 2]"
   ]
  },
  {
   "cell_type": "code",
   "execution_count": null,
   "metadata": {},
   "outputs": [],
   "source": [
    "test.show_cluster(945)"
   ]
  },
  {
   "cell_type": "code",
   "execution_count": null,
   "metadata": {},
   "outputs": [],
   "source": [
    "array = plt.hist(test.get_eventdf()['StabAmp'], np.linspace(0,50000,1000))\n",
    "plt.yscale(\"log\")\n",
    "\n",
    "plt.figure()\n",
    "\n",
    "array = plt.hist(test.get_eventdf()['SelectedEnergy'], np.linspace(0,50000,1000))\n",
    "plt.yscale(\"log\")"
   ]
  },
  {
   "cell_type": "code",
   "execution_count": null,
   "metadata": {},
   "outputs": [],
   "source": [
    "%run new_DataAnalysis.ipynb\n",
    "make = testDataAnalysis()\n",
    "make.set_eventdf(test.get_cluster(945))\n",
    "make.make_clusterdf(pop_num=50, gen_num=250, verbose=True)"
   ]
  },
  {
   "cell_type": "code",
   "execution_count": null,
   "metadata": {},
   "outputs": [],
   "source": [
    "make.get_clusterdf()"
   ]
  },
  {
   "cell_type": "code",
   "execution_count": null,
   "metadata": {},
   "outputs": [],
   "source": [
    "make.show_cluster(945)"
   ]
  },
  {
   "cell_type": "code",
   "execution_count": null,
   "metadata": {},
   "outputs": [],
   "source": [
    "#cluster = da1.get_eventdf()[~np.isnan(da1.get_eventdf()['PathLength'].values)]\n",
    "c = 945\n",
    "\n",
    "df = make.get_cluster(c)[make.get_cluster(c)['Hit'] == True]\n",
    "\n",
    "plt.scatter(df['PathLength'], df['SelectedEnergy'])\n",
    "\n",
    "x = df['PathLength'][:,np.newaxis]            \n",
    "y = df['SelectedEnergy']\n",
    "\n",
    "slope, _, _, _ = np.linalg.lstsq(x, y.values)\n",
    "m = slope[0]\n",
    "\n",
    "f = np.poly1d([m,0])\n",
    "\n",
    "r2 = r2_score(y, df['PathLength'].values * m)\n",
    "\n",
    "#slope, intercept, r_value, p_value, std_err = stats.linregress(df['PathLength'], df['SelectedEnergy'])\n",
    "print(m)\n",
    "print(r2)\n",
    "print()\n",
    "\n",
    "array = plt.plot(np.linspace(0,60,10), f(np.linspace(0,60,10)))\n",
    "\n",
    "\n"
   ]
  },
  {
   "cell_type": "code",
   "execution_count": null,
   "metadata": {},
   "outputs": [],
   "source": [
    " test.show_cluster(25)"
   ]
  },
  {
   "cell_type": "code",
   "execution_count": null,
   "metadata": {},
   "outputs": [],
   "source": [
    "%run DataAnalysis.ipynb\n",
    "thing = DataAnalysis()\n",
    "thing.set_eventdf(test.get_cluster(40))\n",
    "thing.make_clusterdf(pop_num=50, gen_num=300)\n",
    "thing.get_clusterdf()"
   ]
  },
  {
   "cell_type": "code",
   "execution_count": null,
   "metadata": {},
   "outputs": [],
   "source": []
  },
  {
   "cell_type": "code",
   "execution_count": null,
   "metadata": {},
   "outputs": [],
   "source": [
    "%run new_DataAnalysis.ipynb\n",
    "channels = testDataAnalysis()\n",
    "channels.load_data()\n",
    "#channels.noisychannels()\n",
    "#channels.deadchannels()\n",
    "channels.load_errorchannels()"
   ]
  },
  {
   "cell_type": "code",
   "execution_count": null,
   "metadata": {},
   "outputs": [],
   "source": [
    "channels.noisy"
   ]
  },
  {
   "cell_type": "code",
   "execution_count": null,
   "metadata": {},
   "outputs": [],
   "source": [
    "channels.dead"
   ]
  },
  {
   "cell_type": "code",
   "execution_count": null,
   "metadata": {},
   "outputs": [],
   "source": [
    "channels.get_eventdf()"
   ]
  },
  {
   "cell_type": "code",
   "execution_count": null,
   "metadata": {},
   "outputs": [],
   "source": []
  },
  {
   "cell_type": "code",
   "execution_count": null,
   "metadata": {},
   "outputs": [],
   "source": [
    "class Person(object):     \n",
    "    def __init__(self, name):         \n",
    "        self.name = name     \n",
    "    def say(self, stuff):         \n",
    "        return self.name + ' says: ' + stuff     \n",
    "    def __str__(self):         \n",
    "        return self.name  \n",
    "\n",
    "class Lecturer(Person):     \n",
    "    def lecture(self, stuff):         \n",
    "        return 'I believe that ' + Person.say(self, stuff)  \n",
    "\n",
    "class Professor(Lecturer): \n",
    "    def say(self, stuff): \n",
    "        return self.name + ' says: ' + self.lecture(stuff)\n",
    "\n",
    "class ArrogantProfessor(Professor): \n",
    "    def lecture(self, stuff): \n",
    "        return 'It is obvious that ' + Lecturer.lecture(self, stuff)"
   ]
  },
  {
   "cell_type": "code",
   "execution_count": null,
   "metadata": {},
   "outputs": [],
   "source": [
    "ae = ArrogantProfessor(\"eric\")\n",
    "ae.say(\"stuff\")"
   ]
  },
  {
   "cell_type": "code",
   "execution_count": null,
   "metadata": {},
   "outputs": [],
   "source": [
    "    best_run = []\n",
    "    run = []\n",
    "    run_type = None\n",
    "    \n",
    "    for i in L:\n",
    "        \n",
    "        if len(run) == 0:\n",
    "            run.append(i)\n",
    "            \n",
    "        elif run_type is None:\n",
    "            if i > run[-1]:\n",
    "                run_type = \"inc\"\n",
    "            elif i < run[-1]:\n",
    "                run_type = \"dec\"\n",
    "            run.append(i)\n",
    "    \n",
    "        else:\n",
    "            #print(run)\n",
    "            #print(best_run)\n",
    "            #print(run_type)\n",
    "            #print()\n",
    "            \n",
    "            if run_type == \"inc\" and i >= run[-1]:\n",
    "                run.append(i)\n",
    "            elif run_type == \"dec\" and i <= run[-1]:\n",
    "                run.append(i)\n",
    "            else:\n",
    "                \n",
    "                if len(run) > len(best_run):\n",
    "                    best_run = run\n",
    "                run = [i]\n",
    "                run_type = None\n",
    "    \n",
    "    if len(run) > len(best_run):\n",
    "        best_run = run\n",
    "        \n",
    "    return sum(best_run)\n",
    "        "
   ]
  }
 ],
 "metadata": {
  "kernelspec": {
   "display_name": "Python 3",
   "language": "python",
   "name": "python3"
  },
  "language_info": {
   "codemirror_mode": {
    "name": "ipython",
    "version": 3
   },
   "file_extension": ".py",
   "mimetype": "text/x-python",
   "name": "python",
   "nbconvert_exporter": "python",
   "pygments_lexer": "ipython3",
   "version": "3.9.1"
  }
 },
 "nbformat": 4,
 "nbformat_minor": 4
}
